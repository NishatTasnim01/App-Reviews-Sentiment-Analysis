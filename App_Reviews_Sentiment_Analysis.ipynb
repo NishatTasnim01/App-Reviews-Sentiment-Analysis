{
  "nbformat": 4,
  "nbformat_minor": 0,
  "metadata": {
    "colab": {
      "provenance": [],
      "authorship_tag": "ABX9TyNE3AOL3gjAQLZwaa16kBtp",
      "include_colab_link": true
    },
    "kernelspec": {
      "name": "python3",
      "display_name": "Python 3"
    },
    "language_info": {
      "name": "python"
    }
  },
  "cells": [
    {
      "cell_type": "markdown",
      "metadata": {
        "id": "view-in-github",
        "colab_type": "text"
      },
      "source": [
        "<a href=\"https://colab.research.google.com/github/NishatTasnim01/App-Reviews-Sentiment-Analysis/blob/main/App_Reviews_Sentiment_Analysis.ipynb\" target=\"_parent\"><img src=\"https://colab.research.google.com/assets/colab-badge.svg\" alt=\"Open In Colab\"/></a>"
      ]
    },
    {
      "cell_type": "markdown",
      "source": [
        "# **NLP Project : Sentiment Analysis on Google PlayStore App Reviews**"
      ],
      "metadata": {
        "id": "xzrkvzRSsGtC"
      }
    },
    {
      "cell_type": "code",
      "execution_count": null,
      "metadata": {
        "id": "ISFNp4eHPjol"
      },
      "outputs": [],
      "source": [
        "import pandas as pd\n",
        "import matplotlib.pyplot as plt\n",
        "import seaborn as sns\n",
        "\n",
        "#import warnings\n",
        "#warnings.filterwarnings('ignore')"
      ]
    },
    {
      "cell_type": "code",
      "source": [
        "import nltk\n",
        "from nltk.corpus import stopwords\n",
        "from nltk.stem import PorterStemmer, LancasterStemmer\n",
        "from nltk.tokenize import sent_tokenize, word_tokenize, RegexpTokenizer"
      ],
      "metadata": {
        "id": "lVAK0VjtQLA1"
      },
      "execution_count": null,
      "outputs": []
    },
    {
      "cell_type": "code",
      "source": [
        "from collections import Counter"
      ],
      "metadata": {
        "id": "sx2Nv6KVQxGu"
      },
      "execution_count": null,
      "outputs": []
    },
    {
      "cell_type": "code",
      "source": [
        "from sklearn.metrics import accuracy_score\n",
        "from sklearn.linear_model import LogisticRegression\n",
        "from sklearn.model_selection import train_test_split\n",
        "from sklearn.feature_extraction.text import CountVectorizer, TfidfVectorizer\n",
        "\n",
        "%matplotlib inline"
      ],
      "metadata": {
        "id": "jabXDWBiRLHF"
      },
      "execution_count": null,
      "outputs": []
    },
    {
      "cell_type": "code",
      "source": [
        "import pickle"
      ],
      "metadata": {
        "id": "R3pmshPASWv9"
      },
      "execution_count": null,
      "outputs": []
    },
    {
      "cell_type": "markdown",
      "source": [
        "## **Section 1. Part a. Load and Understanding the Dataset**"
      ],
      "metadata": {
        "id": "DXmCWqWYbONA"
      }
    },
    {
      "cell_type": "code",
      "source": [
        "# load the data\n",
        "data = pd.read_excel(\"Canva_reviews.xlsx\")"
      ],
      "metadata": {
        "id": "1-x1KIz4SmE0"
      },
      "execution_count": null,
      "outputs": []
    },
    {
      "cell_type": "code",
      "source": [
        "# take a peak at data\n",
        "data.head(3)"
      ],
      "metadata": {
        "colab": {
          "base_uri": "https://localhost:8080/",
          "height": 476
        },
        "id": "rkAG43JfSsS7",
        "outputId": "35b9110e-61f2-444a-b1cd-16693188d2de"
      },
      "execution_count": null,
      "outputs": [
        {
          "output_type": "execute_result",
          "data": {
            "text/plain": [
              "                                            reviewId            userName  \\\n",
              "0  gp:AOqpTOFxf3fttcT5DSvFIn9KPp5FErgH9yC533Fmoxv...      Donna Caritero   \n",
              "1  gp:AOqpTOEq6rNIWLnPV4KFTctWvm0mpGEQljtD6mvy1H-...  Soumi Mukhopadhyay   \n",
              "2  gp:AOqpTOE86hSyPRHZgYt28Uk5zGe4FZGb1hkmtFDiYJ2...   Theknown _unknown   \n",
              "\n",
              "                                           userImage  \\\n",
              "0  https://play-lh.googleusercontent.com/a-/AOh14...   \n",
              "1  https://play-lh.googleusercontent.com/a-/AOh14...   \n",
              "2  https://play-lh.googleusercontent.com/a-/AOh14...   \n",
              "\n",
              "                                              review  score  thumbsUpCount  \\\n",
              "0  Overall it's really an amazing app. I've been ...      4            528   \n",
              "1  Hey! Yes I gave a 5 star rating... coz I belie...      5            351   \n",
              "2  Canva used to be a good app! But recently I've...      1            160   \n",
              "\n",
              "  reviewCreatedVersion                  at  \\\n",
              "0              2.116.0 2021-06-17 07:18:54   \n",
              "1              2.116.0 2021-06-17 19:18:28   \n",
              "2              2.116.0 2021-06-23 19:13:28   \n",
              "\n",
              "                                        replyContent           repliedAt  \\\n",
              "0  Hi Donna. We are sorry that your text or desig... 2021-06-19 21:24:32   \n",
              "1                                                NaN                 NaT   \n",
              "2  Hi there. We're sorry to hear that you are hav... 2021-06-26 20:20:56   \n",
              "\n",
              "  Sentiment              Sub Category    Sub Category_test  \n",
              "0  Negative                       NaN  bug_picture_quality  \n",
              "1  Positive           extremely_happy                  NaN  \n",
              "2  Negative  saving_downloading_issue     bug_saving_files  "
            ],
            "text/html": [
              "\n",
              "  <div id=\"df-64515d6b-5b06-4020-9d3e-709cd225913d\" class=\"colab-df-container\">\n",
              "    <div>\n",
              "<style scoped>\n",
              "    .dataframe tbody tr th:only-of-type {\n",
              "        vertical-align: middle;\n",
              "    }\n",
              "\n",
              "    .dataframe tbody tr th {\n",
              "        vertical-align: top;\n",
              "    }\n",
              "\n",
              "    .dataframe thead th {\n",
              "        text-align: right;\n",
              "    }\n",
              "</style>\n",
              "<table border=\"1\" class=\"dataframe\">\n",
              "  <thead>\n",
              "    <tr style=\"text-align: right;\">\n",
              "      <th></th>\n",
              "      <th>reviewId</th>\n",
              "      <th>userName</th>\n",
              "      <th>userImage</th>\n",
              "      <th>review</th>\n",
              "      <th>score</th>\n",
              "      <th>thumbsUpCount</th>\n",
              "      <th>reviewCreatedVersion</th>\n",
              "      <th>at</th>\n",
              "      <th>replyContent</th>\n",
              "      <th>repliedAt</th>\n",
              "      <th>Sentiment</th>\n",
              "      <th>Sub Category</th>\n",
              "      <th>Sub Category_test</th>\n",
              "    </tr>\n",
              "  </thead>\n",
              "  <tbody>\n",
              "    <tr>\n",
              "      <th>0</th>\n",
              "      <td>gp:AOqpTOFxf3fttcT5DSvFIn9KPp5FErgH9yC533Fmoxv...</td>\n",
              "      <td>Donna Caritero</td>\n",
              "      <td>https://play-lh.googleusercontent.com/a-/AOh14...</td>\n",
              "      <td>Overall it's really an amazing app. I've been ...</td>\n",
              "      <td>4</td>\n",
              "      <td>528</td>\n",
              "      <td>2.116.0</td>\n",
              "      <td>2021-06-17 07:18:54</td>\n",
              "      <td>Hi Donna. We are sorry that your text or desig...</td>\n",
              "      <td>2021-06-19 21:24:32</td>\n",
              "      <td>Negative</td>\n",
              "      <td>NaN</td>\n",
              "      <td>bug_picture_quality</td>\n",
              "    </tr>\n",
              "    <tr>\n",
              "      <th>1</th>\n",
              "      <td>gp:AOqpTOEq6rNIWLnPV4KFTctWvm0mpGEQljtD6mvy1H-...</td>\n",
              "      <td>Soumi Mukhopadhyay</td>\n",
              "      <td>https://play-lh.googleusercontent.com/a-/AOh14...</td>\n",
              "      <td>Hey! Yes I gave a 5 star rating... coz I belie...</td>\n",
              "      <td>5</td>\n",
              "      <td>351</td>\n",
              "      <td>2.116.0</td>\n",
              "      <td>2021-06-17 19:18:28</td>\n",
              "      <td>NaN</td>\n",
              "      <td>NaT</td>\n",
              "      <td>Positive</td>\n",
              "      <td>extremely_happy</td>\n",
              "      <td>NaN</td>\n",
              "    </tr>\n",
              "    <tr>\n",
              "      <th>2</th>\n",
              "      <td>gp:AOqpTOE86hSyPRHZgYt28Uk5zGe4FZGb1hkmtFDiYJ2...</td>\n",
              "      <td>Theknown _unknown</td>\n",
              "      <td>https://play-lh.googleusercontent.com/a-/AOh14...</td>\n",
              "      <td>Canva used to be a good app! But recently I've...</td>\n",
              "      <td>1</td>\n",
              "      <td>160</td>\n",
              "      <td>2.116.0</td>\n",
              "      <td>2021-06-23 19:13:28</td>\n",
              "      <td>Hi there. We're sorry to hear that you are hav...</td>\n",
              "      <td>2021-06-26 20:20:56</td>\n",
              "      <td>Negative</td>\n",
              "      <td>saving_downloading_issue</td>\n",
              "      <td>bug_saving_files</td>\n",
              "    </tr>\n",
              "  </tbody>\n",
              "</table>\n",
              "</div>\n",
              "    <div class=\"colab-df-buttons\">\n",
              "\n",
              "  <div class=\"colab-df-container\">\n",
              "    <button class=\"colab-df-convert\" onclick=\"convertToInteractive('df-64515d6b-5b06-4020-9d3e-709cd225913d')\"\n",
              "            title=\"Convert this dataframe to an interactive table.\"\n",
              "            style=\"display:none;\">\n",
              "\n",
              "  <svg xmlns=\"http://www.w3.org/2000/svg\" height=\"24px\" viewBox=\"0 -960 960 960\">\n",
              "    <path d=\"M120-120v-720h720v720H120Zm60-500h600v-160H180v160Zm220 220h160v-160H400v160Zm0 220h160v-160H400v160ZM180-400h160v-160H180v160Zm440 0h160v-160H620v160ZM180-180h160v-160H180v160Zm440 0h160v-160H620v160Z\"/>\n",
              "  </svg>\n",
              "    </button>\n",
              "\n",
              "  <style>\n",
              "    .colab-df-container {\n",
              "      display:flex;\n",
              "      gap: 12px;\n",
              "    }\n",
              "\n",
              "    .colab-df-convert {\n",
              "      background-color: #E8F0FE;\n",
              "      border: none;\n",
              "      border-radius: 50%;\n",
              "      cursor: pointer;\n",
              "      display: none;\n",
              "      fill: #1967D2;\n",
              "      height: 32px;\n",
              "      padding: 0 0 0 0;\n",
              "      width: 32px;\n",
              "    }\n",
              "\n",
              "    .colab-df-convert:hover {\n",
              "      background-color: #E2EBFA;\n",
              "      box-shadow: 0px 1px 2px rgba(60, 64, 67, 0.3), 0px 1px 3px 1px rgba(60, 64, 67, 0.15);\n",
              "      fill: #174EA6;\n",
              "    }\n",
              "\n",
              "    .colab-df-buttons div {\n",
              "      margin-bottom: 4px;\n",
              "    }\n",
              "\n",
              "    [theme=dark] .colab-df-convert {\n",
              "      background-color: #3B4455;\n",
              "      fill: #D2E3FC;\n",
              "    }\n",
              "\n",
              "    [theme=dark] .colab-df-convert:hover {\n",
              "      background-color: #434B5C;\n",
              "      box-shadow: 0px 1px 3px 1px rgba(0, 0, 0, 0.15);\n",
              "      filter: drop-shadow(0px 1px 2px rgba(0, 0, 0, 0.3));\n",
              "      fill: #FFFFFF;\n",
              "    }\n",
              "  </style>\n",
              "\n",
              "    <script>\n",
              "      const buttonEl =\n",
              "        document.querySelector('#df-64515d6b-5b06-4020-9d3e-709cd225913d button.colab-df-convert');\n",
              "      buttonEl.style.display =\n",
              "        google.colab.kernel.accessAllowed ? 'block' : 'none';\n",
              "\n",
              "      async function convertToInteractive(key) {\n",
              "        const element = document.querySelector('#df-64515d6b-5b06-4020-9d3e-709cd225913d');\n",
              "        const dataTable =\n",
              "          await google.colab.kernel.invokeFunction('convertToInteractive',\n",
              "                                                    [key], {});\n",
              "        if (!dataTable) return;\n",
              "\n",
              "        const docLinkHtml = 'Like what you see? Visit the ' +\n",
              "          '<a target=\"_blank\" href=https://colab.research.google.com/notebooks/data_table.ipynb>data table notebook</a>'\n",
              "          + ' to learn more about interactive tables.';\n",
              "        element.innerHTML = '';\n",
              "        dataTable['output_type'] = 'display_data';\n",
              "        await google.colab.output.renderOutput(dataTable, element);\n",
              "        const docLink = document.createElement('div');\n",
              "        docLink.innerHTML = docLinkHtml;\n",
              "        element.appendChild(docLink);\n",
              "      }\n",
              "    </script>\n",
              "  </div>\n",
              "\n",
              "\n",
              "<div id=\"df-1b0b21ad-53c5-4de7-aadf-b01dd07ee6cf\">\n",
              "  <button class=\"colab-df-quickchart\" onclick=\"quickchart('df-1b0b21ad-53c5-4de7-aadf-b01dd07ee6cf')\"\n",
              "            title=\"Suggest charts\"\n",
              "            style=\"display:none;\">\n",
              "\n",
              "<svg xmlns=\"http://www.w3.org/2000/svg\" height=\"24px\"viewBox=\"0 0 24 24\"\n",
              "     width=\"24px\">\n",
              "    <g>\n",
              "        <path d=\"M19 3H5c-1.1 0-2 .9-2 2v14c0 1.1.9 2 2 2h14c1.1 0 2-.9 2-2V5c0-1.1-.9-2-2-2zM9 17H7v-7h2v7zm4 0h-2V7h2v10zm4 0h-2v-4h2v4z\"/>\n",
              "    </g>\n",
              "</svg>\n",
              "  </button>\n",
              "\n",
              "<style>\n",
              "  .colab-df-quickchart {\n",
              "      --bg-color: #E8F0FE;\n",
              "      --fill-color: #1967D2;\n",
              "      --hover-bg-color: #E2EBFA;\n",
              "      --hover-fill-color: #174EA6;\n",
              "      --disabled-fill-color: #AAA;\n",
              "      --disabled-bg-color: #DDD;\n",
              "  }\n",
              "\n",
              "  [theme=dark] .colab-df-quickchart {\n",
              "      --bg-color: #3B4455;\n",
              "      --fill-color: #D2E3FC;\n",
              "      --hover-bg-color: #434B5C;\n",
              "      --hover-fill-color: #FFFFFF;\n",
              "      --disabled-bg-color: #3B4455;\n",
              "      --disabled-fill-color: #666;\n",
              "  }\n",
              "\n",
              "  .colab-df-quickchart {\n",
              "    background-color: var(--bg-color);\n",
              "    border: none;\n",
              "    border-radius: 50%;\n",
              "    cursor: pointer;\n",
              "    display: none;\n",
              "    fill: var(--fill-color);\n",
              "    height: 32px;\n",
              "    padding: 0;\n",
              "    width: 32px;\n",
              "  }\n",
              "\n",
              "  .colab-df-quickchart:hover {\n",
              "    background-color: var(--hover-bg-color);\n",
              "    box-shadow: 0 1px 2px rgba(60, 64, 67, 0.3), 0 1px 3px 1px rgba(60, 64, 67, 0.15);\n",
              "    fill: var(--button-hover-fill-color);\n",
              "  }\n",
              "\n",
              "  .colab-df-quickchart-complete:disabled,\n",
              "  .colab-df-quickchart-complete:disabled:hover {\n",
              "    background-color: var(--disabled-bg-color);\n",
              "    fill: var(--disabled-fill-color);\n",
              "    box-shadow: none;\n",
              "  }\n",
              "\n",
              "  .colab-df-spinner {\n",
              "    border: 2px solid var(--fill-color);\n",
              "    border-color: transparent;\n",
              "    border-bottom-color: var(--fill-color);\n",
              "    animation:\n",
              "      spin 1s steps(1) infinite;\n",
              "  }\n",
              "\n",
              "  @keyframes spin {\n",
              "    0% {\n",
              "      border-color: transparent;\n",
              "      border-bottom-color: var(--fill-color);\n",
              "      border-left-color: var(--fill-color);\n",
              "    }\n",
              "    20% {\n",
              "      border-color: transparent;\n",
              "      border-left-color: var(--fill-color);\n",
              "      border-top-color: var(--fill-color);\n",
              "    }\n",
              "    30% {\n",
              "      border-color: transparent;\n",
              "      border-left-color: var(--fill-color);\n",
              "      border-top-color: var(--fill-color);\n",
              "      border-right-color: var(--fill-color);\n",
              "    }\n",
              "    40% {\n",
              "      border-color: transparent;\n",
              "      border-right-color: var(--fill-color);\n",
              "      border-top-color: var(--fill-color);\n",
              "    }\n",
              "    60% {\n",
              "      border-color: transparent;\n",
              "      border-right-color: var(--fill-color);\n",
              "    }\n",
              "    80% {\n",
              "      border-color: transparent;\n",
              "      border-right-color: var(--fill-color);\n",
              "      border-bottom-color: var(--fill-color);\n",
              "    }\n",
              "    90% {\n",
              "      border-color: transparent;\n",
              "      border-bottom-color: var(--fill-color);\n",
              "    }\n",
              "  }\n",
              "</style>\n",
              "\n",
              "  <script>\n",
              "    async function quickchart(key) {\n",
              "      const quickchartButtonEl =\n",
              "        document.querySelector('#' + key + ' button');\n",
              "      quickchartButtonEl.disabled = true;  // To prevent multiple clicks.\n",
              "      quickchartButtonEl.classList.add('colab-df-spinner');\n",
              "      try {\n",
              "        const charts = await google.colab.kernel.invokeFunction(\n",
              "            'suggestCharts', [key], {});\n",
              "      } catch (error) {\n",
              "        console.error('Error during call to suggestCharts:', error);\n",
              "      }\n",
              "      quickchartButtonEl.classList.remove('colab-df-spinner');\n",
              "      quickchartButtonEl.classList.add('colab-df-quickchart-complete');\n",
              "    }\n",
              "    (() => {\n",
              "      let quickchartButtonEl =\n",
              "        document.querySelector('#df-1b0b21ad-53c5-4de7-aadf-b01dd07ee6cf button');\n",
              "      quickchartButtonEl.style.display =\n",
              "        google.colab.kernel.accessAllowed ? 'block' : 'none';\n",
              "    })();\n",
              "  </script>\n",
              "</div>\n",
              "\n",
              "    </div>\n",
              "  </div>\n"
            ],
            "application/vnd.google.colaboratory.intrinsic+json": {
              "type": "dataframe",
              "variable_name": "data",
              "summary": "{\n  \"name\": \"data\",\n  \"rows\": 1500,\n  \"fields\": [\n    {\n      \"column\": \"reviewId\",\n      \"properties\": {\n        \"dtype\": \"string\",\n        \"num_unique_values\": 1500,\n        \"samples\": [\n          \"gp:AOqpTOGCvl7EpTNT8Bpww2dwKH2FR7yQMBtUcMmCx3kRZzW7iGTvgAw9eqO-4d6OziisoJanCTqW_UAYTqWC4IU\",\n          \"gp:AOqpTOHHFDIwV9q33wBfRpebxVaY71-cNV2r2Lf941ZI4HGSZZ-eyCBvgn1z5bVTcDtwJyTZW1-LMCACM2jOUNE\",\n          \"gp:AOqpTOEcB2XOMGMSKEUAIZzKDYIg7WTVWAa-o2xQJKY_wlQvdNS0dgTa3mDE1llZhlo-mhuuCC2YFgmH-RfhPKY\"\n        ],\n        \"semantic_type\": \"\",\n        \"description\": \"\"\n      }\n    },\n    {\n      \"column\": \"userName\",\n      \"properties\": {\n        \"dtype\": \"string\",\n        \"num_unique_values\": 1500,\n        \"samples\": [\n          \"Smita Rai\",\n          \"Tammy Roy\",\n          \"Wentworth Derrick\"\n        ],\n        \"semantic_type\": \"\",\n        \"description\": \"\"\n      }\n    },\n    {\n      \"column\": \"userImage\",\n      \"properties\": {\n        \"dtype\": \"string\",\n        \"num_unique_values\": 1500,\n        \"samples\": [\n          \"https://play-lh.googleusercontent.com/a-/AOh14Gg-qrRJBHc-lE0sQFYut-dwN87LEWAUIKbv29hDhA\",\n          \"https://play-lh.googleusercontent.com/a-/AOh14GgwkSH0nuf5w3KBgb-cLyYorS65uAWesjOmxzOS\",\n          \"https://play-lh.googleusercontent.com/a-/AOh14Gj5cCVlkrpoKDw1Vv8wwQ-Ed_XazYoEioKGENQHRQ\"\n        ],\n        \"semantic_type\": \"\",\n        \"description\": \"\"\n      }\n    },\n    {\n      \"column\": \"review\",\n      \"properties\": {\n        \"dtype\": \"string\",\n        \"num_unique_values\": 1500,\n        \"samples\": [\n          \"Superb app lost of features just one problems is there that it is a bit expensive for students like us.\",\n          \"Loving how easy it is to get great ideas and turn them into something amazing! Thank you to the developers of this app!\",\n          \"Just what I've been looking for, very convenient for me.\"\n        ],\n        \"semantic_type\": \"\",\n        \"description\": \"\"\n      }\n    },\n    {\n      \"column\": \"score\",\n      \"properties\": {\n        \"dtype\": \"number\",\n        \"std\": 1,\n        \"min\": 1,\n        \"max\": 5,\n        \"num_unique_values\": 5,\n        \"samples\": [\n          5,\n          3,\n          1\n        ],\n        \"semantic_type\": \"\",\n        \"description\": \"\"\n      }\n    },\n    {\n      \"column\": \"thumbsUpCount\",\n      \"properties\": {\n        \"dtype\": \"number\",\n        \"std\": 18,\n        \"min\": 0,\n        \"max\": 528,\n        \"num_unique_values\": 26,\n        \"samples\": [\n          102,\n          10,\n          528\n        ],\n        \"semantic_type\": \"\",\n        \"description\": \"\"\n      }\n    },\n    {\n      \"column\": \"reviewCreatedVersion\",\n      \"properties\": {\n        \"dtype\": \"category\",\n        \"num_unique_values\": 23,\n        \"samples\": [\n          \"2.126.1\",\n          \"2.117.1\",\n          \"2.116.0\"\n        ],\n        \"semantic_type\": \"\",\n        \"description\": \"\"\n      }\n    },\n    {\n      \"column\": \"at\",\n      \"properties\": {\n        \"dtype\": \"date\",\n        \"min\": \"2021-06-16 15:54:36\",\n        \"max\": \"2021-09-13 21:43:15\",\n        \"num_unique_values\": 1500,\n        \"samples\": [\n          \"2021-07-21 10:37:38\",\n          \"2021-08-18 03:43:12\",\n          \"2021-07-05 14:44:08\"\n        ],\n        \"semantic_type\": \"\",\n        \"description\": \"\"\n      }\n    },\n    {\n      \"column\": \"replyContent\",\n      \"properties\": {\n        \"dtype\": \"category\",\n        \"num_unique_values\": 457,\n        \"samples\": [\n          \"Hi Gerald, we're sorry if your unable to download or share your designs. We want to make sure that you are properly assisted if you encountered any issues. Please provide us more details through here: canva.me/android. Don't forget to check for updates to get all the functionality of the app. - Lou\",\n          \"Hello Philemon, thank you for trying out Canva. We believe designing should be easy and fun. You can always visit support.canva.com and https://bit.ly/3ijoPpY for some quick guides through the app. Please make sure to update the app to get its full features. For concerns, reach us at canva.me/android. - Mary\\n\",\n          \"Hello Sujata, thank you for reaching out. We\\u2019re sorry to hear that you\\u2019re having trouble opening the application. Try to restart the device, clear the cache, and make sure you are connected to a good WiFi. We also suggest that you keep the app updated. If the problem persists, please contact us via canva.me/android. - Cynch\"\n        ],\n        \"semantic_type\": \"\",\n        \"description\": \"\"\n      }\n    },\n    {\n      \"column\": \"repliedAt\",\n      \"properties\": {\n        \"dtype\": \"date\",\n        \"min\": \"2018-12-16 22:19:40\",\n        \"max\": \"2021-09-16 09:28:04\",\n        \"num_unique_values\": 523,\n        \"samples\": [\n          \"2021-08-22 00:07:12\",\n          \"2021-08-04 00:18:43\",\n          \"2021-06-19 22:40:17\"\n        ],\n        \"semantic_type\": \"\",\n        \"description\": \"\"\n      }\n    },\n    {\n      \"column\": \"Sentiment\",\n      \"properties\": {\n        \"dtype\": \"category\",\n        \"num_unique_values\": 2,\n        \"samples\": [\n          \"Positive\",\n          \"Negative\"\n        ],\n        \"semantic_type\": \"\",\n        \"description\": \"\"\n      }\n    },\n    {\n      \"column\": \"Sub Category\",\n      \"properties\": {\n        \"dtype\": \"category\",\n        \"num_unique_values\": 5,\n        \"samples\": [\n          \"saving_downloading_issue\",\n          \"satisfied\"\n        ],\n        \"semantic_type\": \"\",\n        \"description\": \"\"\n      }\n    },\n    {\n      \"column\": \"Sub Category_test\",\n      \"properties\": {\n        \"dtype\": \"category\",\n        \"num_unique_values\": 4,\n        \"samples\": [\n          \"bug_saving_files\",\n          \"bug_other\"\n        ],\n        \"semantic_type\": \"\",\n        \"description\": \"\"\n      }\n    }\n  ]\n}"
            }
          },
          "metadata": {},
          "execution_count": 7
        }
      ]
    },
    {
      "cell_type": "code",
      "source": [
        "data.tail(3)"
      ],
      "metadata": {
        "colab": {
          "base_uri": "https://localhost:8080/",
          "height": 476
        },
        "id": "I__6jOsbSw6E",
        "outputId": "4e9df088-b9bc-4ce7-8cd6-24439719d77e"
      },
      "execution_count": null,
      "outputs": [
        {
          "output_type": "execute_result",
          "data": {
            "text/plain": [
              "                                               reviewId          userName  \\\n",
              "1497  gp:AOqpTOFMqEqa_kpp29Q8wjcBmKUCAvOQGQx4KZQ8b83...         GK Gaming   \n",
              "1498  gp:AOqpTOGY4z3pUxeiqGzn2ad3Noxqlbm-9DZ3ksHqD1_...  1203_Vani Sharma   \n",
              "1499  gp:AOqpTOFVGZ0MXyR-Gv_d2cYf2KD709Hwple_u7OZE4y...         MeLLy EcK   \n",
              "\n",
              "                                              userImage  \\\n",
              "1497  https://play-lh.googleusercontent.com/a-/AOh14...   \n",
              "1498  https://play-lh.googleusercontent.com/a-/AOh14...   \n",
              "1499  https://play-lh.googleusercontent.com/a-/AOh14...   \n",
              "\n",
              "                                                 review  score  thumbsUpCount  \\\n",
              "1497  Too much lag. Always stuck on starting page. W...      1              0   \n",
              "1498  Nice app for all college work. So many feature...      5              0   \n",
              "1499  I am a teacher and this was so much for this s...      5              0   \n",
              "\n",
              "     reviewCreatedVersion                  at  \\\n",
              "1497              2.118.0 2021-07-06 03:34:38   \n",
              "1498              2.123.0 2021-08-07 18:47:15   \n",
              "1499              2.117.0 2021-06-28 03:40:57   \n",
              "\n",
              "                                           replyContent           repliedAt  \\\n",
              "1497  Hello there, sorry if it is frustrating and ju... 2021-07-19 01:19:18   \n",
              "1498                                                NaN                 NaT   \n",
              "1499                                                NaN                 NaT   \n",
              "\n",
              "     Sentiment     Sub Category Sub Category_test  \n",
              "1497  Negative           others               NaN  \n",
              "1498  Positive  extremely_happy               NaN  \n",
              "1499  Positive  extremely_happy               NaN  "
            ],
            "text/html": [
              "\n",
              "  <div id=\"df-ce50cff7-cb97-44fe-92a7-ad4979cf0634\" class=\"colab-df-container\">\n",
              "    <div>\n",
              "<style scoped>\n",
              "    .dataframe tbody tr th:only-of-type {\n",
              "        vertical-align: middle;\n",
              "    }\n",
              "\n",
              "    .dataframe tbody tr th {\n",
              "        vertical-align: top;\n",
              "    }\n",
              "\n",
              "    .dataframe thead th {\n",
              "        text-align: right;\n",
              "    }\n",
              "</style>\n",
              "<table border=\"1\" class=\"dataframe\">\n",
              "  <thead>\n",
              "    <tr style=\"text-align: right;\">\n",
              "      <th></th>\n",
              "      <th>reviewId</th>\n",
              "      <th>userName</th>\n",
              "      <th>userImage</th>\n",
              "      <th>review</th>\n",
              "      <th>score</th>\n",
              "      <th>thumbsUpCount</th>\n",
              "      <th>reviewCreatedVersion</th>\n",
              "      <th>at</th>\n",
              "      <th>replyContent</th>\n",
              "      <th>repliedAt</th>\n",
              "      <th>Sentiment</th>\n",
              "      <th>Sub Category</th>\n",
              "      <th>Sub Category_test</th>\n",
              "    </tr>\n",
              "  </thead>\n",
              "  <tbody>\n",
              "    <tr>\n",
              "      <th>1497</th>\n",
              "      <td>gp:AOqpTOFMqEqa_kpp29Q8wjcBmKUCAvOQGQx4KZQ8b83...</td>\n",
              "      <td>GK Gaming</td>\n",
              "      <td>https://play-lh.googleusercontent.com/a-/AOh14...</td>\n",
              "      <td>Too much lag. Always stuck on starting page. W...</td>\n",
              "      <td>1</td>\n",
              "      <td>0</td>\n",
              "      <td>2.118.0</td>\n",
              "      <td>2021-07-06 03:34:38</td>\n",
              "      <td>Hello there, sorry if it is frustrating and ju...</td>\n",
              "      <td>2021-07-19 01:19:18</td>\n",
              "      <td>Negative</td>\n",
              "      <td>others</td>\n",
              "      <td>NaN</td>\n",
              "    </tr>\n",
              "    <tr>\n",
              "      <th>1498</th>\n",
              "      <td>gp:AOqpTOGY4z3pUxeiqGzn2ad3Noxqlbm-9DZ3ksHqD1_...</td>\n",
              "      <td>1203_Vani Sharma</td>\n",
              "      <td>https://play-lh.googleusercontent.com/a-/AOh14...</td>\n",
              "      <td>Nice app for all college work. So many feature...</td>\n",
              "      <td>5</td>\n",
              "      <td>0</td>\n",
              "      <td>2.123.0</td>\n",
              "      <td>2021-08-07 18:47:15</td>\n",
              "      <td>NaN</td>\n",
              "      <td>NaT</td>\n",
              "      <td>Positive</td>\n",
              "      <td>extremely_happy</td>\n",
              "      <td>NaN</td>\n",
              "    </tr>\n",
              "    <tr>\n",
              "      <th>1499</th>\n",
              "      <td>gp:AOqpTOFVGZ0MXyR-Gv_d2cYf2KD709Hwple_u7OZE4y...</td>\n",
              "      <td>MeLLy EcK</td>\n",
              "      <td>https://play-lh.googleusercontent.com/a-/AOh14...</td>\n",
              "      <td>I am a teacher and this was so much for this s...</td>\n",
              "      <td>5</td>\n",
              "      <td>0</td>\n",
              "      <td>2.117.0</td>\n",
              "      <td>2021-06-28 03:40:57</td>\n",
              "      <td>NaN</td>\n",
              "      <td>NaT</td>\n",
              "      <td>Positive</td>\n",
              "      <td>extremely_happy</td>\n",
              "      <td>NaN</td>\n",
              "    </tr>\n",
              "  </tbody>\n",
              "</table>\n",
              "</div>\n",
              "    <div class=\"colab-df-buttons\">\n",
              "\n",
              "  <div class=\"colab-df-container\">\n",
              "    <button class=\"colab-df-convert\" onclick=\"convertToInteractive('df-ce50cff7-cb97-44fe-92a7-ad4979cf0634')\"\n",
              "            title=\"Convert this dataframe to an interactive table.\"\n",
              "            style=\"display:none;\">\n",
              "\n",
              "  <svg xmlns=\"http://www.w3.org/2000/svg\" height=\"24px\" viewBox=\"0 -960 960 960\">\n",
              "    <path d=\"M120-120v-720h720v720H120Zm60-500h600v-160H180v160Zm220 220h160v-160H400v160Zm0 220h160v-160H400v160ZM180-400h160v-160H180v160Zm440 0h160v-160H620v160ZM180-180h160v-160H180v160Zm440 0h160v-160H620v160Z\"/>\n",
              "  </svg>\n",
              "    </button>\n",
              "\n",
              "  <style>\n",
              "    .colab-df-container {\n",
              "      display:flex;\n",
              "      gap: 12px;\n",
              "    }\n",
              "\n",
              "    .colab-df-convert {\n",
              "      background-color: #E8F0FE;\n",
              "      border: none;\n",
              "      border-radius: 50%;\n",
              "      cursor: pointer;\n",
              "      display: none;\n",
              "      fill: #1967D2;\n",
              "      height: 32px;\n",
              "      padding: 0 0 0 0;\n",
              "      width: 32px;\n",
              "    }\n",
              "\n",
              "    .colab-df-convert:hover {\n",
              "      background-color: #E2EBFA;\n",
              "      box-shadow: 0px 1px 2px rgba(60, 64, 67, 0.3), 0px 1px 3px 1px rgba(60, 64, 67, 0.15);\n",
              "      fill: #174EA6;\n",
              "    }\n",
              "\n",
              "    .colab-df-buttons div {\n",
              "      margin-bottom: 4px;\n",
              "    }\n",
              "\n",
              "    [theme=dark] .colab-df-convert {\n",
              "      background-color: #3B4455;\n",
              "      fill: #D2E3FC;\n",
              "    }\n",
              "\n",
              "    [theme=dark] .colab-df-convert:hover {\n",
              "      background-color: #434B5C;\n",
              "      box-shadow: 0px 1px 3px 1px rgba(0, 0, 0, 0.15);\n",
              "      filter: drop-shadow(0px 1px 2px rgba(0, 0, 0, 0.3));\n",
              "      fill: #FFFFFF;\n",
              "    }\n",
              "  </style>\n",
              "\n",
              "    <script>\n",
              "      const buttonEl =\n",
              "        document.querySelector('#df-ce50cff7-cb97-44fe-92a7-ad4979cf0634 button.colab-df-convert');\n",
              "      buttonEl.style.display =\n",
              "        google.colab.kernel.accessAllowed ? 'block' : 'none';\n",
              "\n",
              "      async function convertToInteractive(key) {\n",
              "        const element = document.querySelector('#df-ce50cff7-cb97-44fe-92a7-ad4979cf0634');\n",
              "        const dataTable =\n",
              "          await google.colab.kernel.invokeFunction('convertToInteractive',\n",
              "                                                    [key], {});\n",
              "        if (!dataTable) return;\n",
              "\n",
              "        const docLinkHtml = 'Like what you see? Visit the ' +\n",
              "          '<a target=\"_blank\" href=https://colab.research.google.com/notebooks/data_table.ipynb>data table notebook</a>'\n",
              "          + ' to learn more about interactive tables.';\n",
              "        element.innerHTML = '';\n",
              "        dataTable['output_type'] = 'display_data';\n",
              "        await google.colab.output.renderOutput(dataTable, element);\n",
              "        const docLink = document.createElement('div');\n",
              "        docLink.innerHTML = docLinkHtml;\n",
              "        element.appendChild(docLink);\n",
              "      }\n",
              "    </script>\n",
              "  </div>\n",
              "\n",
              "\n",
              "<div id=\"df-4398d066-9482-4684-98f0-754eb8288d63\">\n",
              "  <button class=\"colab-df-quickchart\" onclick=\"quickchart('df-4398d066-9482-4684-98f0-754eb8288d63')\"\n",
              "            title=\"Suggest charts\"\n",
              "            style=\"display:none;\">\n",
              "\n",
              "<svg xmlns=\"http://www.w3.org/2000/svg\" height=\"24px\"viewBox=\"0 0 24 24\"\n",
              "     width=\"24px\">\n",
              "    <g>\n",
              "        <path d=\"M19 3H5c-1.1 0-2 .9-2 2v14c0 1.1.9 2 2 2h14c1.1 0 2-.9 2-2V5c0-1.1-.9-2-2-2zM9 17H7v-7h2v7zm4 0h-2V7h2v10zm4 0h-2v-4h2v4z\"/>\n",
              "    </g>\n",
              "</svg>\n",
              "  </button>\n",
              "\n",
              "<style>\n",
              "  .colab-df-quickchart {\n",
              "      --bg-color: #E8F0FE;\n",
              "      --fill-color: #1967D2;\n",
              "      --hover-bg-color: #E2EBFA;\n",
              "      --hover-fill-color: #174EA6;\n",
              "      --disabled-fill-color: #AAA;\n",
              "      --disabled-bg-color: #DDD;\n",
              "  }\n",
              "\n",
              "  [theme=dark] .colab-df-quickchart {\n",
              "      --bg-color: #3B4455;\n",
              "      --fill-color: #D2E3FC;\n",
              "      --hover-bg-color: #434B5C;\n",
              "      --hover-fill-color: #FFFFFF;\n",
              "      --disabled-bg-color: #3B4455;\n",
              "      --disabled-fill-color: #666;\n",
              "  }\n",
              "\n",
              "  .colab-df-quickchart {\n",
              "    background-color: var(--bg-color);\n",
              "    border: none;\n",
              "    border-radius: 50%;\n",
              "    cursor: pointer;\n",
              "    display: none;\n",
              "    fill: var(--fill-color);\n",
              "    height: 32px;\n",
              "    padding: 0;\n",
              "    width: 32px;\n",
              "  }\n",
              "\n",
              "  .colab-df-quickchart:hover {\n",
              "    background-color: var(--hover-bg-color);\n",
              "    box-shadow: 0 1px 2px rgba(60, 64, 67, 0.3), 0 1px 3px 1px rgba(60, 64, 67, 0.15);\n",
              "    fill: var(--button-hover-fill-color);\n",
              "  }\n",
              "\n",
              "  .colab-df-quickchart-complete:disabled,\n",
              "  .colab-df-quickchart-complete:disabled:hover {\n",
              "    background-color: var(--disabled-bg-color);\n",
              "    fill: var(--disabled-fill-color);\n",
              "    box-shadow: none;\n",
              "  }\n",
              "\n",
              "  .colab-df-spinner {\n",
              "    border: 2px solid var(--fill-color);\n",
              "    border-color: transparent;\n",
              "    border-bottom-color: var(--fill-color);\n",
              "    animation:\n",
              "      spin 1s steps(1) infinite;\n",
              "  }\n",
              "\n",
              "  @keyframes spin {\n",
              "    0% {\n",
              "      border-color: transparent;\n",
              "      border-bottom-color: var(--fill-color);\n",
              "      border-left-color: var(--fill-color);\n",
              "    }\n",
              "    20% {\n",
              "      border-color: transparent;\n",
              "      border-left-color: var(--fill-color);\n",
              "      border-top-color: var(--fill-color);\n",
              "    }\n",
              "    30% {\n",
              "      border-color: transparent;\n",
              "      border-left-color: var(--fill-color);\n",
              "      border-top-color: var(--fill-color);\n",
              "      border-right-color: var(--fill-color);\n",
              "    }\n",
              "    40% {\n",
              "      border-color: transparent;\n",
              "      border-right-color: var(--fill-color);\n",
              "      border-top-color: var(--fill-color);\n",
              "    }\n",
              "    60% {\n",
              "      border-color: transparent;\n",
              "      border-right-color: var(--fill-color);\n",
              "    }\n",
              "    80% {\n",
              "      border-color: transparent;\n",
              "      border-right-color: var(--fill-color);\n",
              "      border-bottom-color: var(--fill-color);\n",
              "    }\n",
              "    90% {\n",
              "      border-color: transparent;\n",
              "      border-bottom-color: var(--fill-color);\n",
              "    }\n",
              "  }\n",
              "</style>\n",
              "\n",
              "  <script>\n",
              "    async function quickchart(key) {\n",
              "      const quickchartButtonEl =\n",
              "        document.querySelector('#' + key + ' button');\n",
              "      quickchartButtonEl.disabled = true;  // To prevent multiple clicks.\n",
              "      quickchartButtonEl.classList.add('colab-df-spinner');\n",
              "      try {\n",
              "        const charts = await google.colab.kernel.invokeFunction(\n",
              "            'suggestCharts', [key], {});\n",
              "      } catch (error) {\n",
              "        console.error('Error during call to suggestCharts:', error);\n",
              "      }\n",
              "      quickchartButtonEl.classList.remove('colab-df-spinner');\n",
              "      quickchartButtonEl.classList.add('colab-df-quickchart-complete');\n",
              "    }\n",
              "    (() => {\n",
              "      let quickchartButtonEl =\n",
              "        document.querySelector('#df-4398d066-9482-4684-98f0-754eb8288d63 button');\n",
              "      quickchartButtonEl.style.display =\n",
              "        google.colab.kernel.accessAllowed ? 'block' : 'none';\n",
              "    })();\n",
              "  </script>\n",
              "</div>\n",
              "\n",
              "    </div>\n",
              "  </div>\n"
            ],
            "application/vnd.google.colaboratory.intrinsic+json": {
              "type": "dataframe",
              "repr_error": "0"
            }
          },
          "metadata": {},
          "execution_count": 8
        }
      ]
    },
    {
      "cell_type": "code",
      "source": [
        "print(data.columns)"
      ],
      "metadata": {
        "colab": {
          "base_uri": "https://localhost:8080/"
        },
        "id": "AaGlGFGgTPJU",
        "outputId": "7b9132b1-d55c-49fc-9868-bee389a82193"
      },
      "execution_count": null,
      "outputs": [
        {
          "output_type": "stream",
          "name": "stdout",
          "text": [
            "Index(['reviewId', 'userName', 'userImage', 'review', 'score', 'thumbsUpCount',\n",
            "       'reviewCreatedVersion', 'at', 'replyContent', 'repliedAt', 'Sentiment',\n",
            "       'Sub Category', 'Sub Category_test'],\n",
            "      dtype='object')\n"
          ]
        }
      ]
    },
    {
      "cell_type": "code",
      "source": [
        "# dimension of the dataset\n",
        "data.shape"
      ],
      "metadata": {
        "colab": {
          "base_uri": "https://localhost:8080/"
        },
        "id": "YFVUWCBiTVl0",
        "outputId": "b9e749a9-9519-48f3-be47-b33635ae847d"
      },
      "execution_count": null,
      "outputs": [
        {
          "output_type": "execute_result",
          "data": {
            "text/plain": [
              "(1500, 13)"
            ]
          },
          "metadata": {},
          "execution_count": 10
        }
      ]
    },
    {
      "cell_type": "code",
      "source": [
        "# data types of columns / features\n",
        "data.dtypes"
      ],
      "metadata": {
        "colab": {
          "base_uri": "https://localhost:8080/",
          "height": 492
        },
        "id": "KdWBmn2dTcfc",
        "outputId": "4606e0d3-4fdd-403c-bbac-9578cf4b9645"
      },
      "execution_count": null,
      "outputs": [
        {
          "output_type": "execute_result",
          "data": {
            "text/plain": [
              "reviewId                        object\n",
              "userName                        object\n",
              "userImage                       object\n",
              "review                          object\n",
              "score                            int64\n",
              "thumbsUpCount                    int64\n",
              "reviewCreatedVersion            object\n",
              "at                      datetime64[ns]\n",
              "replyContent                    object\n",
              "repliedAt               datetime64[ns]\n",
              "Sentiment                       object\n",
              "Sub Category                    object\n",
              "Sub Category_test               object\n",
              "dtype: object"
            ],
            "text/html": [
              "<div>\n",
              "<style scoped>\n",
              "    .dataframe tbody tr th:only-of-type {\n",
              "        vertical-align: middle;\n",
              "    }\n",
              "\n",
              "    .dataframe tbody tr th {\n",
              "        vertical-align: top;\n",
              "    }\n",
              "\n",
              "    .dataframe thead th {\n",
              "        text-align: right;\n",
              "    }\n",
              "</style>\n",
              "<table border=\"1\" class=\"dataframe\">\n",
              "  <thead>\n",
              "    <tr style=\"text-align: right;\">\n",
              "      <th></th>\n",
              "      <th>0</th>\n",
              "    </tr>\n",
              "  </thead>\n",
              "  <tbody>\n",
              "    <tr>\n",
              "      <th>reviewId</th>\n",
              "      <td>object</td>\n",
              "    </tr>\n",
              "    <tr>\n",
              "      <th>userName</th>\n",
              "      <td>object</td>\n",
              "    </tr>\n",
              "    <tr>\n",
              "      <th>userImage</th>\n",
              "      <td>object</td>\n",
              "    </tr>\n",
              "    <tr>\n",
              "      <th>review</th>\n",
              "      <td>object</td>\n",
              "    </tr>\n",
              "    <tr>\n",
              "      <th>score</th>\n",
              "      <td>int64</td>\n",
              "    </tr>\n",
              "    <tr>\n",
              "      <th>thumbsUpCount</th>\n",
              "      <td>int64</td>\n",
              "    </tr>\n",
              "    <tr>\n",
              "      <th>reviewCreatedVersion</th>\n",
              "      <td>object</td>\n",
              "    </tr>\n",
              "    <tr>\n",
              "      <th>at</th>\n",
              "      <td>datetime64[ns]</td>\n",
              "    </tr>\n",
              "    <tr>\n",
              "      <th>replyContent</th>\n",
              "      <td>object</td>\n",
              "    </tr>\n",
              "    <tr>\n",
              "      <th>repliedAt</th>\n",
              "      <td>datetime64[ns]</td>\n",
              "    </tr>\n",
              "    <tr>\n",
              "      <th>Sentiment</th>\n",
              "      <td>object</td>\n",
              "    </tr>\n",
              "    <tr>\n",
              "      <th>Sub Category</th>\n",
              "      <td>object</td>\n",
              "    </tr>\n",
              "    <tr>\n",
              "      <th>Sub Category_test</th>\n",
              "      <td>object</td>\n",
              "    </tr>\n",
              "  </tbody>\n",
              "</table>\n",
              "</div><br><label><b>dtype:</b> object</label>"
            ]
          },
          "metadata": {},
          "execution_count": 11
        }
      ]
    },
    {
      "cell_type": "code",
      "source": [
        "data.info()"
      ],
      "metadata": {
        "colab": {
          "base_uri": "https://localhost:8080/"
        },
        "id": "RJ1UwUz-Tfv8",
        "outputId": "ac163bdf-eb27-428e-85cb-39ed908bd2ea"
      },
      "execution_count": null,
      "outputs": [
        {
          "output_type": "stream",
          "name": "stdout",
          "text": [
            "<class 'pandas.core.frame.DataFrame'>\n",
            "RangeIndex: 1500 entries, 0 to 1499\n",
            "Data columns (total 13 columns):\n",
            " #   Column                Non-Null Count  Dtype         \n",
            "---  ------                --------------  -----         \n",
            " 0   reviewId              1500 non-null   object        \n",
            " 1   userName              1500 non-null   object        \n",
            " 2   userImage             1500 non-null   object        \n",
            " 3   review                1500 non-null   object        \n",
            " 4   score                 1500 non-null   int64         \n",
            " 5   thumbsUpCount         1500 non-null   int64         \n",
            " 6   reviewCreatedVersion  1500 non-null   object        \n",
            " 7   at                    1500 non-null   datetime64[ns]\n",
            " 8   replyContent          523 non-null    object        \n",
            " 9   repliedAt             523 non-null    datetime64[ns]\n",
            " 10  Sentiment             1500 non-null   object        \n",
            " 11  Sub Category          1499 non-null   object        \n",
            " 12  Sub Category_test     23 non-null     object        \n",
            "dtypes: datetime64[ns](2), int64(2), object(9)\n",
            "memory usage: 152.5+ KB\n"
          ]
        }
      ]
    },
    {
      "cell_type": "code",
      "source": [
        "data.describe()"
      ],
      "metadata": {
        "colab": {
          "base_uri": "https://localhost:8080/",
          "height": 300
        },
        "id": "Xo7Wl3btUMA0",
        "outputId": "2bbad083-c14c-41c2-b7b1-147ed7c566e9"
      },
      "execution_count": null,
      "outputs": [
        {
          "output_type": "execute_result",
          "data": {
            "text/plain": [
              "             score  thumbsUpCount                             at  \\\n",
              "count  1500.000000    1500.000000                           1500   \n",
              "mean      4.154000       1.591333  2021-08-02 04:54:08.215333376   \n",
              "min       1.000000       0.000000            2021-06-16 15:54:36   \n",
              "25%       4.000000       0.000000            2021-07-13 12:49:52   \n",
              "50%       5.000000       0.000000            2021-08-01 20:13:10   \n",
              "75%       5.000000       0.000000     2021-08-20 13:30:45.500000   \n",
              "max       5.000000     528.000000            2021-09-13 21:43:15   \n",
              "std       1.361195      18.936791                            NaN   \n",
              "\n",
              "                           repliedAt  \n",
              "count                            523  \n",
              "mean   2021-07-30 08:10:22.657743872  \n",
              "min              2018-12-16 22:19:40  \n",
              "25%              2021-07-29 21:52:30  \n",
              "50%              2021-08-10 02:59:31  \n",
              "75%              2021-08-23 03:30:01  \n",
              "max              2021-09-16 09:28:04  \n",
              "std                              NaN  "
            ],
            "text/html": [
              "\n",
              "  <div id=\"df-949086d4-23ed-4824-8885-d066209d2d1f\" class=\"colab-df-container\">\n",
              "    <div>\n",
              "<style scoped>\n",
              "    .dataframe tbody tr th:only-of-type {\n",
              "        vertical-align: middle;\n",
              "    }\n",
              "\n",
              "    .dataframe tbody tr th {\n",
              "        vertical-align: top;\n",
              "    }\n",
              "\n",
              "    .dataframe thead th {\n",
              "        text-align: right;\n",
              "    }\n",
              "</style>\n",
              "<table border=\"1\" class=\"dataframe\">\n",
              "  <thead>\n",
              "    <tr style=\"text-align: right;\">\n",
              "      <th></th>\n",
              "      <th>score</th>\n",
              "      <th>thumbsUpCount</th>\n",
              "      <th>at</th>\n",
              "      <th>repliedAt</th>\n",
              "    </tr>\n",
              "  </thead>\n",
              "  <tbody>\n",
              "    <tr>\n",
              "      <th>count</th>\n",
              "      <td>1500.000000</td>\n",
              "      <td>1500.000000</td>\n",
              "      <td>1500</td>\n",
              "      <td>523</td>\n",
              "    </tr>\n",
              "    <tr>\n",
              "      <th>mean</th>\n",
              "      <td>4.154000</td>\n",
              "      <td>1.591333</td>\n",
              "      <td>2021-08-02 04:54:08.215333376</td>\n",
              "      <td>2021-07-30 08:10:22.657743872</td>\n",
              "    </tr>\n",
              "    <tr>\n",
              "      <th>min</th>\n",
              "      <td>1.000000</td>\n",
              "      <td>0.000000</td>\n",
              "      <td>2021-06-16 15:54:36</td>\n",
              "      <td>2018-12-16 22:19:40</td>\n",
              "    </tr>\n",
              "    <tr>\n",
              "      <th>25%</th>\n",
              "      <td>4.000000</td>\n",
              "      <td>0.000000</td>\n",
              "      <td>2021-07-13 12:49:52</td>\n",
              "      <td>2021-07-29 21:52:30</td>\n",
              "    </tr>\n",
              "    <tr>\n",
              "      <th>50%</th>\n",
              "      <td>5.000000</td>\n",
              "      <td>0.000000</td>\n",
              "      <td>2021-08-01 20:13:10</td>\n",
              "      <td>2021-08-10 02:59:31</td>\n",
              "    </tr>\n",
              "    <tr>\n",
              "      <th>75%</th>\n",
              "      <td>5.000000</td>\n",
              "      <td>0.000000</td>\n",
              "      <td>2021-08-20 13:30:45.500000</td>\n",
              "      <td>2021-08-23 03:30:01</td>\n",
              "    </tr>\n",
              "    <tr>\n",
              "      <th>max</th>\n",
              "      <td>5.000000</td>\n",
              "      <td>528.000000</td>\n",
              "      <td>2021-09-13 21:43:15</td>\n",
              "      <td>2021-09-16 09:28:04</td>\n",
              "    </tr>\n",
              "    <tr>\n",
              "      <th>std</th>\n",
              "      <td>1.361195</td>\n",
              "      <td>18.936791</td>\n",
              "      <td>NaN</td>\n",
              "      <td>NaN</td>\n",
              "    </tr>\n",
              "  </tbody>\n",
              "</table>\n",
              "</div>\n",
              "    <div class=\"colab-df-buttons\">\n",
              "\n",
              "  <div class=\"colab-df-container\">\n",
              "    <button class=\"colab-df-convert\" onclick=\"convertToInteractive('df-949086d4-23ed-4824-8885-d066209d2d1f')\"\n",
              "            title=\"Convert this dataframe to an interactive table.\"\n",
              "            style=\"display:none;\">\n",
              "\n",
              "  <svg xmlns=\"http://www.w3.org/2000/svg\" height=\"24px\" viewBox=\"0 -960 960 960\">\n",
              "    <path d=\"M120-120v-720h720v720H120Zm60-500h600v-160H180v160Zm220 220h160v-160H400v160Zm0 220h160v-160H400v160ZM180-400h160v-160H180v160Zm440 0h160v-160H620v160ZM180-180h160v-160H180v160Zm440 0h160v-160H620v160Z\"/>\n",
              "  </svg>\n",
              "    </button>\n",
              "\n",
              "  <style>\n",
              "    .colab-df-container {\n",
              "      display:flex;\n",
              "      gap: 12px;\n",
              "    }\n",
              "\n",
              "    .colab-df-convert {\n",
              "      background-color: #E8F0FE;\n",
              "      border: none;\n",
              "      border-radius: 50%;\n",
              "      cursor: pointer;\n",
              "      display: none;\n",
              "      fill: #1967D2;\n",
              "      height: 32px;\n",
              "      padding: 0 0 0 0;\n",
              "      width: 32px;\n",
              "    }\n",
              "\n",
              "    .colab-df-convert:hover {\n",
              "      background-color: #E2EBFA;\n",
              "      box-shadow: 0px 1px 2px rgba(60, 64, 67, 0.3), 0px 1px 3px 1px rgba(60, 64, 67, 0.15);\n",
              "      fill: #174EA6;\n",
              "    }\n",
              "\n",
              "    .colab-df-buttons div {\n",
              "      margin-bottom: 4px;\n",
              "    }\n",
              "\n",
              "    [theme=dark] .colab-df-convert {\n",
              "      background-color: #3B4455;\n",
              "      fill: #D2E3FC;\n",
              "    }\n",
              "\n",
              "    [theme=dark] .colab-df-convert:hover {\n",
              "      background-color: #434B5C;\n",
              "      box-shadow: 0px 1px 3px 1px rgba(0, 0, 0, 0.15);\n",
              "      filter: drop-shadow(0px 1px 2px rgba(0, 0, 0, 0.3));\n",
              "      fill: #FFFFFF;\n",
              "    }\n",
              "  </style>\n",
              "\n",
              "    <script>\n",
              "      const buttonEl =\n",
              "        document.querySelector('#df-949086d4-23ed-4824-8885-d066209d2d1f button.colab-df-convert');\n",
              "      buttonEl.style.display =\n",
              "        google.colab.kernel.accessAllowed ? 'block' : 'none';\n",
              "\n",
              "      async function convertToInteractive(key) {\n",
              "        const element = document.querySelector('#df-949086d4-23ed-4824-8885-d066209d2d1f');\n",
              "        const dataTable =\n",
              "          await google.colab.kernel.invokeFunction('convertToInteractive',\n",
              "                                                    [key], {});\n",
              "        if (!dataTable) return;\n",
              "\n",
              "        const docLinkHtml = 'Like what you see? Visit the ' +\n",
              "          '<a target=\"_blank\" href=https://colab.research.google.com/notebooks/data_table.ipynb>data table notebook</a>'\n",
              "          + ' to learn more about interactive tables.';\n",
              "        element.innerHTML = '';\n",
              "        dataTable['output_type'] = 'display_data';\n",
              "        await google.colab.output.renderOutput(dataTable, element);\n",
              "        const docLink = document.createElement('div');\n",
              "        docLink.innerHTML = docLinkHtml;\n",
              "        element.appendChild(docLink);\n",
              "      }\n",
              "    </script>\n",
              "  </div>\n",
              "\n",
              "\n",
              "<div id=\"df-460b65ce-8b9c-4b21-8451-933df7867b53\">\n",
              "  <button class=\"colab-df-quickchart\" onclick=\"quickchart('df-460b65ce-8b9c-4b21-8451-933df7867b53')\"\n",
              "            title=\"Suggest charts\"\n",
              "            style=\"display:none;\">\n",
              "\n",
              "<svg xmlns=\"http://www.w3.org/2000/svg\" height=\"24px\"viewBox=\"0 0 24 24\"\n",
              "     width=\"24px\">\n",
              "    <g>\n",
              "        <path d=\"M19 3H5c-1.1 0-2 .9-2 2v14c0 1.1.9 2 2 2h14c1.1 0 2-.9 2-2V5c0-1.1-.9-2-2-2zM9 17H7v-7h2v7zm4 0h-2V7h2v10zm4 0h-2v-4h2v4z\"/>\n",
              "    </g>\n",
              "</svg>\n",
              "  </button>\n",
              "\n",
              "<style>\n",
              "  .colab-df-quickchart {\n",
              "      --bg-color: #E8F0FE;\n",
              "      --fill-color: #1967D2;\n",
              "      --hover-bg-color: #E2EBFA;\n",
              "      --hover-fill-color: #174EA6;\n",
              "      --disabled-fill-color: #AAA;\n",
              "      --disabled-bg-color: #DDD;\n",
              "  }\n",
              "\n",
              "  [theme=dark] .colab-df-quickchart {\n",
              "      --bg-color: #3B4455;\n",
              "      --fill-color: #D2E3FC;\n",
              "      --hover-bg-color: #434B5C;\n",
              "      --hover-fill-color: #FFFFFF;\n",
              "      --disabled-bg-color: #3B4455;\n",
              "      --disabled-fill-color: #666;\n",
              "  }\n",
              "\n",
              "  .colab-df-quickchart {\n",
              "    background-color: var(--bg-color);\n",
              "    border: none;\n",
              "    border-radius: 50%;\n",
              "    cursor: pointer;\n",
              "    display: none;\n",
              "    fill: var(--fill-color);\n",
              "    height: 32px;\n",
              "    padding: 0;\n",
              "    width: 32px;\n",
              "  }\n",
              "\n",
              "  .colab-df-quickchart:hover {\n",
              "    background-color: var(--hover-bg-color);\n",
              "    box-shadow: 0 1px 2px rgba(60, 64, 67, 0.3), 0 1px 3px 1px rgba(60, 64, 67, 0.15);\n",
              "    fill: var(--button-hover-fill-color);\n",
              "  }\n",
              "\n",
              "  .colab-df-quickchart-complete:disabled,\n",
              "  .colab-df-quickchart-complete:disabled:hover {\n",
              "    background-color: var(--disabled-bg-color);\n",
              "    fill: var(--disabled-fill-color);\n",
              "    box-shadow: none;\n",
              "  }\n",
              "\n",
              "  .colab-df-spinner {\n",
              "    border: 2px solid var(--fill-color);\n",
              "    border-color: transparent;\n",
              "    border-bottom-color: var(--fill-color);\n",
              "    animation:\n",
              "      spin 1s steps(1) infinite;\n",
              "  }\n",
              "\n",
              "  @keyframes spin {\n",
              "    0% {\n",
              "      border-color: transparent;\n",
              "      border-bottom-color: var(--fill-color);\n",
              "      border-left-color: var(--fill-color);\n",
              "    }\n",
              "    20% {\n",
              "      border-color: transparent;\n",
              "      border-left-color: var(--fill-color);\n",
              "      border-top-color: var(--fill-color);\n",
              "    }\n",
              "    30% {\n",
              "      border-color: transparent;\n",
              "      border-left-color: var(--fill-color);\n",
              "      border-top-color: var(--fill-color);\n",
              "      border-right-color: var(--fill-color);\n",
              "    }\n",
              "    40% {\n",
              "      border-color: transparent;\n",
              "      border-right-color: var(--fill-color);\n",
              "      border-top-color: var(--fill-color);\n",
              "    }\n",
              "    60% {\n",
              "      border-color: transparent;\n",
              "      border-right-color: var(--fill-color);\n",
              "    }\n",
              "    80% {\n",
              "      border-color: transparent;\n",
              "      border-right-color: var(--fill-color);\n",
              "      border-bottom-color: var(--fill-color);\n",
              "    }\n",
              "    90% {\n",
              "      border-color: transparent;\n",
              "      border-bottom-color: var(--fill-color);\n",
              "    }\n",
              "  }\n",
              "</style>\n",
              "\n",
              "  <script>\n",
              "    async function quickchart(key) {\n",
              "      const quickchartButtonEl =\n",
              "        document.querySelector('#' + key + ' button');\n",
              "      quickchartButtonEl.disabled = true;  // To prevent multiple clicks.\n",
              "      quickchartButtonEl.classList.add('colab-df-spinner');\n",
              "      try {\n",
              "        const charts = await google.colab.kernel.invokeFunction(\n",
              "            'suggestCharts', [key], {});\n",
              "      } catch (error) {\n",
              "        console.error('Error during call to suggestCharts:', error);\n",
              "      }\n",
              "      quickchartButtonEl.classList.remove('colab-df-spinner');\n",
              "      quickchartButtonEl.classList.add('colab-df-quickchart-complete');\n",
              "    }\n",
              "    (() => {\n",
              "      let quickchartButtonEl =\n",
              "        document.querySelector('#df-460b65ce-8b9c-4b21-8451-933df7867b53 button');\n",
              "      quickchartButtonEl.style.display =\n",
              "        google.colab.kernel.accessAllowed ? 'block' : 'none';\n",
              "    })();\n",
              "  </script>\n",
              "</div>\n",
              "\n",
              "    </div>\n",
              "  </div>\n"
            ],
            "application/vnd.google.colaboratory.intrinsic+json": {
              "type": "dataframe",
              "summary": "{\n  \"name\": \"data\",\n  \"rows\": 8,\n  \"fields\": [\n    {\n      \"column\": \"score\",\n      \"properties\": {\n        \"dtype\": \"number\",\n        \"std\": 529.0438183570791,\n        \"min\": 1.0,\n        \"max\": 1500.0,\n        \"num_unique_values\": 6,\n        \"samples\": [\n          1500.0,\n          4.154,\n          1.36119527194996\n        ],\n        \"semantic_type\": \"\",\n        \"description\": \"\"\n      }\n    },\n    {\n      \"column\": \"thumbsUpCount\",\n      \"properties\": {\n        \"dtype\": \"number\",\n        \"std\": 535.135056356833,\n        \"min\": 0.0,\n        \"max\": 1500.0,\n        \"num_unique_values\": 5,\n        \"samples\": [\n          1.5913333333333333,\n          18.936791164168156,\n          0.0\n        ],\n        \"semantic_type\": \"\",\n        \"description\": \"\"\n      }\n    },\n    {\n      \"column\": \"at\",\n      \"properties\": {\n        \"dtype\": \"date\",\n        \"min\": \"1970-01-01 00:00:00.000001500\",\n        \"max\": \"2021-09-13 21:43:15\",\n        \"num_unique_values\": 7,\n        \"samples\": [\n          \"1500\",\n          \"2021-08-02 04:54:08.215333376\",\n          \"2021-08-20 13:30:45.500000\"\n        ],\n        \"semantic_type\": \"\",\n        \"description\": \"\"\n      }\n    },\n    {\n      \"column\": \"repliedAt\",\n      \"properties\": {\n        \"dtype\": \"date\",\n        \"min\": \"1970-01-01 00:00:00.000000523\",\n        \"max\": \"2021-09-16 09:28:04\",\n        \"num_unique_values\": 7,\n        \"samples\": [\n          \"523\",\n          \"2021-07-30 08:10:22.657743872\",\n          \"2021-08-23 03:30:01\"\n        ],\n        \"semantic_type\": \"\",\n        \"description\": \"\"\n      }\n    }\n  ]\n}"
            }
          },
          "metadata": {},
          "execution_count": 13
        }
      ]
    },
    {
      "cell_type": "code",
      "source": [
        "# total null values in each column\n",
        "data.isnull().sum()"
      ],
      "metadata": {
        "colab": {
          "base_uri": "https://localhost:8080/",
          "height": 492
        },
        "id": "JGNwxJgITv6o",
        "outputId": "b250644e-3916-441f-bea2-25d019a75504"
      },
      "execution_count": null,
      "outputs": [
        {
          "output_type": "execute_result",
          "data": {
            "text/plain": [
              "reviewId                   0\n",
              "userName                   0\n",
              "userImage                  0\n",
              "review                     0\n",
              "score                      0\n",
              "thumbsUpCount              0\n",
              "reviewCreatedVersion       0\n",
              "at                         0\n",
              "replyContent             977\n",
              "repliedAt                977\n",
              "Sentiment                  0\n",
              "Sub Category               1\n",
              "Sub Category_test       1477\n",
              "dtype: int64"
            ],
            "text/html": [
              "<div>\n",
              "<style scoped>\n",
              "    .dataframe tbody tr th:only-of-type {\n",
              "        vertical-align: middle;\n",
              "    }\n",
              "\n",
              "    .dataframe tbody tr th {\n",
              "        vertical-align: top;\n",
              "    }\n",
              "\n",
              "    .dataframe thead th {\n",
              "        text-align: right;\n",
              "    }\n",
              "</style>\n",
              "<table border=\"1\" class=\"dataframe\">\n",
              "  <thead>\n",
              "    <tr style=\"text-align: right;\">\n",
              "      <th></th>\n",
              "      <th>0</th>\n",
              "    </tr>\n",
              "  </thead>\n",
              "  <tbody>\n",
              "    <tr>\n",
              "      <th>reviewId</th>\n",
              "      <td>0</td>\n",
              "    </tr>\n",
              "    <tr>\n",
              "      <th>userName</th>\n",
              "      <td>0</td>\n",
              "    </tr>\n",
              "    <tr>\n",
              "      <th>userImage</th>\n",
              "      <td>0</td>\n",
              "    </tr>\n",
              "    <tr>\n",
              "      <th>review</th>\n",
              "      <td>0</td>\n",
              "    </tr>\n",
              "    <tr>\n",
              "      <th>score</th>\n",
              "      <td>0</td>\n",
              "    </tr>\n",
              "    <tr>\n",
              "      <th>thumbsUpCount</th>\n",
              "      <td>0</td>\n",
              "    </tr>\n",
              "    <tr>\n",
              "      <th>reviewCreatedVersion</th>\n",
              "      <td>0</td>\n",
              "    </tr>\n",
              "    <tr>\n",
              "      <th>at</th>\n",
              "      <td>0</td>\n",
              "    </tr>\n",
              "    <tr>\n",
              "      <th>replyContent</th>\n",
              "      <td>977</td>\n",
              "    </tr>\n",
              "    <tr>\n",
              "      <th>repliedAt</th>\n",
              "      <td>977</td>\n",
              "    </tr>\n",
              "    <tr>\n",
              "      <th>Sentiment</th>\n",
              "      <td>0</td>\n",
              "    </tr>\n",
              "    <tr>\n",
              "      <th>Sub Category</th>\n",
              "      <td>1</td>\n",
              "    </tr>\n",
              "    <tr>\n",
              "      <th>Sub Category_test</th>\n",
              "      <td>1477</td>\n",
              "    </tr>\n",
              "  </tbody>\n",
              "</table>\n",
              "</div><br><label><b>dtype:</b> int64</label>"
            ]
          },
          "metadata": {},
          "execution_count": 14
        }
      ]
    },
    {
      "cell_type": "code",
      "source": [
        "# Display rows where any column has NaN values\n",
        "\n",
        "rows_with_nan = data[data.isna().any(axis=1)]\n",
        "print(rows_with_nan)\n",
        "rows_with_nan.head()"
      ],
      "metadata": {
        "colab": {
          "base_uri": "https://localhost:8080/",
          "height": 1000
        },
        "id": "o3nQ7SaHT1Rw",
        "outputId": "c0e6845a-1de6-4072-8b84-de19b056dcc6"
      },
      "execution_count": null,
      "outputs": [
        {
          "output_type": "stream",
          "name": "stdout",
          "text": [
            "                                               reviewId            userName  \\\n",
            "0     gp:AOqpTOFxf3fttcT5DSvFIn9KPp5FErgH9yC533Fmoxv...      Donna Caritero   \n",
            "1     gp:AOqpTOEq6rNIWLnPV4KFTctWvm0mpGEQljtD6mvy1H-...  Soumi Mukhopadhyay   \n",
            "3     gp:AOqpTOHSuKkVTcM3QgCCKysHQlxEnk2ocOKsUMiMIJy...        Anthony Dean   \n",
            "5     gp:AOqpTOGH3JKY8DPnqt417vG2gkV8QTNF6qyafu0XSS1...      Agber Jeremiah   \n",
            "7     gp:AOqpTOHpGuvdY-G1z8xpRB3ZJj0PGSKce2fXcJWlLsS...       shinakshi jha   \n",
            "...                                                 ...                 ...   \n",
            "1495  gp:AOqpTOHhnXMpylU3f-1V1KbR2hwWArOilxPlKI6K4xY...            Reen Ali   \n",
            "1496  gp:AOqpTOEcz62DHS-amqTB5xGMhM4_R0UJpcv_HDNny9i...     Shaurya Chilwal   \n",
            "1497  gp:AOqpTOFMqEqa_kpp29Q8wjcBmKUCAvOQGQx4KZQ8b83...           GK Gaming   \n",
            "1498  gp:AOqpTOGY4z3pUxeiqGzn2ad3Noxqlbm-9DZ3ksHqD1_...    1203_Vani Sharma   \n",
            "1499  gp:AOqpTOFVGZ0MXyR-Gv_d2cYf2KD709Hwple_u7OZE4y...           MeLLy EcK   \n",
            "\n",
            "                                              userImage  \\\n",
            "0     https://play-lh.googleusercontent.com/a-/AOh14...   \n",
            "1     https://play-lh.googleusercontent.com/a-/AOh14...   \n",
            "3     https://play-lh.googleusercontent.com/a/AATXAJ...   \n",
            "5     https://play-lh.googleusercontent.com/a/AATXAJ...   \n",
            "7     https://play-lh.googleusercontent.com/a-/AOh14...   \n",
            "...                                                 ...   \n",
            "1495  https://play-lh.googleusercontent.com/a-/AOh14...   \n",
            "1496  https://play-lh.googleusercontent.com/a/AATXAJ...   \n",
            "1497  https://play-lh.googleusercontent.com/a-/AOh14...   \n",
            "1498  https://play-lh.googleusercontent.com/a-/AOh14...   \n",
            "1499  https://play-lh.googleusercontent.com/a-/AOh14...   \n",
            "\n",
            "                                                 review  score  thumbsUpCount  \\\n",
            "0     Overall it's really an amazing app. I've been ...      4            528   \n",
            "1     Hey! Yes I gave a 5 star rating... coz I belie...      5            351   \n",
            "3     It's a brilliant app, but I have just one prob...      5            145   \n",
            "5     The app is really great given to the fact that...      4            118   \n",
            "7     I using this app last 2 months. And i use for ...      5            112   \n",
            "...                                                 ...    ...            ...   \n",
            "1495   Absolutely amazing and a lifesaver for teachers.      5              0   \n",
            "1496  Very nice but many a times shows error opening...      3              0   \n",
            "1497  Too much lag. Always stuck on starting page. W...      1              0   \n",
            "1498  Nice app for all college work. So many feature...      5              0   \n",
            "1499  I am a teacher and this was so much for this s...      5              0   \n",
            "\n",
            "     reviewCreatedVersion                  at  \\\n",
            "0                 2.116.0 2021-06-17 07:18:54   \n",
            "1                 2.116.0 2021-06-17 19:18:28   \n",
            "3                 2.116.0 2021-06-19 23:36:07   \n",
            "5                 2.115.0 2021-06-23 22:21:08   \n",
            "7                 2.116.0 2021-06-21 03:40:22   \n",
            "...                   ...                 ...   \n",
            "1495              2.127.0 2021-09-07 02:45:51   \n",
            "1496              2.123.0 2021-08-14 07:36:50   \n",
            "1497              2.118.0 2021-07-06 03:34:38   \n",
            "1498              2.123.0 2021-08-07 18:47:15   \n",
            "1499              2.117.0 2021-06-28 03:40:57   \n",
            "\n",
            "                                           replyContent           repliedAt  \\\n",
            "0     Hi Donna. We are sorry that your text or desig... 2021-06-19 21:24:32   \n",
            "1                                                   NaN                 NaT   \n",
            "3                                                   NaN                 NaT   \n",
            "5     Sorry that you are unable to utilize the app i... 2021-06-27 17:50:10   \n",
            "7                                                   NaN                 NaT   \n",
            "...                                                 ...                 ...   \n",
            "1495                                                NaN                 NaT   \n",
            "1496  Hi Shaurya, we're sorry if the app shows error... 2021-08-22 00:07:12   \n",
            "1497  Hello there, sorry if it is frustrating and ju... 2021-07-19 01:19:18   \n",
            "1498                                                NaN                 NaT   \n",
            "1499                                                NaN                 NaT   \n",
            "\n",
            "     Sentiment     Sub Category    Sub Category_test  \n",
            "0     Negative              NaN  bug_picture_quality  \n",
            "1     Positive  extremely_happy                  NaN  \n",
            "3     Negative           others        bug_app_crash  \n",
            "5     Positive  extremely_happy                  NaN  \n",
            "7     Positive        satisfied                  NaN  \n",
            "...        ...              ...                  ...  \n",
            "1495  Positive  extremely_happy                  NaN  \n",
            "1496  Negative           others                  NaN  \n",
            "1497  Negative           others                  NaN  \n",
            "1498  Positive  extremely_happy                  NaN  \n",
            "1499  Positive  extremely_happy                  NaN  \n",
            "\n",
            "[1481 rows x 13 columns]\n"
          ]
        },
        {
          "output_type": "execute_result",
          "data": {
            "text/plain": [
              "                                            reviewId            userName  \\\n",
              "0  gp:AOqpTOFxf3fttcT5DSvFIn9KPp5FErgH9yC533Fmoxv...      Donna Caritero   \n",
              "1  gp:AOqpTOEq6rNIWLnPV4KFTctWvm0mpGEQljtD6mvy1H-...  Soumi Mukhopadhyay   \n",
              "3  gp:AOqpTOHSuKkVTcM3QgCCKysHQlxEnk2ocOKsUMiMIJy...        Anthony Dean   \n",
              "5  gp:AOqpTOGH3JKY8DPnqt417vG2gkV8QTNF6qyafu0XSS1...      Agber Jeremiah   \n",
              "7  gp:AOqpTOHpGuvdY-G1z8xpRB3ZJj0PGSKce2fXcJWlLsS...       shinakshi jha   \n",
              "\n",
              "                                           userImage  \\\n",
              "0  https://play-lh.googleusercontent.com/a-/AOh14...   \n",
              "1  https://play-lh.googleusercontent.com/a-/AOh14...   \n",
              "3  https://play-lh.googleusercontent.com/a/AATXAJ...   \n",
              "5  https://play-lh.googleusercontent.com/a/AATXAJ...   \n",
              "7  https://play-lh.googleusercontent.com/a-/AOh14...   \n",
              "\n",
              "                                              review  score  thumbsUpCount  \\\n",
              "0  Overall it's really an amazing app. I've been ...      4            528   \n",
              "1  Hey! Yes I gave a 5 star rating... coz I belie...      5            351   \n",
              "3  It's a brilliant app, but I have just one prob...      5            145   \n",
              "5  The app is really great given to the fact that...      4            118   \n",
              "7  I using this app last 2 months. And i use for ...      5            112   \n",
              "\n",
              "  reviewCreatedVersion                  at  \\\n",
              "0              2.116.0 2021-06-17 07:18:54   \n",
              "1              2.116.0 2021-06-17 19:18:28   \n",
              "3              2.116.0 2021-06-19 23:36:07   \n",
              "5              2.115.0 2021-06-23 22:21:08   \n",
              "7              2.116.0 2021-06-21 03:40:22   \n",
              "\n",
              "                                        replyContent           repliedAt  \\\n",
              "0  Hi Donna. We are sorry that your text or desig... 2021-06-19 21:24:32   \n",
              "1                                                NaN                 NaT   \n",
              "3                                                NaN                 NaT   \n",
              "5  Sorry that you are unable to utilize the app i... 2021-06-27 17:50:10   \n",
              "7                                                NaN                 NaT   \n",
              "\n",
              "  Sentiment     Sub Category    Sub Category_test  \n",
              "0  Negative              NaN  bug_picture_quality  \n",
              "1  Positive  extremely_happy                  NaN  \n",
              "3  Negative           others        bug_app_crash  \n",
              "5  Positive  extremely_happy                  NaN  \n",
              "7  Positive        satisfied                  NaN  "
            ],
            "text/html": [
              "\n",
              "  <div id=\"df-19adee52-e94e-4d57-90dd-6b455c17f473\" class=\"colab-df-container\">\n",
              "    <div>\n",
              "<style scoped>\n",
              "    .dataframe tbody tr th:only-of-type {\n",
              "        vertical-align: middle;\n",
              "    }\n",
              "\n",
              "    .dataframe tbody tr th {\n",
              "        vertical-align: top;\n",
              "    }\n",
              "\n",
              "    .dataframe thead th {\n",
              "        text-align: right;\n",
              "    }\n",
              "</style>\n",
              "<table border=\"1\" class=\"dataframe\">\n",
              "  <thead>\n",
              "    <tr style=\"text-align: right;\">\n",
              "      <th></th>\n",
              "      <th>reviewId</th>\n",
              "      <th>userName</th>\n",
              "      <th>userImage</th>\n",
              "      <th>review</th>\n",
              "      <th>score</th>\n",
              "      <th>thumbsUpCount</th>\n",
              "      <th>reviewCreatedVersion</th>\n",
              "      <th>at</th>\n",
              "      <th>replyContent</th>\n",
              "      <th>repliedAt</th>\n",
              "      <th>Sentiment</th>\n",
              "      <th>Sub Category</th>\n",
              "      <th>Sub Category_test</th>\n",
              "    </tr>\n",
              "  </thead>\n",
              "  <tbody>\n",
              "    <tr>\n",
              "      <th>0</th>\n",
              "      <td>gp:AOqpTOFxf3fttcT5DSvFIn9KPp5FErgH9yC533Fmoxv...</td>\n",
              "      <td>Donna Caritero</td>\n",
              "      <td>https://play-lh.googleusercontent.com/a-/AOh14...</td>\n",
              "      <td>Overall it's really an amazing app. I've been ...</td>\n",
              "      <td>4</td>\n",
              "      <td>528</td>\n",
              "      <td>2.116.0</td>\n",
              "      <td>2021-06-17 07:18:54</td>\n",
              "      <td>Hi Donna. We are sorry that your text or desig...</td>\n",
              "      <td>2021-06-19 21:24:32</td>\n",
              "      <td>Negative</td>\n",
              "      <td>NaN</td>\n",
              "      <td>bug_picture_quality</td>\n",
              "    </tr>\n",
              "    <tr>\n",
              "      <th>1</th>\n",
              "      <td>gp:AOqpTOEq6rNIWLnPV4KFTctWvm0mpGEQljtD6mvy1H-...</td>\n",
              "      <td>Soumi Mukhopadhyay</td>\n",
              "      <td>https://play-lh.googleusercontent.com/a-/AOh14...</td>\n",
              "      <td>Hey! Yes I gave a 5 star rating... coz I belie...</td>\n",
              "      <td>5</td>\n",
              "      <td>351</td>\n",
              "      <td>2.116.0</td>\n",
              "      <td>2021-06-17 19:18:28</td>\n",
              "      <td>NaN</td>\n",
              "      <td>NaT</td>\n",
              "      <td>Positive</td>\n",
              "      <td>extremely_happy</td>\n",
              "      <td>NaN</td>\n",
              "    </tr>\n",
              "    <tr>\n",
              "      <th>3</th>\n",
              "      <td>gp:AOqpTOHSuKkVTcM3QgCCKysHQlxEnk2ocOKsUMiMIJy...</td>\n",
              "      <td>Anthony Dean</td>\n",
              "      <td>https://play-lh.googleusercontent.com/a/AATXAJ...</td>\n",
              "      <td>It's a brilliant app, but I have just one prob...</td>\n",
              "      <td>5</td>\n",
              "      <td>145</td>\n",
              "      <td>2.116.0</td>\n",
              "      <td>2021-06-19 23:36:07</td>\n",
              "      <td>NaN</td>\n",
              "      <td>NaT</td>\n",
              "      <td>Negative</td>\n",
              "      <td>others</td>\n",
              "      <td>bug_app_crash</td>\n",
              "    </tr>\n",
              "    <tr>\n",
              "      <th>5</th>\n",
              "      <td>gp:AOqpTOGH3JKY8DPnqt417vG2gkV8QTNF6qyafu0XSS1...</td>\n",
              "      <td>Agber Jeremiah</td>\n",
              "      <td>https://play-lh.googleusercontent.com/a/AATXAJ...</td>\n",
              "      <td>The app is really great given to the fact that...</td>\n",
              "      <td>4</td>\n",
              "      <td>118</td>\n",
              "      <td>2.115.0</td>\n",
              "      <td>2021-06-23 22:21:08</td>\n",
              "      <td>Sorry that you are unable to utilize the app i...</td>\n",
              "      <td>2021-06-27 17:50:10</td>\n",
              "      <td>Positive</td>\n",
              "      <td>extremely_happy</td>\n",
              "      <td>NaN</td>\n",
              "    </tr>\n",
              "    <tr>\n",
              "      <th>7</th>\n",
              "      <td>gp:AOqpTOHpGuvdY-G1z8xpRB3ZJj0PGSKce2fXcJWlLsS...</td>\n",
              "      <td>shinakshi jha</td>\n",
              "      <td>https://play-lh.googleusercontent.com/a-/AOh14...</td>\n",
              "      <td>I using this app last 2 months. And i use for ...</td>\n",
              "      <td>5</td>\n",
              "      <td>112</td>\n",
              "      <td>2.116.0</td>\n",
              "      <td>2021-06-21 03:40:22</td>\n",
              "      <td>NaN</td>\n",
              "      <td>NaT</td>\n",
              "      <td>Positive</td>\n",
              "      <td>satisfied</td>\n",
              "      <td>NaN</td>\n",
              "    </tr>\n",
              "  </tbody>\n",
              "</table>\n",
              "</div>\n",
              "    <div class=\"colab-df-buttons\">\n",
              "\n",
              "  <div class=\"colab-df-container\">\n",
              "    <button class=\"colab-df-convert\" onclick=\"convertToInteractive('df-19adee52-e94e-4d57-90dd-6b455c17f473')\"\n",
              "            title=\"Convert this dataframe to an interactive table.\"\n",
              "            style=\"display:none;\">\n",
              "\n",
              "  <svg xmlns=\"http://www.w3.org/2000/svg\" height=\"24px\" viewBox=\"0 -960 960 960\">\n",
              "    <path d=\"M120-120v-720h720v720H120Zm60-500h600v-160H180v160Zm220 220h160v-160H400v160Zm0 220h160v-160H400v160ZM180-400h160v-160H180v160Zm440 0h160v-160H620v160ZM180-180h160v-160H180v160Zm440 0h160v-160H620v160Z\"/>\n",
              "  </svg>\n",
              "    </button>\n",
              "\n",
              "  <style>\n",
              "    .colab-df-container {\n",
              "      display:flex;\n",
              "      gap: 12px;\n",
              "    }\n",
              "\n",
              "    .colab-df-convert {\n",
              "      background-color: #E8F0FE;\n",
              "      border: none;\n",
              "      border-radius: 50%;\n",
              "      cursor: pointer;\n",
              "      display: none;\n",
              "      fill: #1967D2;\n",
              "      height: 32px;\n",
              "      padding: 0 0 0 0;\n",
              "      width: 32px;\n",
              "    }\n",
              "\n",
              "    .colab-df-convert:hover {\n",
              "      background-color: #E2EBFA;\n",
              "      box-shadow: 0px 1px 2px rgba(60, 64, 67, 0.3), 0px 1px 3px 1px rgba(60, 64, 67, 0.15);\n",
              "      fill: #174EA6;\n",
              "    }\n",
              "\n",
              "    .colab-df-buttons div {\n",
              "      margin-bottom: 4px;\n",
              "    }\n",
              "\n",
              "    [theme=dark] .colab-df-convert {\n",
              "      background-color: #3B4455;\n",
              "      fill: #D2E3FC;\n",
              "    }\n",
              "\n",
              "    [theme=dark] .colab-df-convert:hover {\n",
              "      background-color: #434B5C;\n",
              "      box-shadow: 0px 1px 3px 1px rgba(0, 0, 0, 0.15);\n",
              "      filter: drop-shadow(0px 1px 2px rgba(0, 0, 0, 0.3));\n",
              "      fill: #FFFFFF;\n",
              "    }\n",
              "  </style>\n",
              "\n",
              "    <script>\n",
              "      const buttonEl =\n",
              "        document.querySelector('#df-19adee52-e94e-4d57-90dd-6b455c17f473 button.colab-df-convert');\n",
              "      buttonEl.style.display =\n",
              "        google.colab.kernel.accessAllowed ? 'block' : 'none';\n",
              "\n",
              "      async function convertToInteractive(key) {\n",
              "        const element = document.querySelector('#df-19adee52-e94e-4d57-90dd-6b455c17f473');\n",
              "        const dataTable =\n",
              "          await google.colab.kernel.invokeFunction('convertToInteractive',\n",
              "                                                    [key], {});\n",
              "        if (!dataTable) return;\n",
              "\n",
              "        const docLinkHtml = 'Like what you see? Visit the ' +\n",
              "          '<a target=\"_blank\" href=https://colab.research.google.com/notebooks/data_table.ipynb>data table notebook</a>'\n",
              "          + ' to learn more about interactive tables.';\n",
              "        element.innerHTML = '';\n",
              "        dataTable['output_type'] = 'display_data';\n",
              "        await google.colab.output.renderOutput(dataTable, element);\n",
              "        const docLink = document.createElement('div');\n",
              "        docLink.innerHTML = docLinkHtml;\n",
              "        element.appendChild(docLink);\n",
              "      }\n",
              "    </script>\n",
              "  </div>\n",
              "\n",
              "\n",
              "<div id=\"df-a7c2fe6f-be27-4b91-a7a7-3c1ca5d93174\">\n",
              "  <button class=\"colab-df-quickchart\" onclick=\"quickchart('df-a7c2fe6f-be27-4b91-a7a7-3c1ca5d93174')\"\n",
              "            title=\"Suggest charts\"\n",
              "            style=\"display:none;\">\n",
              "\n",
              "<svg xmlns=\"http://www.w3.org/2000/svg\" height=\"24px\"viewBox=\"0 0 24 24\"\n",
              "     width=\"24px\">\n",
              "    <g>\n",
              "        <path d=\"M19 3H5c-1.1 0-2 .9-2 2v14c0 1.1.9 2 2 2h14c1.1 0 2-.9 2-2V5c0-1.1-.9-2-2-2zM9 17H7v-7h2v7zm4 0h-2V7h2v10zm4 0h-2v-4h2v4z\"/>\n",
              "    </g>\n",
              "</svg>\n",
              "  </button>\n",
              "\n",
              "<style>\n",
              "  .colab-df-quickchart {\n",
              "      --bg-color: #E8F0FE;\n",
              "      --fill-color: #1967D2;\n",
              "      --hover-bg-color: #E2EBFA;\n",
              "      --hover-fill-color: #174EA6;\n",
              "      --disabled-fill-color: #AAA;\n",
              "      --disabled-bg-color: #DDD;\n",
              "  }\n",
              "\n",
              "  [theme=dark] .colab-df-quickchart {\n",
              "      --bg-color: #3B4455;\n",
              "      --fill-color: #D2E3FC;\n",
              "      --hover-bg-color: #434B5C;\n",
              "      --hover-fill-color: #FFFFFF;\n",
              "      --disabled-bg-color: #3B4455;\n",
              "      --disabled-fill-color: #666;\n",
              "  }\n",
              "\n",
              "  .colab-df-quickchart {\n",
              "    background-color: var(--bg-color);\n",
              "    border: none;\n",
              "    border-radius: 50%;\n",
              "    cursor: pointer;\n",
              "    display: none;\n",
              "    fill: var(--fill-color);\n",
              "    height: 32px;\n",
              "    padding: 0;\n",
              "    width: 32px;\n",
              "  }\n",
              "\n",
              "  .colab-df-quickchart:hover {\n",
              "    background-color: var(--hover-bg-color);\n",
              "    box-shadow: 0 1px 2px rgba(60, 64, 67, 0.3), 0 1px 3px 1px rgba(60, 64, 67, 0.15);\n",
              "    fill: var(--button-hover-fill-color);\n",
              "  }\n",
              "\n",
              "  .colab-df-quickchart-complete:disabled,\n",
              "  .colab-df-quickchart-complete:disabled:hover {\n",
              "    background-color: var(--disabled-bg-color);\n",
              "    fill: var(--disabled-fill-color);\n",
              "    box-shadow: none;\n",
              "  }\n",
              "\n",
              "  .colab-df-spinner {\n",
              "    border: 2px solid var(--fill-color);\n",
              "    border-color: transparent;\n",
              "    border-bottom-color: var(--fill-color);\n",
              "    animation:\n",
              "      spin 1s steps(1) infinite;\n",
              "  }\n",
              "\n",
              "  @keyframes spin {\n",
              "    0% {\n",
              "      border-color: transparent;\n",
              "      border-bottom-color: var(--fill-color);\n",
              "      border-left-color: var(--fill-color);\n",
              "    }\n",
              "    20% {\n",
              "      border-color: transparent;\n",
              "      border-left-color: var(--fill-color);\n",
              "      border-top-color: var(--fill-color);\n",
              "    }\n",
              "    30% {\n",
              "      border-color: transparent;\n",
              "      border-left-color: var(--fill-color);\n",
              "      border-top-color: var(--fill-color);\n",
              "      border-right-color: var(--fill-color);\n",
              "    }\n",
              "    40% {\n",
              "      border-color: transparent;\n",
              "      border-right-color: var(--fill-color);\n",
              "      border-top-color: var(--fill-color);\n",
              "    }\n",
              "    60% {\n",
              "      border-color: transparent;\n",
              "      border-right-color: var(--fill-color);\n",
              "    }\n",
              "    80% {\n",
              "      border-color: transparent;\n",
              "      border-right-color: var(--fill-color);\n",
              "      border-bottom-color: var(--fill-color);\n",
              "    }\n",
              "    90% {\n",
              "      border-color: transparent;\n",
              "      border-bottom-color: var(--fill-color);\n",
              "    }\n",
              "  }\n",
              "</style>\n",
              "\n",
              "  <script>\n",
              "    async function quickchart(key) {\n",
              "      const quickchartButtonEl =\n",
              "        document.querySelector('#' + key + ' button');\n",
              "      quickchartButtonEl.disabled = true;  // To prevent multiple clicks.\n",
              "      quickchartButtonEl.classList.add('colab-df-spinner');\n",
              "      try {\n",
              "        const charts = await google.colab.kernel.invokeFunction(\n",
              "            'suggestCharts', [key], {});\n",
              "      } catch (error) {\n",
              "        console.error('Error during call to suggestCharts:', error);\n",
              "      }\n",
              "      quickchartButtonEl.classList.remove('colab-df-spinner');\n",
              "      quickchartButtonEl.classList.add('colab-df-quickchart-complete');\n",
              "    }\n",
              "    (() => {\n",
              "      let quickchartButtonEl =\n",
              "        document.querySelector('#df-a7c2fe6f-be27-4b91-a7a7-3c1ca5d93174 button');\n",
              "      quickchartButtonEl.style.display =\n",
              "        google.colab.kernel.accessAllowed ? 'block' : 'none';\n",
              "    })();\n",
              "  </script>\n",
              "</div>\n",
              "\n",
              "    </div>\n",
              "  </div>\n"
            ],
            "application/vnd.google.colaboratory.intrinsic+json": {
              "type": "dataframe",
              "variable_name": "rows_with_nan",
              "summary": "{\n  \"name\": \"rows_with_nan\",\n  \"rows\": 1481,\n  \"fields\": [\n    {\n      \"column\": \"reviewId\",\n      \"properties\": {\n        \"dtype\": \"string\",\n        \"num_unique_values\": 1481,\n        \"samples\": [\n          \"gp:AOqpTOFB1zypCJ7LCZR9YOMengWRiiTqooOg3djCWrJffGxrq_iI12vQpaQpVs1gd325qiqejy6CFT7pksYWVWw\",\n          \"gp:AOqpTOE_iRzMGW0uhFv_pIccNXDbwb83RRu2w-fxrDNjLVPIzBVcZfw0GCfyfkpKOspvse5qxmxzet0eHMQwrWo\",\n          \"gp:AOqpTOH3PFyiwzPUZVLVpzv5cSkKUDUkdjZK8cgjqq5g4VAkucE0znF7jcWjP40eIYoMc6q95iMKw-aLxmylLUE\"\n        ],\n        \"semantic_type\": \"\",\n        \"description\": \"\"\n      }\n    },\n    {\n      \"column\": \"userName\",\n      \"properties\": {\n        \"dtype\": \"string\",\n        \"num_unique_values\": 1481,\n        \"samples\": [\n          \"Raeisa Maryam Aslam\",\n          \"Ngala Samuel\",\n          \"Syafiqah Nur\"\n        ],\n        \"semantic_type\": \"\",\n        \"description\": \"\"\n      }\n    },\n    {\n      \"column\": \"userImage\",\n      \"properties\": {\n        \"dtype\": \"string\",\n        \"num_unique_values\": 1481,\n        \"samples\": [\n          \"https://play-lh.googleusercontent.com/a-/AOh14Gj_E2wDSx96MUnHnLiFiM73GrufaHetRP4cujYc1Q\",\n          \"https://play-lh.googleusercontent.com/a-/AOh14GhfEZmr0CJjkoXv8Fw-iV9pTKOWqfLcSew8N0_IPLo\",\n          \"https://play-lh.googleusercontent.com/a/AATXAJzbWxy0IEIviM_G8S_yOvWmWUQ7RViJifsMrj1C=mo\"\n        ],\n        \"semantic_type\": \"\",\n        \"description\": \"\"\n      }\n    },\n    {\n      \"column\": \"review\",\n      \"properties\": {\n        \"dtype\": \"string\",\n        \"num_unique_values\": 1481,\n        \"samples\": [\n          \"In my opinion this app is very smooth and good working while editing ..but the reason why I rated it 4 stars is because when I try to save most of my designs it either has a problem or gets stuck at the very last and therefore all my work goes in vain..I know we can take a SS but the quality is ruined \\ud83d\\ude42 I hope the developers fix this that's all over all you should install this app\\ud83d\\udc49\\ud83d\\udc48\\ud83d\\udc9c\\u2728\",\n          \"So far it's my Go to app and website for designing thumbnails Great job\\ud83d\\udc4f\",\n          \"I got problem to download the design. Why always saying canvas experienced technical issue. Please help me. Urgent\\ud83d\\ude14\"\n        ],\n        \"semantic_type\": \"\",\n        \"description\": \"\"\n      }\n    },\n    {\n      \"column\": \"score\",\n      \"properties\": {\n        \"dtype\": \"number\",\n        \"std\": 1,\n        \"min\": 1,\n        \"max\": 5,\n        \"num_unique_values\": 5,\n        \"samples\": [\n          5,\n          2,\n          1\n        ],\n        \"semantic_type\": \"\",\n        \"description\": \"\"\n      }\n    },\n    {\n      \"column\": \"thumbsUpCount\",\n      \"properties\": {\n        \"dtype\": \"number\",\n        \"std\": 17,\n        \"min\": 0,\n        \"max\": 528,\n        \"num_unique_values\": 19,\n        \"samples\": [\n          528,\n          102,\n          7\n        ],\n        \"semantic_type\": \"\",\n        \"description\": \"\"\n      }\n    },\n    {\n      \"column\": \"reviewCreatedVersion\",\n      \"properties\": {\n        \"dtype\": \"category\",\n        \"num_unique_values\": 23,\n        \"samples\": [\n          \"2.126.0\",\n          \"2.120.0\",\n          \"2.116.0\"\n        ],\n        \"semantic_type\": \"\",\n        \"description\": \"\"\n      }\n    },\n    {\n      \"column\": \"at\",\n      \"properties\": {\n        \"dtype\": \"date\",\n        \"min\": \"2021-06-16 15:54:36\",\n        \"max\": \"2021-09-13 21:43:15\",\n        \"num_unique_values\": 1481,\n        \"samples\": [\n          \"2021-06-21 13:13:11\",\n          \"2021-08-17 08:24:03\",\n          \"2021-06-27 00:47:27\"\n        ],\n        \"semantic_type\": \"\",\n        \"description\": \"\"\n      }\n    },\n    {\n      \"column\": \"replyContent\",\n      \"properties\": {\n        \"dtype\": \"category\",\n        \"num_unique_values\": 443,\n        \"samples\": [\n          \"Hello Sebuliba, thanks for your feedback. We really appreciate it. We're continuously working to make the app much better. Please keep your app updated as we regularly release new features and improvements. Feel free to let us know your concerns thru canva.me/android. - Cynch\",\n          \"Hi Gayathri, we're sorry if your unable to download your design in the app. We want to make sure that you are properly assisted with the issue you encountered. Please provide us more details through here: canva.me/android. Don't forget to check for updates to get all the functionality of the app. - Lou\",\n          \"Hi Bianca. Thanks for reviewing our app and for giving us a great feedback. It means so much to us. If you have other concerns, reach us out at canva.me/android. Kind regards. - ED\"\n        ],\n        \"semantic_type\": \"\",\n        \"description\": \"\"\n      }\n    },\n    {\n      \"column\": \"repliedAt\",\n      \"properties\": {\n        \"dtype\": \"date\",\n        \"min\": \"2018-12-16 22:19:40\",\n        \"max\": \"2021-09-16 09:28:04\",\n        \"num_unique_values\": 504,\n        \"samples\": [\n          \"2021-09-05 05:50:20\",\n          \"2021-08-19 05:59:25\",\n          \"2021-07-29 04:50:20\"\n        ],\n        \"semantic_type\": \"\",\n        \"description\": \"\"\n      }\n    },\n    {\n      \"column\": \"Sentiment\",\n      \"properties\": {\n        \"dtype\": \"category\",\n        \"num_unique_values\": 2,\n        \"samples\": [\n          \"Positive\",\n          \"Negative\"\n        ],\n        \"semantic_type\": \"\",\n        \"description\": \"\"\n      }\n    },\n    {\n      \"column\": \"Sub Category\",\n      \"properties\": {\n        \"dtype\": \"category\",\n        \"num_unique_values\": 5,\n        \"samples\": [\n          \"others\",\n          \"saving_downloading_issue\"\n        ],\n        \"semantic_type\": \"\",\n        \"description\": \"\"\n      }\n    },\n    {\n      \"column\": \"Sub Category_test\",\n      \"properties\": {\n        \"dtype\": \"category\",\n        \"num_unique_values\": 3,\n        \"samples\": [\n          \"bug_picture_quality\",\n          \"bug_app_crash\"\n        ],\n        \"semantic_type\": \"\",\n        \"description\": \"\"\n      }\n    }\n  ]\n}"
            }
          },
          "metadata": {},
          "execution_count": 15
        }
      ]
    },
    {
      "cell_type": "code",
      "source": [
        "data.loc[13, \"review\"]"
      ],
      "metadata": {
        "colab": {
          "base_uri": "https://localhost:8080/",
          "height": 35
        },
        "id": "bAqDnneOUCk7",
        "outputId": "53269a12-7ba2-4de6-ddd0-2b67ca57e13d"
      },
      "execution_count": null,
      "outputs": [
        {
          "output_type": "execute_result",
          "data": {
            "text/plain": [
              "'Unable to save my work. Nothing works :('"
            ],
            "application/vnd.google.colaboratory.intrinsic+json": {
              "type": "string"
            }
          },
          "metadata": {},
          "execution_count": 16
        }
      ]
    },
    {
      "cell_type": "code",
      "source": [
        "data.loc[13, \"Sentiment\"]"
      ],
      "metadata": {
        "colab": {
          "base_uri": "https://localhost:8080/",
          "height": 35
        },
        "id": "v_Mvy0h4UVoD",
        "outputId": "ccd1dc69-b6c0-4e89-f34a-88ceddc28482"
      },
      "execution_count": null,
      "outputs": [
        {
          "output_type": "execute_result",
          "data": {
            "text/plain": [
              "'Negative'"
            ],
            "application/vnd.google.colaboratory.intrinsic+json": {
              "type": "string"
            }
          },
          "metadata": {},
          "execution_count": 17
        }
      ]
    },
    {
      "cell_type": "code",
      "source": [
        "data.loc[1490, \"review\"]"
      ],
      "metadata": {
        "colab": {
          "base_uri": "https://localhost:8080/",
          "height": 35
        },
        "id": "QTMTnWsaUZwM",
        "outputId": "3275fbce-d3cd-44f0-88af-b688e5fba3e8"
      },
      "execution_count": null,
      "outputs": [
        {
          "output_type": "execute_result",
          "data": {
            "text/plain": [
              "'Best app for edit a template,thumbnail and other photos for free. i really like the app'"
            ],
            "application/vnd.google.colaboratory.intrinsic+json": {
              "type": "string"
            }
          },
          "metadata": {},
          "execution_count": 18
        }
      ]
    },
    {
      "cell_type": "code",
      "source": [
        "print(data.iloc[[1495]])"
      ],
      "metadata": {
        "colab": {
          "base_uri": "https://localhost:8080/"
        },
        "id": "rBa_NPHRVxa5",
        "outputId": "66a881de-bbc3-4d1a-bd96-b8be7ec6d920"
      },
      "execution_count": null,
      "outputs": [
        {
          "output_type": "stream",
          "name": "stdout",
          "text": [
            "                                               reviewId  userName  \\\n",
            "1495  gp:AOqpTOHhnXMpylU3f-1V1KbR2hwWArOilxPlKI6K4xY...  Reen Ali   \n",
            "\n",
            "                                              userImage  \\\n",
            "1495  https://play-lh.googleusercontent.com/a-/AOh14...   \n",
            "\n",
            "                                                review  score  thumbsUpCount  \\\n",
            "1495  Absolutely amazing and a lifesaver for teachers.      5              0   \n",
            "\n",
            "     reviewCreatedVersion                  at replyContent repliedAt  \\\n",
            "1495              2.127.0 2021-09-07 02:45:51          NaN       NaT   \n",
            "\n",
            "     Sentiment     Sub Category Sub Category_test  \n",
            "1495  Positive  extremely_happy               NaN  \n"
          ]
        }
      ]
    },
    {
      "cell_type": "markdown",
      "source": [
        "## **Section 1 - Part b. EDA**"
      ],
      "metadata": {
        "id": "Photp-xzbYXo"
      }
    },
    {
      "cell_type": "markdown",
      "source": [
        "**Count and Percentage of Target variable**"
      ],
      "metadata": {
        "id": "xrTQ2o-cMHCC"
      }
    },
    {
      "cell_type": "code",
      "source": [
        "data[\"Sentiment\"].describe()"
      ],
      "metadata": {
        "colab": {
          "base_uri": "https://localhost:8080/",
          "height": 210
        },
        "id": "nUPRjssHWDM5",
        "outputId": "a9794804-35c9-49cc-97b0-9f1ed6d41a8b"
      },
      "execution_count": null,
      "outputs": [
        {
          "output_type": "execute_result",
          "data": {
            "text/plain": [
              "count         1500\n",
              "unique           2\n",
              "top       Positive\n",
              "freq          1032\n",
              "Name: Sentiment, dtype: object"
            ],
            "text/html": [
              "<div>\n",
              "<style scoped>\n",
              "    .dataframe tbody tr th:only-of-type {\n",
              "        vertical-align: middle;\n",
              "    }\n",
              "\n",
              "    .dataframe tbody tr th {\n",
              "        vertical-align: top;\n",
              "    }\n",
              "\n",
              "    .dataframe thead th {\n",
              "        text-align: right;\n",
              "    }\n",
              "</style>\n",
              "<table border=\"1\" class=\"dataframe\">\n",
              "  <thead>\n",
              "    <tr style=\"text-align: right;\">\n",
              "      <th></th>\n",
              "      <th>Sentiment</th>\n",
              "    </tr>\n",
              "  </thead>\n",
              "  <tbody>\n",
              "    <tr>\n",
              "      <th>count</th>\n",
              "      <td>1500</td>\n",
              "    </tr>\n",
              "    <tr>\n",
              "      <th>unique</th>\n",
              "      <td>2</td>\n",
              "    </tr>\n",
              "    <tr>\n",
              "      <th>top</th>\n",
              "      <td>Positive</td>\n",
              "    </tr>\n",
              "    <tr>\n",
              "      <th>freq</th>\n",
              "      <td>1032</td>\n",
              "    </tr>\n",
              "  </tbody>\n",
              "</table>\n",
              "</div><br><label><b>dtype:</b> object</label>"
            ]
          },
          "metadata": {},
          "execution_count": 20
        }
      ]
    },
    {
      "cell_type": "code",
      "source": [
        "sns.countplot(x=\"Sentiment\", data=data, palette=\"viridis\")\n",
        "plt.show()"
      ],
      "metadata": {
        "colab": {
          "base_uri": "https://localhost:8080/",
          "height": 556
        },
        "id": "N3QPNjL3W1bq",
        "outputId": "0c94d7b1-0e9b-4c51-953c-e026c21650ed"
      },
      "execution_count": null,
      "outputs": [
        {
          "output_type": "stream",
          "name": "stderr",
          "text": [
            "<ipython-input-21-438e44d958be>:1: FutureWarning: \n",
            "\n",
            "Passing `palette` without assigning `hue` is deprecated and will be removed in v0.14.0. Assign the `x` variable to `hue` and set `legend=False` for the same effect.\n",
            "\n",
            "  sns.countplot(x=\"Sentiment\", data=data, palette=\"viridis\")\n"
          ]
        },
        {
          "output_type": "display_data",
          "data": {
            "text/plain": [
              "<Figure size 640x480 with 1 Axes>"
            ],
            "image/png": "[encoded data removed]"
          },
          "metadata": {}
        }
      ]
    },
    {
      "cell_type": "code",
      "source": [
        "data[\"Sentiment\"].value_counts()"
      ],
      "metadata": {
        "colab": {
          "base_uri": "https://localhost:8080/",
          "height": 178
        },
        "id": "8hDCoW8jXo-i",
        "outputId": "9338f561-1cbc-4d80-a863-855155cd95e7"
      },
      "execution_count": null,
      "outputs": [
        {
          "output_type": "execute_result",
          "data": {
            "text/plain": [
              "Sentiment\n",
              "Positive    1032\n",
              "Negative     468\n",
              "Name: count, dtype: int64"
            ],
            "text/html": [
              "<div>\n",
              "<style scoped>\n",
              "    .dataframe tbody tr th:only-of-type {\n",
              "        vertical-align: middle;\n",
              "    }\n",
              "\n",
              "    .dataframe tbody tr th {\n",
              "        vertical-align: top;\n",
              "    }\n",
              "\n",
              "    .dataframe thead th {\n",
              "        text-align: right;\n",
              "    }\n",
              "</style>\n",
              "<table border=\"1\" class=\"dataframe\">\n",
              "  <thead>\n",
              "    <tr style=\"text-align: right;\">\n",
              "      <th></th>\n",
              "      <th>count</th>\n",
              "    </tr>\n",
              "    <tr>\n",
              "      <th>Sentiment</th>\n",
              "      <th></th>\n",
              "    </tr>\n",
              "  </thead>\n",
              "  <tbody>\n",
              "    <tr>\n",
              "      <th>Positive</th>\n",
              "      <td>1032</td>\n",
              "    </tr>\n",
              "    <tr>\n",
              "      <th>Negative</th>\n",
              "      <td>468</td>\n",
              "    </tr>\n",
              "  </tbody>\n",
              "</table>\n",
              "</div><br><label><b>dtype:</b> int64</label>"
            ]
          },
          "metadata": {},
          "execution_count": 22
        }
      ]
    },
    {
      "cell_type": "code",
      "source": [
        "468/(1032+468)"
      ],
      "metadata": {
        "colab": {
          "base_uri": "https://localhost:8080/"
        },
        "id": "9fvpQ-RLXzFq",
        "outputId": "5890bbaa-2672-43bc-89b9-8b75bd7b213c"
      },
      "execution_count": null,
      "outputs": [
        {
          "output_type": "execute_result",
          "data": {
            "text/plain": [
              "0.312"
            ]
          },
          "metadata": {},
          "execution_count": 23
        }
      ]
    },
    {
      "cell_type": "code",
      "source": [
        "# How is the feature 'score' distributed?\n",
        "sns.countplot(x=\"score\", data=data, palette=\"pastel\")\n",
        "plt.show()"
      ],
      "metadata": {
        "colab": {
          "base_uri": "https://localhost:8080/",
          "height": 556
        },
        "id": "CiaqpQfuYAfQ",
        "outputId": "51e16f63-dc42-4552-dee9-d8d2dbced651"
      },
      "execution_count": null,
      "outputs": [
        {
          "output_type": "stream",
          "name": "stderr",
          "text": [
            "<ipython-input-24-f5a2691b0358>:2: FutureWarning: \n",
            "\n",
            "Passing `palette` without assigning `hue` is deprecated and will be removed in v0.14.0. Assign the `x` variable to `hue` and set `legend=False` for the same effect.\n",
            "\n",
            "  sns.countplot(x=\"score\", data=data, palette=\"pastel\")\n"
          ]
        },
        {
          "output_type": "display_data",
          "data": {
            "text/plain": [
              "<Figure size 640x480 with 1 Axes>"
            ],
            "image/png": "[encoded data removed]"
          },
          "metadata": {}
        }
      ]
    },
    {
      "cell_type": "code",
      "source": [
        "# Is score related to sentiment?\n",
        "sns.countplot(x=\"score\", data=data, hue=\"Sentiment\", palette={\"Positive\": \"green\", \"Negative\": \"red\"})\n",
        "plt.show()"
      ],
      "metadata": {
        "colab": {
          "base_uri": "https://localhost:8080/",
          "height": 449
        },
        "id": "d6cmG9VTYXnK",
        "outputId": "cb0c9675-b451-4961-f70b-c29845402782"
      },
      "execution_count": null,
      "outputs": [
        {
          "output_type": "display_data",
          "data": {
            "text/plain": [
              "<Figure size 640x480 with 1 Axes>"
            ],
            "image/png": "[encoded data removed]"
          },
          "metadata": {}
        }
      ]
    },
    {
      "cell_type": "code",
      "source": [
        "# Same plot, but showing the counts per score\n",
        "sns.set(style=\"whitegrid\")\n",
        "# Create the countplot with custom colors\n",
        "ax = sns.countplot(x=\"score\", data=data, hue=\"Sentiment\", palette={\"Positive\": \"green\", \"Negative\": \"red\"})\n",
        "# Add data labels\n",
        "for p in ax.patches:\n",
        "    height = p.get_height()\n",
        "    ax.annotate(f'{height}', (p.get_x() + p.get_width() / 2., height),\n",
        "                ha='center', va='center', xytext=(0, 5), textcoords='offset points')\n",
        "# Show the plot\n",
        "plt.show()"
      ],
      "metadata": {
        "colab": {
          "base_uri": "https://localhost:8080/",
          "height": 458
        },
        "id": "pZgUYy8GYoGC",
        "outputId": "899873c8-84c6-4a4c-f410-b3001ace00dd"
      },
      "execution_count": null,
      "outputs": [
        {
          "output_type": "display_data",
          "data": {
            "text/plain": [
              "<Figure size 640x480 with 1 Axes>"
            ],
            "image/png": "[encoded data removed]"
          },
          "metadata": {}
        }
      ]
    },
    {
      "cell_type": "code",
      "source": [
        "# is review length related to sentiment?\n",
        "# create a new column 'len' in the dataframe data\n",
        "data[\"len\"] = data[\"review\"].apply(len)"
      ],
      "metadata": {
        "id": "_TAqSmOZYtFL"
      },
      "execution_count": null,
      "outputs": []
    },
    {
      "cell_type": "code",
      "source": [
        "data[\"len\"].describe()"
      ],
      "metadata": {
        "colab": {
          "base_uri": "https://localhost:8080/",
          "height": 335
        },
        "id": "f3fdHmCPZNmK",
        "outputId": "bc5a9a5d-1034-4f94-8e36-c9548a9141d6"
      },
      "execution_count": null,
      "outputs": [
        {
          "output_type": "execute_result",
          "data": {
            "text/plain": [
              "count    1500.000000\n",
              "mean       86.468667\n",
              "std        55.681355\n",
              "min        20.000000\n",
              "25%        54.000000\n",
              "50%        75.000000\n",
              "75%       102.000000\n",
              "max       498.000000\n",
              "Name: len, dtype: float64"
            ],
            "text/html": [
              "<div>\n",
              "<style scoped>\n",
              "    .dataframe tbody tr th:only-of-type {\n",
              "        vertical-align: middle;\n",
              "    }\n",
              "\n",
              "    .dataframe tbody tr th {\n",
              "        vertical-align: top;\n",
              "    }\n",
              "\n",
              "    .dataframe thead th {\n",
              "        text-align: right;\n",
              "    }\n",
              "</style>\n",
              "<table border=\"1\" class=\"dataframe\">\n",
              "  <thead>\n",
              "    <tr style=\"text-align: right;\">\n",
              "      <th></th>\n",
              "      <th>len</th>\n",
              "    </tr>\n",
              "  </thead>\n",
              "  <tbody>\n",
              "    <tr>\n",
              "      <th>count</th>\n",
              "      <td>1500.000000</td>\n",
              "    </tr>\n",
              "    <tr>\n",
              "      <th>mean</th>\n",
              "      <td>86.468667</td>\n",
              "    </tr>\n",
              "    <tr>\n",
              "      <th>std</th>\n",
              "      <td>55.681355</td>\n",
              "    </tr>\n",
              "    <tr>\n",
              "      <th>min</th>\n",
              "      <td>20.000000</td>\n",
              "    </tr>\n",
              "    <tr>\n",
              "      <th>25%</th>\n",
              "      <td>54.000000</td>\n",
              "    </tr>\n",
              "    <tr>\n",
              "      <th>50%</th>\n",
              "      <td>75.000000</td>\n",
              "    </tr>\n",
              "    <tr>\n",
              "      <th>75%</th>\n",
              "      <td>102.000000</td>\n",
              "    </tr>\n",
              "    <tr>\n",
              "      <th>max</th>\n",
              "      <td>498.000000</td>\n",
              "    </tr>\n",
              "  </tbody>\n",
              "</table>\n",
              "</div><br><label><b>dtype:</b> float64</label>"
            ]
          },
          "metadata": {},
          "execution_count": 28
        }
      ]
    },
    {
      "cell_type": "code",
      "source": [
        "sns.displot(data[\"len\"])\n",
        "plt.show()"
      ],
      "metadata": {
        "colab": {
          "base_uri": "https://localhost:8080/",
          "height": 501
        },
        "id": "nYRvIFq4ZTEB",
        "outputId": "1ec07431-3569-4bc9-ad19-2fa94de15d42"
      },
      "execution_count": null,
      "outputs": [
        {
          "output_type": "display_data",
          "data": {
            "text/plain": [
              "<Figure size 500x500 with 1 Axes>"
            ],
            "image/png": "[encoded data removed]"
          },
          "metadata": {}
        }
      ]
    },
    {
      "cell_type": "code",
      "source": [
        "sns.displot(data=data, x=\"len\", hue=\"Sentiment\", kind=\"kde\", fill=True)     #ecdf\n",
        "plt.show()"
      ],
      "metadata": {
        "colab": {
          "base_uri": "https://localhost:8080/",
          "height": 501
        },
        "id": "mDB_x_tmZg3K",
        "outputId": "2e481d57-16d7-49c4-e7cb-0d1f7b787719"
      },
      "execution_count": null,
      "outputs": [
        {
          "output_type": "display_data",
          "data": {
            "text/plain": [
              "<Figure size 623.75x500 with 1 Axes>"
            ],
            "image/png": "[encoded data removed]"
          },
          "metadata": {}
        }
      ]
    },
    {
      "cell_type": "code",
      "source": [
        "data = data[[\"review\", \"Sentiment\"]]"
      ],
      "metadata": {
        "id": "RzHDrUkRa8Xh"
      },
      "execution_count": null,
      "outputs": []
    },
    {
      "cell_type": "markdown",
      "source": [
        "## **Section 2. Data Preprocessing**"
      ],
      "metadata": {
        "id": "bHzqcal5bgDM"
      }
    },
    {
      "cell_type": "markdown",
      "source": [
        "**1. Tokenization**"
      ],
      "metadata": {
        "id": "QIX97yLQkd11"
      }
    },
    {
      "cell_type": "code",
      "source": [
        "import nltk\n",
        "nltk.download()"
      ],
      "metadata": {
        "colab": {
          "base_uri": "https://localhost:8080/"
        },
        "id": "gpe_TYixbpQQ",
        "outputId": "3c1f050c-7322-491e-d6ff-fb75d78381a8"
      },
      "execution_count": null,
      "outputs": [
        {
          "name": "stdout",
          "output_type": "stream",
          "text": [
            "NLTK Downloader\n",
            "---------------------------------------------------------------------------\n",
            "    d) Download   l) List    u) Update   c) Config   h) Help   q) Quit\n",
            "---------------------------------------------------------------------------\n",
            "Downloader> D\n",
            "\n",
            "Download which package (l=list; x=cancel)?\n",
            "  Identifier> all\n"
          ]
        },
        {
          "output_type": "stream",
          "name": "stderr",
          "text": [
            "    Downloading collection 'all'\n",
            "       | \n",
            "       | Downloading package abc to /root/nltk_data...\n",
            "       |   Unzipping corpora/abc.zip.\n",
            "       | Downloading package alpino to /root/nltk_data...\n",
            "       |   Unzipping corpora/alpino.zip.\n",
            "       | Downloading package averaged_perceptron_tagger to\n",
            "       |     /root/nltk_data...\n",
            "       |   Unzipping taggers/averaged_perceptron_tagger.zip.\n",
            "       | Downloading package averaged_perceptron_tagger_eng to\n",
            "       |     /root/nltk_data...\n",
            "       |   Unzipping taggers/averaged_perceptron_tagger_eng.zip.\n",
            "       | Downloading package averaged_perceptron_tagger_ru to\n",
            "       |     /root/nltk_data...\n",
            "       |   Unzipping taggers/averaged_perceptron_tagger_ru.zip.\n",
            "       | Downloading package averaged_perceptron_tagger_rus to\n",
            "       |     /root/nltk_data...\n",
            "       |   Unzipping taggers/averaged_perceptron_tagger_rus.zip.\n",
            "       | Downloading package basque_grammars to /root/nltk_data...\n",
            "       |   Unzipping grammars/basque_grammars.zip.\n",
            "       | Downloading package bcp47 to /root/nltk_data...\n",
            "       | Downloading package biocreative_ppi to /root/nltk_data...\n",
            "       |   Unzipping corpora/biocreative_ppi.zip.\n",
            "       | Downloading package bllip_wsj_no_aux to /root/nltk_data...\n",
            "       |   Unzipping models/bllip_wsj_no_aux.zip.\n",
            "       | Downloading package book_grammars to /root/nltk_data...\n",
            "       |   Unzipping grammars/book_grammars.zip.\n",
            "       | Downloading package brown to /root/nltk_data...\n",
            "       |   Unzipping corpora/brown.zip.\n",
            "       | Downloading package brown_tei to /root/nltk_data...\n",
            "       |   Unzipping corpora/brown_tei.zip.\n",
            "       | Downloading package cess_cat to /root/nltk_data...\n",
            "       |   Unzipping corpora/cess_cat.zip.\n",
            "       | Downloading package cess_esp to /root/nltk_data...\n",
            "       |   Unzipping corpora/cess_esp.zip.\n",
            "       | Downloading package chat80 to /root/nltk_data...\n",
            "       |   Unzipping corpora/chat80.zip.\n",
            "       | Downloading package city_database to /root/nltk_data...\n",
            "       |   Unzipping corpora/city_database.zip.\n",
            "       | Downloading package cmudict to /root/nltk_data...\n",
            "       |   Unzipping corpora/cmudict.zip.\n",
            "       | Downloading package comparative_sentences to\n",
            "       |     /root/nltk_data...\n",
            "       |   Unzipping corpora/comparative_sentences.zip.\n",
            "       | Downloading package comtrans to /root/nltk_data...\n",
            "       | Downloading package conll2000 to /root/nltk_data...\n",
            "       |   Unzipping corpora/conll2000.zip.\n",
            "       | Downloading package conll2002 to /root/nltk_data...\n",
            "       |   Unzipping corpora/conll2002.zip.\n",
            "       | Downloading package conll2007 to /root/nltk_data...\n",
            "       | Downloading package crubadan to /root/nltk_data...\n",
            "       |   Unzipping corpora/crubadan.zip.\n",
            "       | Downloading package dependency_treebank to /root/nltk_data...\n",
            "       |   Unzipping corpora/dependency_treebank.zip.\n",
            "       | Downloading package dolch to /root/nltk_data...\n",
            "       |   Unzipping corpora/dolch.zip.\n",
            "       | Downloading package europarl_raw to /root/nltk_data...\n",
            "       |   Unzipping corpora/europarl_raw.zip.\n",
            "       | Downloading package extended_omw to /root/nltk_data...\n",
            "       | Downloading package floresta to /root/nltk_data...\n",
            "       |   Unzipping corpora/floresta.zip.\n",
            "       | Downloading package framenet_v15 to /root/nltk_data...\n",
            "       |   Unzipping corpora/framenet_v15.zip.\n",
            "       | Downloading package framenet_v17 to /root/nltk_data...\n",
            "       |   Unzipping corpora/framenet_v17.zip.\n",
            "       | Downloading package gazetteers to /root/nltk_data...\n",
            "       |   Unzipping corpora/gazetteers.zip.\n",
            "       | Downloading package genesis to /root/nltk_data...\n",
            "       |   Unzipping corpora/genesis.zip.\n",
            "       | Downloading package gutenberg to /root/nltk_data...\n",
            "       |   Unzipping corpora/gutenberg.zip.\n",
            "       | Downloading package ieer to /root/nltk_data...\n",
            "       |   Unzipping corpora/ieer.zip.\n",
            "       | Downloading package inaugural to /root/nltk_data...\n",
            "       |   Unzipping corpora/inaugural.zip.\n",
            "       | Downloading package indian to /root/nltk_data...\n",
            "       |   Unzipping corpora/indian.zip.\n",
            "       | Downloading package jeita to /root/nltk_data...\n",
            "       | Downloading package kimmo to /root/nltk_data...\n",
            "       |   Unzipping corpora/kimmo.zip.\n",
            "       | Downloading package knbc to /root/nltk_data...\n",
            "       | Downloading package large_grammars to /root/nltk_data...\n",
            "       |   Unzipping grammars/large_grammars.zip.\n",
            "       | Downloading package lin_thesaurus to /root/nltk_data...\n",
            "       |   Unzipping corpora/lin_thesaurus.zip.\n",
            "       | Downloading package mac_morpho to /root/nltk_data...\n",
            "       |   Unzipping corpora/mac_morpho.zip.\n",
            "       | Downloading package machado to /root/nltk_data...\n",
            "       | Downloading package masc_tagged to /root/nltk_data...\n",
            "       | Downloading package maxent_ne_chunker to /root/nltk_data...\n",
            "       |   Unzipping chunkers/maxent_ne_chunker.zip.\n",
            "       | Downloading package maxent_ne_chunker_tab to\n",
            "       |     /root/nltk_data...\n",
            "       |   Unzipping chunkers/maxent_ne_chunker_tab.zip.\n",
            "       | Downloading package maxent_treebank_pos_tagger to\n",
            "       |     /root/nltk_data...\n",
            "       |   Unzipping taggers/maxent_treebank_pos_tagger.zip.\n",
            "       | Downloading package maxent_treebank_pos_tagger_tab to\n",
            "       |     /root/nltk_data...\n",
            "       |   Unzipping taggers/maxent_treebank_pos_tagger_tab.zip.\n",
            "       | Downloading package moses_sample to /root/nltk_data...\n",
            "       |   Unzipping models/moses_sample.zip.\n",
            "       | Downloading package movie_reviews to /root/nltk_data...\n",
            "       |   Unzipping corpora/movie_reviews.zip.\n",
            "       | Downloading package mte_teip5 to /root/nltk_data...\n",
            "       |   Unzipping corpora/mte_teip5.zip.\n",
            "       | Downloading package mwa_ppdb to /root/nltk_data...\n",
            "       |   Unzipping misc/mwa_ppdb.zip.\n",
            "       | Downloading package names to /root/nltk_data...\n",
            "       |   Unzipping corpora/names.zip.\n",
            "       | Downloading package nombank.1.0 to /root/nltk_data...\n",
            "       | Downloading package nonbreaking_prefixes to\n",
            "       |     /root/nltk_data...\n",
            "       |   Unzipping corpora/nonbreaking_prefixes.zip.\n",
            "       | Downloading package nps_chat to /root/nltk_data...\n",
            "       |   Unzipping corpora/nps_chat.zip.\n",
            "       | Downloading package omw to /root/nltk_data...\n",
            "       | Downloading package omw-1.4 to /root/nltk_data...\n",
            "       | Downloading package opinion_lexicon to /root/nltk_data...\n",
            "       |   Unzipping corpora/opinion_lexicon.zip.\n",
            "       | Downloading package panlex_swadesh to /root/nltk_data...\n",
            "       | Downloading package paradigms to /root/nltk_data...\n",
            "       |   Unzipping corpora/paradigms.zip.\n",
            "       | Downloading package pe08 to /root/nltk_data...\n",
            "       |   Unzipping corpora/pe08.zip.\n",
            "       | Downloading package perluniprops to /root/nltk_data...\n",
            "       |   Unzipping misc/perluniprops.zip.\n",
            "       | Downloading package pil to /root/nltk_data...\n",
            "       |   Unzipping corpora/pil.zip.\n",
            "       | Downloading package pl196x to /root/nltk_data...\n",
            "       |   Unzipping corpora/pl196x.zip.\n",
            "       | Downloading package porter_test to /root/nltk_data...\n",
            "       |   Unzipping stemmers/porter_test.zip.\n",
            "       | Downloading package ppattach to /root/nltk_data...\n",
            "       |   Unzipping corpora/ppattach.zip.\n",
            "       | Downloading package problem_reports to /root/nltk_data...\n",
            "       |   Unzipping corpora/problem_reports.zip.\n",
            "       | Downloading package product_reviews_1 to /root/nltk_data...\n",
            "       |   Unzipping corpora/product_reviews_1.zip.\n",
            "       | Downloading package product_reviews_2 to /root/nltk_data...\n",
            "       |   Unzipping corpora/product_reviews_2.zip.\n",
            "       | Downloading package propbank to /root/nltk_data...\n",
            "       | Downloading package pros_cons to /root/nltk_data...\n",
            "       |   Unzipping corpora/pros_cons.zip.\n",
            "       | Downloading package ptb to /root/nltk_data...\n",
            "       |   Unzipping corpora/ptb.zip.\n",
            "       | Downloading package punkt to /root/nltk_data...\n",
            "       |   Unzipping tokenizers/punkt.zip.\n",
            "       | Downloading package punkt_tab to /root/nltk_data...\n",
            "       |   Unzipping tokenizers/punkt_tab.zip.\n",
            "       | Downloading package qc to /root/nltk_data...\n",
            "       |   Unzipping corpora/qc.zip.\n",
            "       | Downloading package reuters to /root/nltk_data...\n",
            "       | Downloading package rslp to /root/nltk_data...\n",
            "       |   Unzipping stemmers/rslp.zip.\n",
            "       | Downloading package rte to /root/nltk_data...\n",
            "       |   Unzipping corpora/rte.zip.\n",
            "       | Downloading package sample_grammars to /root/nltk_data...\n",
            "       |   Unzipping grammars/sample_grammars.zip.\n",
            "       | Downloading package semcor to /root/nltk_data...\n",
            "       | Downloading package senseval to /root/nltk_data...\n",
            "       |   Unzipping corpora/senseval.zip.\n",
            "       | Downloading package sentence_polarity to /root/nltk_data...\n",
            "       |   Unzipping corpora/sentence_polarity.zip.\n",
            "       | Downloading package sentiwordnet to /root/nltk_data...\n",
            "       |   Unzipping corpora/sentiwordnet.zip.\n",
            "       | Downloading package shakespeare to /root/nltk_data...\n",
            "       |   Unzipping corpora/shakespeare.zip.\n",
            "       | Downloading package sinica_treebank to /root/nltk_data...\n",
            "       |   Unzipping corpora/sinica_treebank.zip.\n",
            "       | Downloading package smultron to /root/nltk_data...\n",
            "       |   Unzipping corpora/smultron.zip.\n",
            "       | Downloading package snowball_data to /root/nltk_data...\n",
            "       | Downloading package spanish_grammars to /root/nltk_data...\n",
            "       |   Unzipping grammars/spanish_grammars.zip.\n",
            "       | Downloading package state_union to /root/nltk_data...\n",
            "       |   Unzipping corpora/state_union.zip.\n",
            "       | Downloading package stopwords to /root/nltk_data...\n",
            "       |   Unzipping corpora/stopwords.zip.\n",
            "       | Downloading package subjectivity to /root/nltk_data...\n",
            "       |   Unzipping corpora/subjectivity.zip.\n",
            "       | Downloading package swadesh to /root/nltk_data...\n",
            "       |   Unzipping corpora/swadesh.zip.\n",
            "       | Downloading package switchboard to /root/nltk_data...\n",
            "       |   Unzipping corpora/switchboard.zip.\n",
            "       | Downloading package tagsets to /root/nltk_data...\n",
            "       |   Unzipping help/tagsets.zip.\n",
            "       | Downloading package tagsets_json to /root/nltk_data...\n",
            "       |   Unzipping help/tagsets_json.zip.\n",
            "       | Downloading package timit to /root/nltk_data...\n",
            "       |   Unzipping corpora/timit.zip.\n",
            "       | Downloading package toolbox to /root/nltk_data...\n",
            "       |   Unzipping corpora/toolbox.zip.\n",
            "       | Downloading package treebank to /root/nltk_data...\n",
            "       |   Unzipping corpora/treebank.zip.\n",
            "       | Downloading package twitter_samples to /root/nltk_data...\n",
            "       |   Unzipping corpora/twitter_samples.zip.\n",
            "       | Downloading package udhr to /root/nltk_data...\n",
            "       |   Unzipping corpora/udhr.zip.\n",
            "       | Downloading package udhr2 to /root/nltk_data...\n",
            "       |   Unzipping corpora/udhr2.zip.\n",
            "       | Downloading package unicode_samples to /root/nltk_data...\n",
            "       |   Unzipping corpora/unicode_samples.zip.\n",
            "       | Downloading package universal_tagset to /root/nltk_data...\n",
            "       |   Unzipping taggers/universal_tagset.zip.\n",
            "       | Downloading package universal_treebanks_v20 to\n",
            "       |     /root/nltk_data...\n",
            "       | Downloading package vader_lexicon to /root/nltk_data...\n",
            "       | Downloading package verbnet to /root/nltk_data...\n",
            "       |   Unzipping corpora/verbnet.zip.\n",
            "       | Downloading package verbnet3 to /root/nltk_data...\n",
            "       |   Unzipping corpora/verbnet3.zip.\n",
            "       | Downloading package webtext to /root/nltk_data...\n",
            "       |   Unzipping corpora/webtext.zip.\n",
            "       | Downloading package wmt15_eval to /root/nltk_data...\n",
            "       |   Unzipping models/wmt15_eval.zip.\n",
            "       | Downloading package word2vec_sample to /root/nltk_data...\n",
            "       |   Unzipping models/word2vec_sample.zip.\n",
            "       | Downloading package wordnet to /root/nltk_data...\n",
            "       | Downloading package wordnet2021 to /root/nltk_data...\n",
            "       | Downloading package wordnet2022 to /root/nltk_data...\n",
            "       |   Unzipping corpora/wordnet2022.zip.\n",
            "       | Downloading package wordnet31 to /root/nltk_data...\n",
            "       | Downloading package wordnet_ic to /root/nltk_data...\n",
            "       |   Unzipping corpora/wordnet_ic.zip.\n",
            "       | Downloading package words to /root/nltk_data...\n",
            "       |   Unzipping corpora/words.zip.\n",
            "       | Downloading package ycoe to /root/nltk_data...\n",
            "       |   Unzipping corpora/ycoe.zip.\n",
            "       | \n",
            "     Done downloading collection all\n"
          ]
        },
        {
          "name": "stdout",
          "output_type": "stream",
          "text": [
            "\n",
            "---------------------------------------------------------------------------\n",
            "    d) Download   l) List    u) Update   c) Config   h) Help   q) Quit\n",
            "---------------------------------------------------------------------------\n",
            "Downloader> q\n"
          ]
        },
        {
          "output_type": "execute_result",
          "data": {
            "text/plain": [
              "True"
            ]
          },
          "metadata": {},
          "execution_count": 32
        }
      ]
    },
    {
      "cell_type": "code",
      "source": [
        "data.loc[13, \"review\"]"
      ],
      "metadata": {
        "colab": {
          "base_uri": "https://localhost:8080/",
          "height": 35
        },
        "id": "VX6DT2CGcMs6",
        "outputId": "ebbc3971-2065-4d9e-c68b-90eab3ee0180"
      },
      "execution_count": null,
      "outputs": [
        {
          "output_type": "execute_result",
          "data": {
            "text/plain": [
              "'Unable to save my work. Nothing works :('"
            ],
            "application/vnd.google.colaboratory.intrinsic+json": {
              "type": "string"
            }
          },
          "metadata": {},
          "execution_count": 33
        }
      ]
    },
    {
      "cell_type": "code",
      "source": [
        "sent_tokenize(data.loc[13,\"review\"])"
      ],
      "metadata": {
        "colab": {
          "base_uri": "https://localhost:8080/"
        },
        "id": "mHB9djNqdwP4",
        "outputId": "c7c9030d-606e-4a38-b062-6c7b6622d1a4"
      },
      "execution_count": null,
      "outputs": [
        {
          "output_type": "execute_result",
          "data": {
            "text/plain": [
              "['Unable to save my work.', 'Nothing works :(']"
            ]
          },
          "metadata": {},
          "execution_count": 34
        }
      ]
    },
    {
      "cell_type": "code",
      "source": [
        "word_tokenize(data.loc[13, \"review\"])"
      ],
      "metadata": {
        "colab": {
          "base_uri": "https://localhost:8080/"
        },
        "id": "NLbpXxwxd3W_",
        "outputId": "b354fd79-8099-4c01-934c-a237394db693"
      },
      "execution_count": null,
      "outputs": [
        {
          "output_type": "execute_result",
          "data": {
            "text/plain": [
              "['Unable', 'to', 'save', 'my', 'work', '.', 'Nothing', 'works', ':', '(']"
            ]
          },
          "metadata": {},
          "execution_count": 35
        }
      ]
    },
    {
      "cell_type": "code",
      "source": [
        "data.loc[1495, \"review\"]"
      ],
      "metadata": {
        "colab": {
          "base_uri": "https://localhost:8080/",
          "height": 35
        },
        "id": "y2_0PhSFd7dI",
        "outputId": "dce00060-78c4-4d4c-b9c8-eb13b5322724"
      },
      "execution_count": null,
      "outputs": [
        {
          "output_type": "execute_result",
          "data": {
            "text/plain": [
              "'Absolutely amazing and a lifesaver for teachers.'"
            ],
            "application/vnd.google.colaboratory.intrinsic+json": {
              "type": "string"
            }
          },
          "metadata": {},
          "execution_count": 36
        }
      ]
    },
    {
      "cell_type": "markdown",
      "source": [
        "**2. Convert text to lower case**"
      ],
      "metadata": {
        "id": "gQcOFXNrjEvG"
      }
    },
    {
      "cell_type": "code",
      "source": [
        "# copying the review column from the dataframe data in which we have only 2 columns\n",
        "reviews = list(data[\"review\"])"
      ],
      "metadata": {
        "id": "PX4bkLG5iy1G"
      },
      "execution_count": null,
      "outputs": []
    },
    {
      "cell_type": "code",
      "source": [
        "#number of entries in the list review\n",
        "len(reviews)"
      ],
      "metadata": {
        "colab": {
          "base_uri": "https://localhost:8080/"
        },
        "id": "h3JA6Qpei8BY",
        "outputId": "8d768828-cdd5-493b-fc02-6d33b1571ac7"
      },
      "execution_count": null,
      "outputs": [
        {
          "output_type": "execute_result",
          "data": {
            "text/plain": [
              "1500"
            ]
          },
          "metadata": {},
          "execution_count": 38
        }
      ]
    },
    {
      "cell_type": "code",
      "source": [
        "reviews[13]"
      ],
      "metadata": {
        "colab": {
          "base_uri": "https://localhost:8080/",
          "height": 35
        },
        "id": "Xz57jD1ji98e",
        "outputId": "e0a5886f-b781-4ae2-fd31-4bf182a79989"
      },
      "execution_count": null,
      "outputs": [
        {
          "output_type": "execute_result",
          "data": {
            "text/plain": [
              "'Unable to save my work. Nothing works :('"
            ],
            "application/vnd.google.colaboratory.intrinsic+json": {
              "type": "string"
            }
          },
          "metadata": {},
          "execution_count": 39
        }
      ]
    },
    {
      "cell_type": "code",
      "source": [
        "reviews[1495]"
      ],
      "metadata": {
        "colab": {
          "base_uri": "https://localhost:8080/",
          "height": 35
        },
        "id": "FbNE7BNYjLXe",
        "outputId": "c2597ff2-5355-43e6-a298-2571a98322de"
      },
      "execution_count": null,
      "outputs": [
        {
          "output_type": "execute_result",
          "data": {
            "text/plain": [
              "'Absolutely amazing and a lifesaver for teachers.'"
            ],
            "application/vnd.google.colaboratory.intrinsic+json": {
              "type": "string"
            }
          },
          "metadata": {},
          "execution_count": 40
        }
      ]
    },
    {
      "cell_type": "code",
      "source": [
        "reviews[1495].lower()"
      ],
      "metadata": {
        "colab": {
          "base_uri": "https://localhost:8080/",
          "height": 35
        },
        "id": "At-MvQ_OjNV3",
        "outputId": "7c6d29a1-90e9-4dc3-907c-bab527763625"
      },
      "execution_count": null,
      "outputs": [
        {
          "output_type": "execute_result",
          "data": {
            "text/plain": [
              "'absolutely amazing and a lifesaver for teachers.'"
            ],
            "application/vnd.google.colaboratory.intrinsic+json": {
              "type": "string"
            }
          },
          "metadata": {},
          "execution_count": 41
        }
      ]
    },
    {
      "cell_type": "code",
      "source": [
        "reviews_lower = [r.lower() for r in reviews]"
      ],
      "metadata": {
        "id": "Y9Q9Fl9GjQs9"
      },
      "execution_count": null,
      "outputs": []
    },
    {
      "cell_type": "code",
      "source": [
        "reviews_lower[13]"
      ],
      "metadata": {
        "colab": {
          "base_uri": "https://localhost:8080/",
          "height": 35
        },
        "id": "CMRvzxPzjjd9",
        "outputId": "e9bcd3bf-ec91-4ef9-cc82-33952492c617"
      },
      "execution_count": null,
      "outputs": [
        {
          "output_type": "execute_result",
          "data": {
            "text/plain": [
              "'unable to save my work. nothing works :('"
            ],
            "application/vnd.google.colaboratory.intrinsic+json": {
              "type": "string"
            }
          },
          "metadata": {},
          "execution_count": 43
        }
      ]
    },
    {
      "cell_type": "code",
      "source": [
        "reviews_lower = []\n",
        "for r in reviews:\n",
        "  reviews_lower.append(r.lower())"
      ],
      "metadata": {
        "id": "T4hE4KTSjngO"
      },
      "execution_count": null,
      "outputs": []
    },
    {
      "cell_type": "code",
      "source": [
        "# now we create another list of lists from revws\n",
        "tokens = [word_tokenize(r) for r in reviews_lower]"
      ],
      "metadata": {
        "id": "j7DWRz-XjqJe"
      },
      "execution_count": null,
      "outputs": []
    },
    {
      "cell_type": "code",
      "source": [
        "tokens[13]"
      ],
      "metadata": {
        "colab": {
          "base_uri": "https://localhost:8080/"
        },
        "id": "hxXyHAZ9kDU6",
        "outputId": "1da7c4cc-f586-4efd-c27a-e728a52e45c7"
      },
      "execution_count": null,
      "outputs": [
        {
          "output_type": "execute_result",
          "data": {
            "text/plain": [
              "['unable', 'to', 'save', 'my', 'work', '.', 'nothing', 'works', ':', '(']"
            ]
          },
          "metadata": {},
          "execution_count": 46
        }
      ]
    },
    {
      "cell_type": "code",
      "source": [
        "tokens[1495]"
      ],
      "metadata": {
        "colab": {
          "base_uri": "https://localhost:8080/"
        },
        "id": "PxiBWnZkkQHu",
        "outputId": "b34df3c2-5cb3-40ba-e5ac-d197ed64706a"
      },
      "execution_count": null,
      "outputs": [
        {
          "output_type": "execute_result",
          "data": {
            "text/plain": [
              "['absolutely', 'amazing', 'and', 'a', 'lifesaver', 'for', 'teachers', '.']"
            ]
          },
          "metadata": {},
          "execution_count": 47
        }
      ]
    },
    {
      "cell_type": "code",
      "source": [
        "len(tokens)"
      ],
      "metadata": {
        "colab": {
          "base_uri": "https://localhost:8080/"
        },
        "id": "kr60L7rNkT66",
        "outputId": "54ed2074-b252-4582-935d-8650cb7149e9"
      },
      "execution_count": null,
      "outputs": [
        {
          "output_type": "execute_result",
          "data": {
            "text/plain": [
              "1500"
            ]
          },
          "metadata": {},
          "execution_count": 48
        }
      ]
    },
    {
      "cell_type": "markdown",
      "source": [
        "**3. Stopwords Removal**"
      ],
      "metadata": {
        "id": "Q0WQ30AbkXB9"
      }
    },
    {
      "cell_type": "code",
      "source": [
        "sw = stopwords.words('english')"
      ],
      "metadata": {
        "id": "uksDnvRskyy8"
      },
      "execution_count": null,
      "outputs": []
    },
    {
      "cell_type": "code",
      "source": [
        "sw[:10]"
      ],
      "metadata": {
        "colab": {
          "base_uri": "https://localhost:8080/"
        },
        "id": "X3JWNUeHlAN-",
        "outputId": "0e7378c9-147c-4100-a018-b217a5a19363"
      },
      "execution_count": null,
      "outputs": [
        {
          "output_type": "execute_result",
          "data": {
            "text/plain": [
              "['i', 'me', 'my', 'myself', 'we', 'our', 'ours', 'ourselves', 'you', \"you're\"]"
            ]
          },
          "metadata": {},
          "execution_count": 50
        }
      ]
    },
    {
      "cell_type": "code",
      "source": [
        "tokens[13]"
      ],
      "metadata": {
        "colab": {
          "base_uri": "https://localhost:8080/"
        },
        "id": "AEuIcRDWmb4z",
        "outputId": "ce55a936-a1a5-4914-b581-b5c50894ccf7"
      },
      "execution_count": null,
      "outputs": [
        {
          "output_type": "execute_result",
          "data": {
            "text/plain": [
              "['unable', 'to', 'save', 'my', 'work', '.', 'nothing', 'works', ':', '(']"
            ]
          },
          "metadata": {},
          "execution_count": 51
        }
      ]
    },
    {
      "cell_type": "code",
      "source": [
        "tokens = [[word for word in t if word not in sw] for t in tokens]"
      ],
      "metadata": {
        "id": "eBkxZLTkmd4z"
      },
      "execution_count": null,
      "outputs": []
    },
    {
      "cell_type": "code",
      "source": [
        "# alternative code\n",
        "# `tokens` is a list of lists (e.g., list of tokenized sentences) and `sw` is a set of stop words\n",
        "#filtered_tokens = [] # Initialize an empty list to store filtered tokens\n",
        "#for t in tokens:\n",
        "#    filtered_sentence = [] # List to store words from a single sentence\n",
        "#    for word in t:\n",
        "#        if word not in sw: # Check if the word is not in the stop words\n",
        "#            filtered_sentence.append(word) # Add the word to the filtered sentence\n",
        "#    filtered_tokens.append(filtered_sentence) # Add the filtered sentence to the main list\n",
        "# `filtered_tokens` is now the result equivalent to the one-liner 'tokens' above."
      ],
      "metadata": {
        "id": "KfqVL7yYmrwE"
      },
      "execution_count": null,
      "outputs": []
    },
    {
      "cell_type": "code",
      "source": [
        "tokens[13]"
      ],
      "metadata": {
        "colab": {
          "base_uri": "https://localhost:8080/"
        },
        "id": "F4u76za3nMTE",
        "outputId": "6bf15fa3-72b2-4fe4-9935-f9bc09f158d2"
      },
      "execution_count": null,
      "outputs": [
        {
          "output_type": "execute_result",
          "data": {
            "text/plain": [
              "['unable', 'save', 'work', '.', 'nothing', 'works', ':', '(']"
            ]
          },
          "metadata": {},
          "execution_count": 54
        }
      ]
    },
    {
      "cell_type": "markdown",
      "source": [
        "**4. Punctuation Removal**"
      ],
      "metadata": {
        "id": "NgbJdTwrnPmk"
      }
    },
    {
      "cell_type": "code",
      "source": [
        "# regular expression r'\\w+' removes any punctuation marks\n",
        "tokenizer = RegexpTokenizer(r'\\w+')"
      ],
      "metadata": {
        "id": "u4bxbNCynvG7"
      },
      "execution_count": null,
      "outputs": []
    },
    {
      "cell_type": "code",
      "source": [
        "# let's check how it works\n",
        "tokenizer.tokenize(\"isn't\")"
      ],
      "metadata": {
        "colab": {
          "base_uri": "https://localhost:8080/"
        },
        "id": "c8SmFpqCo49p",
        "outputId": "ebf9a883-87d8-45a9-fc6d-f33303bf7795"
      },
      "execution_count": null,
      "outputs": [
        {
          "output_type": "execute_result",
          "data": {
            "text/plain": [
              "['isn', 't']"
            ]
          },
          "metadata": {},
          "execution_count": 56
        }
      ]
    },
    {
      "cell_type": "code",
      "source": [
        "# tokenize() function in tokenizer module returns a list. This is a problem given\n",
        "# a list of lists (tokens). So, each list items of lists into another list will be\n",
        "# So, we will join the tokens if they are separated due to punctuation. Contraction Hnadling.\n",
        "t = tokenizer.tokenize(\"won't\")\n",
        "\"\".join(t)"
      ],
      "metadata": {
        "colab": {
          "base_uri": "https://localhost:8080/",
          "height": 35
        },
        "id": "35MY_o4EpAMM",
        "outputId": "be2aeb26-8330-4db2-e76f-bacf16f879df"
      },
      "execution_count": null,
      "outputs": [
        {
          "output_type": "execute_result",
          "data": {
            "text/plain": [
              "'wont'"
            ],
            "application/vnd.google.colaboratory.intrinsic+json": {
              "type": "string"
            }
          },
          "metadata": {},
          "execution_count": 57
        }
      ]
    },
    {
      "cell_type": "code",
      "source": [
        "tokenizer.tokenize(\":\")"
      ],
      "metadata": {
        "colab": {
          "base_uri": "https://localhost:8080/"
        },
        "id": "hpJKyZjepHQ7",
        "outputId": "e4326f18-2830-4f63-8bd3-8985e2afb749"
      },
      "execution_count": null,
      "outputs": [
        {
          "output_type": "execute_result",
          "data": {
            "text/plain": [
              "[]"
            ]
          },
          "metadata": {},
          "execution_count": 58
        }
      ]
    },
    {
      "cell_type": "code",
      "source": [
        "# the main work\n",
        "tokens = [[\"\".join(tokenizer.tokenize(word))\n",
        "           for word in t if len(tokenizer.tokenize(word)) > 0]\n",
        "          for t in tokens]"
      ],
      "metadata": {
        "id": "olbAkNjbpNCE"
      },
      "execution_count": null,
      "outputs": []
    },
    {
      "cell_type": "code",
      "source": [
        "reviews[248]"
      ],
      "metadata": {
        "colab": {
          "base_uri": "https://localhost:8080/",
          "height": 35
        },
        "id": "-3xHPQFSpYni",
        "outputId": "ba1278ef-a1a5-433e-8061-e9be90d2a35d"
      },
      "execution_count": null,
      "outputs": [
        {
          "output_type": "execute_result",
          "data": {
            "text/plain": [
              "\"It won't download at all for me to send it to others via text, email, etc\""
            ],
            "application/vnd.google.colaboratory.intrinsic+json": {
              "type": "string"
            }
          },
          "metadata": {},
          "execution_count": 60
        }
      ]
    },
    {
      "cell_type": "code",
      "source": [
        "tokens[248]"
      ],
      "metadata": {
        "colab": {
          "base_uri": "https://localhost:8080/"
        },
        "id": "lsDInjKeqODF",
        "outputId": "40701ca8-1aba-4d6d-c8b7-977669bcd19f"
      },
      "execution_count": null,
      "outputs": [
        {
          "output_type": "execute_result",
          "data": {
            "text/plain": [
              "['wo', 'nt', 'download', 'send', 'others', 'via', 'text', 'email', 'etc']"
            ]
          },
          "metadata": {},
          "execution_count": 61
        }
      ]
    },
    {
      "cell_type": "code",
      "source": [
        "# problem: won't did not join !! check!"
      ],
      "metadata": {
        "id": "Lrd3ert4qS0o"
      },
      "execution_count": null,
      "outputs": []
    },
    {
      "cell_type": "markdown",
      "source": [
        "**5. Stemming**"
      ],
      "metadata": {
        "id": "H40qdy8Rq1Wb"
      }
    },
    {
      "cell_type": "code",
      "source": [
        "porter = PorterStemmer()\n",
        "lancaster = LancasterStemmer()   #for summary"
      ],
      "metadata": {
        "id": "s23yKShwrGLr"
      },
      "execution_count": null,
      "outputs": []
    },
    {
      "cell_type": "code",
      "source": [
        "print(porter.stem(\"teachers\"))\n",
        "print(lancaster.stem(\"teachers\"))"
      ],
      "metadata": {
        "colab": {
          "base_uri": "https://localhost:8080/"
        },
        "id": "S1HAAwWqrWgw",
        "outputId": "f115e810-aa6a-4315-d610-e4da734eee85"
      },
      "execution_count": null,
      "outputs": [
        {
          "output_type": "stream",
          "name": "stdout",
          "text": [
            "teacher\n",
            "teach\n"
          ]
        }
      ]
    },
    {
      "cell_type": "code",
      "source": [
        "print(porter.stem(\"students\"))\n",
        "print(lancaster.stem(\"students\"))"
      ],
      "metadata": {
        "colab": {
          "base_uri": "https://localhost:8080/"
        },
        "id": "D2SoJ5iDrfea",
        "outputId": "69b0c2e6-2c92-4dd7-8f29-38f1eba29d32"
      },
      "execution_count": null,
      "outputs": [
        {
          "output_type": "stream",
          "name": "stdout",
          "text": [
            "student\n",
            "stud\n"
          ]
        }
      ]
    },
    {
      "cell_type": "code",
      "source": [
        "print(porter.stem(\"absolutely\"))\n",
        "print(lancaster.stem(\"absolutely\"))"
      ],
      "metadata": {
        "colab": {
          "base_uri": "https://localhost:8080/"
        },
        "id": "JoHqSB1wrh50",
        "outputId": "5385f622-ef20-4ad5-c0bb-64d95ce47f07"
      },
      "execution_count": null,
      "outputs": [
        {
          "output_type": "stream",
          "name": "stdout",
          "text": [
            "absolut\n",
            "absolv\n"
          ]
        }
      ]
    },
    {
      "cell_type": "code",
      "source": [
        "tokens = [[porter.stem(word) for word in t] for t in tokens]"
      ],
      "metadata": {
        "id": "Y6TBxYHgrlwr"
      },
      "execution_count": null,
      "outputs": []
    },
    {
      "cell_type": "code",
      "source": [
        "print(reviews[13])\n",
        "print(tokens[13])"
      ],
      "metadata": {
        "colab": {
          "base_uri": "https://localhost:8080/"
        },
        "id": "BYwpuSFUrnkS",
        "outputId": "690e57dc-5090-45a2-e960-50dfaf8e563f"
      },
      "execution_count": null,
      "outputs": [
        {
          "output_type": "stream",
          "name": "stdout",
          "text": [
            "Unable to save my work. Nothing works :(\n",
            "['unabl', 'save', 'work', 'noth', 'work']\n"
          ]
        }
      ]
    },
    {
      "cell_type": "code",
      "source": [
        "print(reviews[1495])\n",
        "print(tokens[1495])"
      ],
      "metadata": {
        "colab": {
          "base_uri": "https://localhost:8080/"
        },
        "id": "a9x65kbartqb",
        "outputId": "911ccfaf-d11f-43d9-f06c-d8ecd5df00db"
      },
      "execution_count": null,
      "outputs": [
        {
          "output_type": "stream",
          "name": "stdout",
          "text": [
            "Absolutely amazing and a lifesaver for teachers.\n",
            "['absolut', 'amaz', 'lifesav', 'teacher']\n"
          ]
        }
      ]
    },
    {
      "cell_type": "markdown",
      "source": [
        "## **Section 3. Word Count Districution**"
      ],
      "metadata": {
        "id": "rRnTlZqlsA45"
      }
    },
    {
      "cell_type": "code",
      "source": [
        "tokens[0:10]"
      ],
      "metadata": {
        "colab": {
          "base_uri": "https://localhost:8080/"
        },
        "id": "6AiSPedTsWXc",
        "outputId": "6d004427-fd59-4c1e-d77f-095100565cf5"
      },
      "execution_count": null,
      "outputs": [
        {
          "output_type": "execute_result",
          "data": {
            "text/plain": [
              "[['overal',\n",
              "  's',\n",
              "  'realli',\n",
              "  'amaz',\n",
              "  'app',\n",
              "  've',\n",
              "  'use',\n",
              "  'past',\n",
              "  '5',\n",
              "  'year',\n",
              "  'howev',\n",
              "  'one',\n",
              "  'issu',\n",
              "  'though',\n",
              "  'want',\n",
              "  'get',\n",
              "  'address',\n",
              "  'sinc',\n",
              "  'think',\n",
              "  'issu',\n",
              "  'last',\n",
              "  'mani',\n",
              "  'year',\n",
              "  'text',\n",
              "  'blur',\n",
              "  'zoom',\n",
              "  's',\n",
              "  'pixel',\n",
              "  'thought',\n",
              "  'issu',\n",
              "  'occur',\n",
              "  'mobil',\n",
              "  'app',\n",
              "  'howev',\n",
              "  'also',\n",
              "  'present',\n",
              "  'websit',\n",
              "  'pleas',\n",
              "  'fix',\n",
              "  'still',\n",
              "  'rememb',\n",
              "  'time',\n",
              "  'export',\n",
              "  'high',\n",
              "  'definit',\n",
              "  'text',\n",
              "  'love',\n",
              "  'experi',\n",
              "  'thank'],\n",
              " ['hey',\n",
              "  'ye',\n",
              "  'gave',\n",
              "  '5',\n",
              "  'star',\n",
              "  'rate',\n",
              "  'coz',\n",
              "  'believ',\n",
              "  'deserv',\n",
              "  'mostli',\n",
              "  'use',\n",
              "  'desktop',\n",
              "  'version',\n",
              "  'serious',\n",
              "  'satisfi',\n",
              "  'app',\n",
              "  'android',\n",
              "  'desktop',\n",
              "  'version',\n",
              "  'came',\n",
              "  'thank',\n",
              "  'develop',\n",
              "  'beauti',\n",
              "  'app',\n",
              "  'facil',\n",
              "  'liter',\n",
              "  'find',\n",
              "  'almost',\n",
              "  'everyth',\n",
              "  'need',\n",
              "  'best',\n",
              "  'part',\n",
              "  'even',\n",
              "  'without',\n",
              "  'premium',\n",
              "  'featur',\n",
              "  'provid',\n",
              "  'us',\n",
              "  'lot',\n",
              "  'mani',\n",
              "  'facil',\n",
              "  'love',\n",
              "  'thank'],\n",
              " ['canva',\n",
              "  'use',\n",
              "  'good',\n",
              "  'app',\n",
              "  'recent',\n",
              "  've',\n",
              "  'face',\n",
              "  'issu',\n",
              "  'save',\n",
              "  'file',\n",
              "  'want',\n",
              "  'file',\n",
              "  'save',\n",
              "  'png',\n",
              "  'format',\n",
              "  'get',\n",
              "  'save',\n",
              "  'jpg',\n",
              "  'format',\n",
              "  'moreov',\n",
              "  'want',\n",
              "  'file',\n",
              "  'save',\n",
              "  'get',\n",
              "  'stuck',\n",
              "  'download',\n",
              "  'screen',\n",
              "  'call',\n",
              "  'magic',\n",
              "  'happen',\n",
              "  'll',\n",
              "  'get',\n",
              "  '1',\n",
              "  'star',\n",
              "  'hope',\n",
              "  'fix',\n",
              "  'app',\n",
              "  'soon',\n",
              "  'thank'],\n",
              " ['s',\n",
              "  'brilliant',\n",
              "  'app',\n",
              "  'one',\n",
              "  'problem',\n",
              "  'm',\n",
              "  'edit',\n",
              "  'post',\n",
              "  'doubl',\n",
              "  'tap',\n",
              "  'photo',\n",
              "  'reposit',\n",
              "  'start',\n",
              "  'zoom',\n",
              "  'photo',\n",
              "  '8',\n",
              "  'time',\n",
              "  '10',\n",
              "  'app',\n",
              "  'crash',\n",
              "  'restart',\n",
              "  'lg',\n",
              "  'g5',\n",
              "  'se',\n",
              "  'sometim',\n",
              "  've',\n",
              "  'go',\n",
              "  'desktop',\n",
              "  'version',\n",
              "  'pc',\n",
              "  'reposit',\n",
              "  'zoom',\n",
              "  'photo',\n",
              "  'want',\n",
              "  'resum',\n",
              "  'edit',\n",
              "  'back',\n",
              "  'mobil'],\n",
              " ['great',\n",
              "  'app',\n",
              "  'use',\n",
              "  'make',\n",
              "  'bt',\n",
              "  'meme',\n",
              "  'recent',\n",
              "  'updat',\n",
              "  'm',\n",
              "  'abl',\n",
              "  'chang',\n",
              "  'font',\n",
              "  'style',\n",
              "  'edit',\n",
              "  'option',\n",
              "  'font',\n",
              "  'miss',\n",
              "  'tri',\n",
              "  'uninstal',\n",
              "  'instal',\n",
              "  'app',\n",
              "  'still',\n",
              "  's',\n",
              "  'nt',\n",
              "  'work',\n",
              "  'edit',\n",
              "  'option',\n",
              "  'font',\n",
              "  'appear',\n",
              "  'rare',\n",
              "  'previou',\n",
              "  'version',\n",
              "  'far',\n",
              "  'better',\n",
              "  'canva',\n",
              "  'could',\n",
              "  'pleas',\n",
              "  'work'],\n",
              " ['app',\n",
              "  'realli',\n",
              "  'great',\n",
              "  'given',\n",
              "  'fact',\n",
              "  'first',\n",
              "  'time',\n",
              "  'give',\n",
              "  'review',\n",
              "  'app',\n",
              "  's',\n",
              "  'great',\n",
              "  'creat',\n",
              "  'logo',\n",
              "  'flier',\n",
              "  'small',\n",
              "  'compani',\n",
              "  'busi',\n",
              "  'although',\n",
              "  'gave',\n",
              "  '4',\n",
              "  'star',\n",
              "  'need',\n",
              "  'data',\n",
              "  'oper',\n",
              "  'll',\n",
              "  'love',\n",
              "  'see',\n",
              "  'newer',\n",
              "  'version',\n",
              "  'nt',\n",
              "  'use',\n",
              "  'data',\n",
              "  'use',\n",
              "  'app',\n",
              "  'great',\n",
              "  'job'],\n",
              " ['canva',\n",
              "  'great',\n",
              "  'app',\n",
              "  'basic',\n",
              "  'design',\n",
              "  'job',\n",
              "  'well',\n",
              "  'm',\n",
              "  'rate',\n",
              "  '2',\n",
              "  'star',\n",
              "  'keep',\n",
              "  'take',\n",
              "  'featur',\n",
              "  'away',\n",
              "  'free',\n",
              "  'version',\n",
              "  'put',\n",
              "  'behind',\n",
              "  'subscript',\n",
              "  'wall',\n",
              "  'rather',\n",
              "  'creat',\n",
              "  'new',\n",
              "  'featur',\n",
              "  'ad',\n",
              "  'new',\n",
              "  'font',\n",
              "  'graphic',\n",
              "  'premium',\n",
              "  'also',\n",
              "  'feel',\n",
              "  'subscript',\n",
              "  'price',\n",
              "  '1299mo',\n",
              "  'pretti',\n",
              "  'steep',\n",
              "  'someon',\n",
              "  'nt',\n",
              "  'use',\n",
              "  'busi',\n",
              "  'everi',\n",
              "  'singl',\n",
              "  'day',\n",
              "  'want',\n",
              "  'hand',\n",
              "  'font'],\n",
              " ['use',\n",
              "  'app',\n",
              "  'last',\n",
              "  '2',\n",
              "  'month',\n",
              "  'use',\n",
              "  'make',\n",
              "  'thumbnail',\n",
              "  'banner',\n",
              "  'video',\n",
              "  'watermark',\n",
              "  'thumbnail',\n",
              "  'look',\n",
              "  'much',\n",
              "  'attract',\n",
              "  'app',\n",
              "  's',\n",
              "  'mani',\n",
              "  'peopl',\n",
              "  'attract',\n",
              "  'come',\n",
              "  'video',\n",
              "  'give',\n",
              "  '5',\n",
              "  'star',\n",
              "  'mani',\n",
              "  'ad',\n",
              "  'still',\n",
              "  'love',\n",
              "  'app',\n",
              "  'thank',\n",
              "  'make',\n",
              "  'wonder',\n",
              "  'app',\n",
              "  'thank'],\n",
              " ['superb',\n",
              "  'user',\n",
              "  'interfac',\n",
              "  'finish',\n",
              "  'edit',\n",
              "  'first',\n",
              "  'video',\n",
              "  'wonder',\n",
              "  'awesom',\n",
              "  'paid',\n",
              "  'version',\n",
              "  'hope',\n",
              "  'app',\n",
              "  'make',\n",
              "  'product',\n",
              "  'label',\n",
              "  'put',\n",
              "  'label',\n",
              "  'mock',\n",
              "  'bottl',\n",
              "  'exampl',\n",
              "  'like',\n",
              "  'full',\n",
              "  'function',\n",
              "  'adob',\n",
              "  'kind',\n",
              "  'need',\n",
              "  'skill',\n",
              "  'set',\n",
              "  'prefer',\n",
              "  'easi',\n",
              "  'edit',\n",
              "  'like',\n",
              "  'app',\n",
              "  'thank',\n",
              "  'canva'],\n",
              " ['start',\n",
              "  'trial',\n",
              "  'everyth',\n",
              "  'work',\n",
              "  'pretti',\n",
              "  'well',\n",
              "  'decid',\n",
              "  'purchas',\n",
              "  'everi',\n",
              "  'month',\n",
              "  'guess',\n",
              "  'everi',\n",
              "  'video',\n",
              "  'edit',\n",
              "  'save',\n",
              "  'never',\n",
              "  'save',\n",
              "  'even',\n",
              "  'mani',\n",
              "  'time',\n",
              "  'tri',\n",
              "  'said',\n",
              "  'save',\n",
              "  'check',\n",
              "  'file',\n",
              "  'never',\n",
              "  'seen',\n",
              "  'pictur',\n",
              "  'caption',\n",
              "  'blur',\n",
              "  'need',\n",
              "  'screenshoot',\n",
              "  'crop',\n",
              "  'use',\n",
              "  'edit',\n",
              "  'design',\n",
              "  'happen',\n",
              "  'canva',\n",
              "  'wast',\n",
              "  'moneyyyi',\n",
              "  'hope',\n",
              "  'solv',\n",
              "  'problem',\n",
              "  'pleas']]"
            ]
          },
          "metadata": {},
          "execution_count": 70
        }
      ]
    },
    {
      "cell_type": "code",
      "source": [
        "# We need to find uniques tokens in all the 1500 list of tokens for which we need\n",
        "# It will create 1 list of tokens, instead of list of lists of tokens\n",
        "flat_tokens = [word for t in tokens for word in t]"
      ],
      "metadata": {
        "id": "LJ9MUKkSsiyI"
      },
      "execution_count": null,
      "outputs": []
    },
    {
      "cell_type": "code",
      "source": [
        "flat_tokens[0:200]"
      ],
      "metadata": {
        "colab": {
          "base_uri": "https://localhost:8080/"
        },
        "id": "U-LI1-ZysrA_",
        "outputId": "e3232dfa-0046-47d9-d52d-17cd6842e1c3"
      },
      "execution_count": null,
      "outputs": [
        {
          "output_type": "execute_result",
          "data": {
            "text/plain": [
              "['overal',\n",
              " 's',\n",
              " 'realli',\n",
              " 'amaz',\n",
              " 'app',\n",
              " 've',\n",
              " 'use',\n",
              " 'past',\n",
              " '5',\n",
              " 'year',\n",
              " 'howev',\n",
              " 'one',\n",
              " 'issu',\n",
              " 'though',\n",
              " 'want',\n",
              " 'get',\n",
              " 'address',\n",
              " 'sinc',\n",
              " 'think',\n",
              " 'issu',\n",
              " 'last',\n",
              " 'mani',\n",
              " 'year',\n",
              " 'text',\n",
              " 'blur',\n",
              " 'zoom',\n",
              " 's',\n",
              " 'pixel',\n",
              " 'thought',\n",
              " 'issu',\n",
              " 'occur',\n",
              " 'mobil',\n",
              " 'app',\n",
              " 'howev',\n",
              " 'also',\n",
              " 'present',\n",
              " 'websit',\n",
              " 'pleas',\n",
              " 'fix',\n",
              " 'still',\n",
              " 'rememb',\n",
              " 'time',\n",
              " 'export',\n",
              " 'high',\n",
              " 'definit',\n",
              " 'text',\n",
              " 'love',\n",
              " 'experi',\n",
              " 'thank',\n",
              " 'hey',\n",
              " 'ye',\n",
              " 'gave',\n",
              " '5',\n",
              " 'star',\n",
              " 'rate',\n",
              " 'coz',\n",
              " 'believ',\n",
              " 'deserv',\n",
              " 'mostli',\n",
              " 'use',\n",
              " 'desktop',\n",
              " 'version',\n",
              " 'serious',\n",
              " 'satisfi',\n",
              " 'app',\n",
              " 'android',\n",
              " 'desktop',\n",
              " 'version',\n",
              " 'came',\n",
              " 'thank',\n",
              " 'develop',\n",
              " 'beauti',\n",
              " 'app',\n",
              " 'facil',\n",
              " 'liter',\n",
              " 'find',\n",
              " 'almost',\n",
              " 'everyth',\n",
              " 'need',\n",
              " 'best',\n",
              " 'part',\n",
              " 'even',\n",
              " 'without',\n",
              " 'premium',\n",
              " 'featur',\n",
              " 'provid',\n",
              " 'us',\n",
              " 'lot',\n",
              " 'mani',\n",
              " 'facil',\n",
              " 'love',\n",
              " 'thank',\n",
              " 'canva',\n",
              " 'use',\n",
              " 'good',\n",
              " 'app',\n",
              " 'recent',\n",
              " 've',\n",
              " 'face',\n",
              " 'issu',\n",
              " 'save',\n",
              " 'file',\n",
              " 'want',\n",
              " 'file',\n",
              " 'save',\n",
              " 'png',\n",
              " 'format',\n",
              " 'get',\n",
              " 'save',\n",
              " 'jpg',\n",
              " 'format',\n",
              " 'moreov',\n",
              " 'want',\n",
              " 'file',\n",
              " 'save',\n",
              " 'get',\n",
              " 'stuck',\n",
              " 'download',\n",
              " 'screen',\n",
              " 'call',\n",
              " 'magic',\n",
              " 'happen',\n",
              " 'll',\n",
              " 'get',\n",
              " '1',\n",
              " 'star',\n",
              " 'hope',\n",
              " 'fix',\n",
              " 'app',\n",
              " 'soon',\n",
              " 'thank',\n",
              " 's',\n",
              " 'brilliant',\n",
              " 'app',\n",
              " 'one',\n",
              " 'problem',\n",
              " 'm',\n",
              " 'edit',\n",
              " 'post',\n",
              " 'doubl',\n",
              " 'tap',\n",
              " 'photo',\n",
              " 'reposit',\n",
              " 'start',\n",
              " 'zoom',\n",
              " 'photo',\n",
              " '8',\n",
              " 'time',\n",
              " '10',\n",
              " 'app',\n",
              " 'crash',\n",
              " 'restart',\n",
              " 'lg',\n",
              " 'g5',\n",
              " 'se',\n",
              " 'sometim',\n",
              " 've',\n",
              " 'go',\n",
              " 'desktop',\n",
              " 'version',\n",
              " 'pc',\n",
              " 'reposit',\n",
              " 'zoom',\n",
              " 'photo',\n",
              " 'want',\n",
              " 'resum',\n",
              " 'edit',\n",
              " 'back',\n",
              " 'mobil',\n",
              " 'great',\n",
              " 'app',\n",
              " 'use',\n",
              " 'make',\n",
              " 'bt',\n",
              " 'meme',\n",
              " 'recent',\n",
              " 'updat',\n",
              " 'm',\n",
              " 'abl',\n",
              " 'chang',\n",
              " 'font',\n",
              " 'style',\n",
              " 'edit',\n",
              " 'option',\n",
              " 'font',\n",
              " 'miss',\n",
              " 'tri',\n",
              " 'uninstal',\n",
              " 'instal',\n",
              " 'app',\n",
              " 'still',\n",
              " 's',\n",
              " 'nt',\n",
              " 'work',\n",
              " 'edit',\n",
              " 'option',\n",
              " 'font',\n",
              " 'appear',\n",
              " 'rare',\n",
              " 'previou']"
            ]
          },
          "metadata": {},
          "execution_count": 72
        }
      ]
    },
    {
      "cell_type": "code",
      "source": [
        "# number of flattened tokens\n",
        "len(flat_tokens)"
      ],
      "metadata": {
        "id": "-mOy8U-usu0q",
        "colab": {
          "base_uri": "https://localhost:8080/"
        },
        "outputId": "19d0f60a-c71a-448c-8780-32fb98ab0afe"
      },
      "execution_count": null,
      "outputs": [
        {
          "output_type": "execute_result",
          "data": {
            "text/plain": [
              "13782"
            ]
          },
          "metadata": {},
          "execution_count": 73
        }
      ]
    },
    {
      "cell_type": "code",
      "source": [
        "# import a counter on the top section\n",
        "counts = Counter(flat_tokens)"
      ],
      "metadata": {
        "id": "btlNOZnkszQq"
      },
      "execution_count": null,
      "outputs": []
    },
    {
      "cell_type": "code",
      "source": [
        "type(counts)"
      ],
      "metadata": {
        "colab": {
          "base_uri": "https://localhost:8080/",
          "height": 187
        },
        "id": "hB3XMMOys1y-",
        "outputId": "a43fbc60-3d63-4eea-9347-addf8b3b08ee"
      },
      "execution_count": null,
      "outputs": [
        {
          "output_type": "execute_result",
          "data": {
            "text/plain": [
              "collections.Counter"
            ],
            "text/html": [
              "<div style=\"max-width:800px; border: 1px solid var(--colab-border-color);\"><style>\n",
              "      pre.function-repr-contents {\n",
              "        overflow-x: auto;\n",
              "        padding: 8px 12px;\n",
              "        max-height: 500px;\n",
              "      }\n",
              "\n",
              "      pre.function-repr-contents.function-repr-contents-collapsed {\n",
              "        cursor: pointer;\n",
              "        max-height: 100px;\n",
              "      }\n",
              "    </style>\n",
              "    <pre style=\"white-space: initial; background:\n",
              "         var(--colab-secondary-surface-color); padding: 8px 12px;\n",
              "         border-bottom: 1px solid var(--colab-border-color);\"><b>collections.Counter</b><br/>def __init__(self, iterable=None, /, **kwds)</pre><pre class=\"function-repr-contents function-repr-contents-collapsed\" style=\"\"><a class=\"filepath\" style=\"display:none\" href=\"#\">/usr/lib/python3.11/collections/__init__.py</a>Dict subclass for counting hashable items.  Sometimes called a bag\n",
              "or multiset.  Elements are stored as dictionary keys and their counts\n",
              "are stored as dictionary values.\n",
              "\n",
              "&gt;&gt;&gt; c = Counter(&#x27;abcdeabcdabcaba&#x27;)  # count elements from a string\n",
              "\n",
              "&gt;&gt;&gt; c.most_common(3)                # three most common elements\n",
              "[(&#x27;a&#x27;, 5), (&#x27;b&#x27;, 4), (&#x27;c&#x27;, 3)]\n",
              "&gt;&gt;&gt; sorted(c)                       # list all unique elements\n",
              "[&#x27;a&#x27;, &#x27;b&#x27;, &#x27;c&#x27;, &#x27;d&#x27;, &#x27;e&#x27;]\n",
              "&gt;&gt;&gt; &#x27;&#x27;.join(sorted(c.elements()))   # list elements with repetitions\n",
              "&#x27;aaaaabbbbcccdde&#x27;\n",
              "&gt;&gt;&gt; sum(c.values())                 # total of all counts\n",
              "15\n",
              "\n",
              "&gt;&gt;&gt; c[&#x27;a&#x27;]                          # count of letter &#x27;a&#x27;\n",
              "5\n",
              "&gt;&gt;&gt; for elem in &#x27;shazam&#x27;:           # update counts from an iterable\n",
              "...     c[elem] += 1                # by adding 1 to each element&#x27;s count\n",
              "&gt;&gt;&gt; c[&#x27;a&#x27;]                          # now there are seven &#x27;a&#x27;\n",
              "7\n",
              "&gt;&gt;&gt; del c[&#x27;b&#x27;]                      # remove all &#x27;b&#x27;\n",
              "&gt;&gt;&gt; c[&#x27;b&#x27;]                          # now there are zero &#x27;b&#x27;\n",
              "0\n",
              "\n",
              "&gt;&gt;&gt; d = Counter(&#x27;simsalabim&#x27;)       # make another counter\n",
              "&gt;&gt;&gt; c.update(d)                     # add in the second counter\n",
              "&gt;&gt;&gt; c[&#x27;a&#x27;]                          # now there are nine &#x27;a&#x27;\n",
              "9\n",
              "\n",
              "&gt;&gt;&gt; c.clear()                       # empty the counter\n",
              "&gt;&gt;&gt; c\n",
              "Counter()\n",
              "\n",
              "Note:  If a count is set to zero or reduced to zero, it will remain\n",
              "in the counter until the entry is deleted or the counter is cleared:\n",
              "\n",
              "&gt;&gt;&gt; c = Counter(&#x27;aaabbc&#x27;)\n",
              "&gt;&gt;&gt; c[&#x27;b&#x27;] -= 2                     # reduce the count of &#x27;b&#x27; by two\n",
              "&gt;&gt;&gt; c.most_common()                 # &#x27;b&#x27; is still in, but its count is zero\n",
              "[(&#x27;a&#x27;, 3), (&#x27;c&#x27;, 1), (&#x27;b&#x27;, 0)]</pre>\n",
              "      <script>\n",
              "      if (google.colab.kernel.accessAllowed && google.colab.files && google.colab.files.view) {\n",
              "        for (const element of document.querySelectorAll('.filepath')) {\n",
              "          element.style.display = 'block'\n",
              "          element.onclick = (event) => {\n",
              "            event.preventDefault();\n",
              "            event.stopPropagation();\n",
              "            google.colab.files.view(element.textContent, 536);\n",
              "          };\n",
              "        }\n",
              "      }\n",
              "      for (const element of document.querySelectorAll('.function-repr-contents')) {\n",
              "        element.onclick = (event) => {\n",
              "          event.preventDefault();\n",
              "          event.stopPropagation();\n",
              "          element.classList.toggle('function-repr-contents-collapsed');\n",
              "        };\n",
              "      }\n",
              "      </script>\n",
              "      </div>"
            ]
          },
          "metadata": {},
          "execution_count": 75
        }
      ]
    },
    {
      "cell_type": "code",
      "source": [
        "len(counts) # number of unique tokens"
      ],
      "metadata": {
        "colab": {
          "base_uri": "https://localhost:8080/"
        },
        "id": "n6UPtoSUs7U9",
        "outputId": "3f7f1982-e413-4fc3-b9c3-2db6775f8d63"
      },
      "execution_count": null,
      "outputs": [
        {
          "output_type": "execute_result",
          "data": {
            "text/plain": [
              "1720"
            ]
          },
          "metadata": {},
          "execution_count": 76
        }
      ]
    },
    {
      "cell_type": "code",
      "source": [
        "counts.most_common(10)"
      ],
      "metadata": {
        "colab": {
          "base_uri": "https://localhost:8080/"
        },
        "id": "ee0jkzh5s9RW",
        "outputId": "69d475a5-e697-41b6-e1b1-3bc110f1f527"
      },
      "execution_count": null,
      "outputs": [
        {
          "output_type": "execute_result",
          "data": {
            "text/plain": [
              "[('app', 932),\n",
              " ('use', 474),\n",
              " ('design', 349),\n",
              " ('easi', 293),\n",
              " ('s', 240),\n",
              " ('love', 220),\n",
              " ('good', 219),\n",
              " ('edit', 191),\n",
              " ('make', 190),\n",
              " ('great', 184)]"
            ]
          },
          "metadata": {},
          "execution_count": 77
        }
      ]
    },
    {
      "cell_type": "code",
      "source": [
        "# if we didn't do stemming etc., this number 1720 would be higher\n",
        "# next, we need to convert these tokens into numbers"
      ],
      "metadata": {
        "id": "54SFV6kqtCKS"
      },
      "execution_count": null,
      "outputs": []
    },
    {
      "cell_type": "markdown",
      "source": [
        "# **Section 4. Binary Bag of Words**"
      ],
      "metadata": {
        "id": "uf3zlMt_MiVz"
      }
    },
    {
      "cell_type": "code",
      "source": [
        "tokens[13]"
      ],
      "metadata": {
        "colab": {
          "base_uri": "https://localhost:8080/"
        },
        "id": "U6jaacMyMhf6",
        "outputId": "0e6985ac-0616-46e6-cfc8-56df733a9444"
      },
      "execution_count": null,
      "outputs": [
        {
          "output_type": "execute_result",
          "data": {
            "text/plain": [
              "['unabl', 'save', 'work', 'noth', 'work']"
            ]
          },
          "metadata": {},
          "execution_count": 79
        }
      ]
    },
    {
      "cell_type": "code",
      "source": [
        "\" \".join(tokens[13])"
      ],
      "metadata": {
        "colab": {
          "base_uri": "https://localhost:8080/",
          "height": 35
        },
        "id": "Ggs6SzTDMoji",
        "outputId": "6719edfb-49b8-4a96-a3fc-e286744eb95e"
      },
      "execution_count": null,
      "outputs": [
        {
          "output_type": "execute_result",
          "data": {
            "text/plain": [
              "'unabl save work noth work'"
            ],
            "application/vnd.google.colaboratory.intrinsic+json": {
              "type": "string"
            }
          },
          "metadata": {},
          "execution_count": 80
        }
      ]
    },
    {
      "cell_type": "code",
      "source": [
        "clean_reviews = [\" \".join(t) for t in tokens]"
      ],
      "metadata": {
        "id": "7_cONnvKMrtC"
      },
      "execution_count": null,
      "outputs": []
    },
    {
      "cell_type": "code",
      "source": [
        "clean_reviews[13]"
      ],
      "metadata": {
        "colab": {
          "base_uri": "https://localhost:8080/",
          "height": 35
        },
        "id": "cgEiYWcCMzgi",
        "outputId": "0c623e2b-3f6e-4a2d-a5dc-7e2b328ac17f"
      },
      "execution_count": null,
      "outputs": [
        {
          "output_type": "execute_result",
          "data": {
            "text/plain": [
              "'unabl save work noth work'"
            ],
            "application/vnd.google.colaboratory.intrinsic+json": {
              "type": "string"
            }
          },
          "metadata": {},
          "execution_count": 82
        }
      ]
    },
    {
      "cell_type": "code",
      "source": [
        "clean_reviews[1495]"
      ],
      "metadata": {
        "colab": {
          "base_uri": "https://localhost:8080/",
          "height": 35
        },
        "id": "A49IDafMNRR7",
        "outputId": "eb2c086a-b80a-4eb2-ff0b-f1db1ceea2bf"
      },
      "execution_count": null,
      "outputs": [
        {
          "output_type": "execute_result",
          "data": {
            "text/plain": [
              "'absolut amaz lifesav teacher'"
            ],
            "application/vnd.google.colaboratory.intrinsic+json": {
              "type": "string"
            }
          },
          "metadata": {},
          "execution_count": 83
        }
      ]
    },
    {
      "cell_type": "code",
      "source": [
        "# binary bag of words with a minimum of 1 token in 5 lines/times\n",
        "vect = CountVectorizer(binary=True, min_df=5)    #min_df = minimum document frequency"
      ],
      "metadata": {
        "id": "3P5P3ODfNSNC"
      },
      "execution_count": null,
      "outputs": []
    },
    {
      "cell_type": "code",
      "source": [
        "X = vect.fit_transform(clean_reviews)"
      ],
      "metadata": {
        "id": "JCRBKXvXNU8j"
      },
      "execution_count": null,
      "outputs": []
    },
    {
      "cell_type": "code",
      "source": [
        "X.shape"
      ],
      "metadata": {
        "colab": {
          "base_uri": "https://localhost:8080/"
        },
        "id": "pgyENcUTNYcj",
        "outputId": "75679da5-40bb-4db3-adb0-2323e3c6ddc6"
      },
      "execution_count": null,
      "outputs": [
        {
          "output_type": "execute_result",
          "data": {
            "text/plain": [
              "(1500, 413)"
            ]
          },
          "metadata": {},
          "execution_count": 86
        }
      ]
    },
    {
      "cell_type": "code",
      "source": [
        "# so out of 1720, only 413 tokens are avaible in 5 or more docs"
      ],
      "metadata": {
        "id": "Tpc8I5vMNbhK"
      },
      "execution_count": null,
      "outputs": []
    },
    {
      "cell_type": "code",
      "source": [
        "# to see all vocabulary\n",
        "vect.vocabulary_"
      ],
      "metadata": {
        "colab": {
          "base_uri": "https://localhost:8080/"
        },
        "id": "V0va-e8fNd6C",
        "outputId": "2aaff264-1f7a-4857-c9c5-21f8c81369b3"
      },
      "execution_count": null,
      "outputs": [
        {
          "output_type": "execute_result",
          "data": {
            "text/plain": [
              "{'overal': 243,\n",
              " 'realli': 289,\n",
              " 'amaz': 17,\n",
              " 'app': 24,\n",
              " 've': 381,\n",
              " 'use': 377,\n",
              " 'past': 246,\n",
              " 'year': 409,\n",
              " 'howev': 167,\n",
              " 'one': 237,\n",
              " 'issu': 182,\n",
              " 'though': 358,\n",
              " 'want': 385,\n",
              " 'get': 148,\n",
              " 'sinc': 315,\n",
              " 'think': 357,\n",
              " 'last': 192,\n",
              " 'mani': 214,\n",
              " 'text': 354,\n",
              " 'zoom': 412,\n",
              " 'thought': 359,\n",
              " 'mobil': 221,\n",
              " 'also': 15,\n",
              " 'present': 270,\n",
              " 'websit': 390,\n",
              " 'pleas': 262,\n",
              " 'fix': 132,\n",
              " 'still': 333,\n",
              " 'time': 361,\n",
              " 'export': 119,\n",
              " 'high': 164,\n",
              " 'definit': 82,\n",
              " 'love': 209,\n",
              " 'experi': 117,\n",
              " 'thank': 355,\n",
              " 'gave': 147,\n",
              " 'star': 331,\n",
              " 'rate': 286,\n",
              " 'deserv': 83,\n",
              " 'desktop': 85,\n",
              " 'version': 382,\n",
              " 'satisfi': 301,\n",
              " 'android': 18,\n",
              " 'develop': 86,\n",
              " 'beauti': 40,\n",
              " 'liter': 200,\n",
              " 'find': 128,\n",
              " 'almost': 12,\n",
              " 'everyth': 113,\n",
              " 'need': 228,\n",
              " 'best': 43,\n",
              " 'even': 109,\n",
              " 'without': 397,\n",
              " 'premium': 268,\n",
              " 'featur': 125,\n",
              " 'provid': 280,\n",
              " 'us': 376,\n",
              " 'lot': 208,\n",
              " 'canva': 55,\n",
              " 'good': 152,\n",
              " 'recent': 290,\n",
              " 'face': 120,\n",
              " 'save': 302,\n",
              " 'file': 127,\n",
              " 'stuck': 336,\n",
              " 'download': 94,\n",
              " 'call': 52,\n",
              " 'magic': 212,\n",
              " 'happen': 159,\n",
              " 'll': 202,\n",
              " 'hope': 166,\n",
              " 'soon': 329,\n",
              " 'brilliant': 47,\n",
              " 'problem': 275,\n",
              " 'edit': 99,\n",
              " 'post': 266,\n",
              " 'photo': 254,\n",
              " 'start': 332,\n",
              " '10': 0,\n",
              " 'crash': 74,\n",
              " 'restart': 294,\n",
              " 'sometim': 327,\n",
              " 'go': 151,\n",
              " 'resum': 296,\n",
              " 'back': 35,\n",
              " 'great': 156,\n",
              " 'make': 213,\n",
              " 'updat': 373,\n",
              " 'abl': 2,\n",
              " 'chang': 57,\n",
              " 'font': 134,\n",
              " 'style': 340,\n",
              " 'option': 240,\n",
              " 'miss': 220,\n",
              " 'tri': 367,\n",
              " 'uninstal': 372,\n",
              " 'instal': 176,\n",
              " 'nt': 234,\n",
              " 'work': 401,\n",
              " 'far': 123,\n",
              " 'better': 44,\n",
              " 'could': 72,\n",
              " 'first': 131,\n",
              " 'give': 149,\n",
              " 'review': 297,\n",
              " 'creat': 75,\n",
              " 'logo': 205,\n",
              " 'small': 320,\n",
              " 'compani': 66,\n",
              " 'busi': 49,\n",
              " 'data': 80,\n",
              " 'see': 305,\n",
              " 'job': 184,\n",
              " 'basic': 39,\n",
              " 'design': 84,\n",
              " 'well': 391,\n",
              " 'keep': 185,\n",
              " 'take': 349,\n",
              " 'away': 33,\n",
              " 'free': 137,\n",
              " 'put': 282,\n",
              " 'subscript': 342,\n",
              " 'new': 231,\n",
              " 'ad': 7,\n",
              " 'graphic': 155,\n",
              " 'feel': 126,\n",
              " 'price': 272,\n",
              " 'pretti': 271,\n",
              " 'everi': 111,\n",
              " 'day': 81,\n",
              " 'month': 224,\n",
              " 'thumbnail': 360,\n",
              " 'banner': 38,\n",
              " 'video': 383,\n",
              " 'watermark': 387,\n",
              " 'look': 207,\n",
              " 'much': 225,\n",
              " 'attract': 29,\n",
              " 'peopl': 249,\n",
              " 'come': 65,\n",
              " 'wonder': 399,\n",
              " 'superb': 346,\n",
              " 'user': 379,\n",
              " 'interfac': 178,\n",
              " 'finish': 130,\n",
              " 'awesom': 34,\n",
              " 'paid': 245,\n",
              " 'product': 276,\n",
              " 'like': 197,\n",
              " 'full': 141,\n",
              " 'function': 143,\n",
              " 'kind': 186,\n",
              " 'skill': 317,\n",
              " 'easi': 96,\n",
              " 'purchas': 281,\n",
              " 'never': 230,\n",
              " 'said': 300,\n",
              " 'check': 60,\n",
              " 'seen': 307,\n",
              " 'pictur': 257,\n",
              " 'wast': 386,\n",
              " 'solv': 325,\n",
              " 'easier': 97,\n",
              " 'tool': 364,\n",
              " 'etc': 108,\n",
              " 'slow': 319,\n",
              " 'load': 203,\n",
              " 'especi': 107,\n",
              " 'stress': 335,\n",
              " 'got': 154,\n",
              " 'wait': 384,\n",
              " 'stuff': 338,\n",
              " 'page': 244,\n",
              " 'went': 392,\n",
              " 'improv': 172,\n",
              " 'disappoint': 90,\n",
              " 'wish': 396,\n",
              " 'close': 63,\n",
              " 'unabl': 370,\n",
              " 'noth': 233,\n",
              " 'help': 163,\n",
              " 'turn': 368,\n",
              " 'art': 27,\n",
              " 'money': 223,\n",
              " 'readi': 288,\n",
              " 'templat': 353,\n",
              " 'friendli': 139,\n",
              " 'poster': 267,\n",
              " 'conveni': 70,\n",
              " 'slide': 318,\n",
              " 'select': 308,\n",
              " 'frustrat': 140,\n",
              " 'automat': 31,\n",
              " 'anoth': 21,\n",
              " 'ca': 51,\n",
              " 'may': 216,\n",
              " 'show': 311,\n",
              " 'imag': 170,\n",
              " 'done': 91,\n",
              " 'hate': 162,\n",
              " 'complet': 67,\n",
              " 'background': 36,\n",
              " 'bad': 37,\n",
              " 'open': 239,\n",
              " 'let': 195,\n",
              " 'project': 278,\n",
              " 'social': 323,\n",
              " 'media': 217,\n",
              " 'site': 316,\n",
              " 'ever': 110,\n",
              " 'anyth': 23,\n",
              " 'glitch': 150,\n",
              " 'it': 183,\n",
              " 'nice': 232,\n",
              " 'add': 8,\n",
              " 'thing': 356,\n",
              " 'remov': 292,\n",
              " 'long': 206,\n",
              " 'connect': 68,\n",
              " 'worst': 403,\n",
              " 'lag': 189,\n",
              " 'becom': 41,\n",
              " 'auto': 30,\n",
              " 'team': 350,\n",
              " 'enough': 105,\n",
              " 'say': 303,\n",
              " 'pro': 274,\n",
              " 'alot': 13,\n",
              " 'low': 210,\n",
              " 'fantast': 122,\n",
              " 'applic': 25,\n",
              " 'happi': 160,\n",
              " 'youtub': 411,\n",
              " 'someth': 326,\n",
              " 'perfect': 250,\n",
              " 'beginn': 42,\n",
              " 're': 287,\n",
              " 'right': 298,\n",
              " 'cool': 71,\n",
              " 'annoy': 20,\n",
              " 'share': 310,\n",
              " 'mode': 222,\n",
              " 'galleri': 145,\n",
              " 'log': 204,\n",
              " 'alway': 16,\n",
              " 'card': 56,\n",
              " 'advertis': 9,\n",
              " 'interest': 177,\n",
              " 'differ': 88,\n",
              " 'creator': 77,\n",
              " 'recommend': 291,\n",
              " 'everyon': 112,\n",
              " 'total': 366,\n",
              " 'would': 405,\n",
              " 'plz': 263,\n",
              " 'place': 259,\n",
              " 'creativ': 76,\n",
              " 'play': 261,\n",
              " 'life': 196,\n",
              " 'profession': 277,\n",
              " 'properli': 279,\n",
              " 'servic': 309,\n",
              " 'qualiti': 283,\n",
              " 'offer': 235,\n",
              " 'custom': 78,\n",
              " 'incred': 173,\n",
              " 'phone': 253,\n",
              " 'impress': 171,\n",
              " 'easili': 98,\n",
              " 'intuit': 180,\n",
              " 'afford': 10,\n",
              " 'absolut': 3,\n",
              " 'choos': 61,\n",
              " 'person': 252,\n",
              " 'yet': 410,\n",
              " 'made': 211,\n",
              " 'know': 188,\n",
              " 'other': 241,\n",
              " 'write': 407,\n",
              " 'tell': 352,\n",
              " 'wrong': 408,\n",
              " 'less': 194,\n",
              " 'idea': 168,\n",
              " 'varieti': 380,\n",
              " 'im': 169,\n",
              " 'requir': 293,\n",
              " 'payment': 248,\n",
              " 'simpl': 313,\n",
              " 'laptop': 191,\n",
              " 'fun': 142,\n",
              " 'perfectli': 251,\n",
              " 'pl': 258,\n",
              " 'platform': 260,\n",
              " 'way': 388,\n",
              " 'super': 345,\n",
              " 'cover': 73,\n",
              " 'end': 103,\n",
              " 'result': 295,\n",
              " 'sure': 347,\n",
              " 'anyon': 22,\n",
              " 'content': 69,\n",
              " 'anim': 19,\n",
              " 'error': 106,\n",
              " 'technic': 351,\n",
              " 'instagram': 175,\n",
              " 'softwar': 324,\n",
              " 'subscrib': 341,\n",
              " 'fast': 124,\n",
              " 'internet': 179,\n",
              " 'pay': 247,\n",
              " 'allow': 11,\n",
              " 'editor': 100,\n",
              " 'stori': 334,\n",
              " 'must': 226,\n",
              " 'world': 402,\n",
              " 'hang': 158,\n",
              " 'channel': 58,\n",
              " 'birthday': 45,\n",
              " 'facebook': 121,\n",
              " 'flyer': 133,\n",
              " 'suck': 343,\n",
              " 'charg': 59,\n",
              " 'student': 337,\n",
              " 'learn': 193,\n",
              " 'seem': 306,\n",
              " 'school': 304,\n",
              " 'bit': 46,\n",
              " 'otherwis': 242,\n",
              " 'excel': 115,\n",
              " 'smoothli': 322,\n",
              " 'top': 365,\n",
              " 'click': 62,\n",
              " 'bug': 48,\n",
              " 'cant': 54,\n",
              " 'access': 4,\n",
              " 'onlin': 238,\n",
              " 'quick': 284,\n",
              " 'difficult': 89,\n",
              " 'ton': 362,\n",
              " 'smooth': 321,\n",
              " 'friend': 138,\n",
              " 'market': 215,\n",
              " 'network': 229,\n",
              " 'cancel': 53,\n",
              " 'avail': 32,\n",
              " 'game': 146,\n",
              " 'offlin': 236,\n",
              " 'fine': 129,\n",
              " 'experienc': 118,\n",
              " 'photoshop': 255,\n",
              " 'wo': 398,\n",
              " 'googl': 153,\n",
              " 'account': 5,\n",
              " 'special': 330,\n",
              " 'aap': 1,\n",
              " 'print': 273,\n",
              " 'navig': 227,\n",
              " 'invit': 181,\n",
              " 'enjoy': 104,\n",
              " 'suggest': 344,\n",
              " 'understand': 371,\n",
              " 'useless': 378,\n",
              " 'insta': 174,\n",
              " 'line': 199,\n",
              " 'type': 369,\n",
              " 'due': 95,\n",
              " 'whatev': 393,\n",
              " 'highli': 165,\n",
              " 'collag': 64,\n",
              " 'found': 136,\n",
              " 'doubt': 93,\n",
              " 'effect': 101,\n",
              " 'email': 102,\n",
              " 'quit': 285,\n",
              " 'hard': 161,\n",
              " 'wow': 406,\n",
              " 'wifi': 395,\n",
              " 'ask': 28,\n",
              " 'daili': 79,\n",
              " 'run': 299,\n",
              " 'limit': 198,\n",
              " 'guy': 157,\n",
              " 'soo': 328,\n",
              " 'everytim': 114,\n",
              " 'forev': 135,\n",
              " 'simpli': 314,\n",
              " 'word': 400,\n",
              " 'worth': 404,\n",
              " 'took': 363,\n",
              " 'prepar': 269,\n",
              " 'minut': 219,\n",
              " 'except': 116,\n",
              " 'actual': 6,\n",
              " 'mind': 218,\n",
              " 'upgrad': 374,\n",
              " 'kindli': 187,\n",
              " 'stun': 339,\n",
              " 'pic': 256,\n",
              " 'futur': 144,\n",
              " 'appreci': 26,\n",
              " 'sign': 312,\n",
              " 'alreadi': 14,\n",
              " 'laggi': 190,\n",
              " 'buy': 50,\n",
              " 'upload': 375,\n",
              " 'dont': 92,\n",
              " 'wide': 394,\n",
              " 'littl': 201,\n",
              " 'web': 389,\n",
              " 'devic': 87,\n",
              " 'poor': 264,\n",
              " 'possibl': 265,\n",
              " 'tablet': 348}"
            ]
          },
          "metadata": {},
          "execution_count": 88
        }
      ]
    },
    {
      "cell_type": "code",
      "source": [
        "# to see number of unique vectors\n",
        "len(vect.vocabulary_)"
      ],
      "metadata": {
        "colab": {
          "base_uri": "https://localhost:8080/"
        },
        "id": "8fikscXZNhCS",
        "outputId": "741d68a0-58cf-4ba5-bd58-47e17744a00a"
      },
      "execution_count": null,
      "outputs": [
        {
          "output_type": "execute_result",
          "data": {
            "text/plain": [
              "413"
            ]
          },
          "metadata": {},
          "execution_count": 89
        }
      ]
    },
    {
      "cell_type": "markdown",
      "source": [
        "**Convert this sparse matrix to array**"
      ],
      "metadata": {
        "id": "eKKDdO_BNjUh"
      }
    },
    {
      "cell_type": "code",
      "source": [
        "type(X)"
      ],
      "metadata": {
        "colab": {
          "base_uri": "https://localhost:8080/",
          "height": 187
        },
        "id": "OC5bmZerNhwd",
        "outputId": "7c7973a9-27a6-4456-f4b0-0d081ee2349a"
      },
      "execution_count": null,
      "outputs": [
        {
          "output_type": "execute_result",
          "data": {
            "text/plain": [
              "scipy.sparse._csr.csr_matrix"
            ],
            "text/html": [
              "<div style=\"max-width:800px; border: 1px solid var(--colab-border-color);\"><style>\n",
              "      pre.function-repr-contents {\n",
              "        overflow-x: auto;\n",
              "        padding: 8px 12px;\n",
              "        max-height: 500px;\n",
              "      }\n",
              "\n",
              "      pre.function-repr-contents.function-repr-contents-collapsed {\n",
              "        cursor: pointer;\n",
              "        max-height: 100px;\n",
              "      }\n",
              "    </style>\n",
              "    <pre style=\"white-space: initial; background:\n",
              "         var(--colab-secondary-surface-color); padding: 8px 12px;\n",
              "         border-bottom: 1px solid var(--colab-border-color);\"><b>scipy.sparse._csr.csr_matrix</b><br/>def __init__(arg1, shape=None, dtype=None, copy=False)</pre><pre class=\"function-repr-contents function-repr-contents-collapsed\" style=\"\"><a class=\"filepath\" style=\"display:none\" href=\"#\">/usr/local/lib/python3.11/dist-packages/scipy/sparse/_csr.py</a>Compressed Sparse Row matrix.\n",
              "\n",
              "This can be instantiated in several ways:\n",
              "    csr_matrix(D)\n",
              "        where D is a 2-D ndarray\n",
              "\n",
              "    csr_matrix(S)\n",
              "        with another sparse array or matrix S (equivalent to S.tocsr())\n",
              "\n",
              "    csr_matrix((M, N), [dtype])\n",
              "        to construct an empty matrix with shape (M, N)\n",
              "        dtype is optional, defaulting to dtype=&#x27;d&#x27;.\n",
              "\n",
              "    csr_matrix((data, (row_ind, col_ind)), [shape=(M, N)])\n",
              "        where ``data``, ``row_ind`` and ``col_ind`` satisfy the\n",
              "        relationship ``a[row_ind[k], col_ind[k]] = data[k]``.\n",
              "\n",
              "    csr_matrix((data, indices, indptr), [shape=(M, N)])\n",
              "        is the standard CSR representation where the column indices for\n",
              "        row i are stored in ``indices[indptr[i]:indptr[i+1]]`` and their\n",
              "        corresponding values are stored in ``data[indptr[i]:indptr[i+1]]``.\n",
              "        If the shape parameter is not supplied, the matrix dimensions\n",
              "        are inferred from the index arrays.\n",
              "\n",
              "Attributes\n",
              "----------\n",
              "dtype : dtype\n",
              "    Data type of the matrix\n",
              "shape : 2-tuple\n",
              "    Shape of the matrix\n",
              "ndim : int\n",
              "    Number of dimensions (this is always 2)\n",
              "nnz\n",
              "size\n",
              "data\n",
              "    CSR format data array of the matrix\n",
              "indices\n",
              "    CSR format index array of the matrix\n",
              "indptr\n",
              "    CSR format index pointer array of the matrix\n",
              "has_sorted_indices\n",
              "has_canonical_format\n",
              "T\n",
              "\n",
              "Notes\n",
              "-----\n",
              "\n",
              "Sparse matrices can be used in arithmetic operations: they support\n",
              "addition, subtraction, multiplication, division, and matrix power.\n",
              "\n",
              "Advantages of the CSR format\n",
              "  - efficient arithmetic operations CSR + CSR, CSR * CSR, etc.\n",
              "  - efficient row slicing\n",
              "  - fast matrix vector products\n",
              "\n",
              "Disadvantages of the CSR format\n",
              "  - slow column slicing operations (consider CSC)\n",
              "  - changes to the sparsity structure are expensive (consider LIL or DOK)\n",
              "\n",
              "Canonical Format\n",
              "    - Within each row, indices are sorted by column.\n",
              "    - There are no duplicate entries.\n",
              "\n",
              "Examples\n",
              "--------\n",
              "\n",
              "&gt;&gt;&gt; import numpy as np\n",
              "&gt;&gt;&gt; from scipy.sparse import csr_matrix\n",
              "&gt;&gt;&gt; csr_matrix((3, 4), dtype=np.int8).toarray()\n",
              "array([[0, 0, 0, 0],\n",
              "       [0, 0, 0, 0],\n",
              "       [0, 0, 0, 0]], dtype=int8)\n",
              "\n",
              "&gt;&gt;&gt; row = np.array([0, 0, 1, 2, 2, 2])\n",
              "&gt;&gt;&gt; col = np.array([0, 2, 2, 0, 1, 2])\n",
              "&gt;&gt;&gt; data = np.array([1, 2, 3, 4, 5, 6])\n",
              "&gt;&gt;&gt; csr_matrix((data, (row, col)), shape=(3, 3)).toarray()\n",
              "array([[1, 0, 2],\n",
              "       [0, 0, 3],\n",
              "       [4, 5, 6]])\n",
              "\n",
              "&gt;&gt;&gt; indptr = np.array([0, 2, 3, 6])\n",
              "&gt;&gt;&gt; indices = np.array([0, 2, 2, 0, 1, 2])\n",
              "&gt;&gt;&gt; data = np.array([1, 2, 3, 4, 5, 6])\n",
              "&gt;&gt;&gt; csr_matrix((data, indices, indptr), shape=(3, 3)).toarray()\n",
              "array([[1, 0, 2],\n",
              "       [0, 0, 3],\n",
              "       [4, 5, 6]])\n",
              "\n",
              "Duplicate entries are summed together:\n",
              "\n",
              "&gt;&gt;&gt; row = np.array([0, 1, 2, 0])\n",
              "&gt;&gt;&gt; col = np.array([0, 1, 1, 0])\n",
              "&gt;&gt;&gt; data = np.array([1, 2, 4, 8])\n",
              "&gt;&gt;&gt; csr_matrix((data, (row, col)), shape=(3, 3)).toarray()\n",
              "array([[9, 0, 0],\n",
              "       [0, 2, 0],\n",
              "       [0, 4, 0]])\n",
              "\n",
              "As an example of how to construct a CSR matrix incrementally,\n",
              "the following snippet builds a term-document matrix from texts:\n",
              "\n",
              "&gt;&gt;&gt; docs = [[&quot;hello&quot;, &quot;world&quot;, &quot;hello&quot;], [&quot;goodbye&quot;, &quot;cruel&quot;, &quot;world&quot;]]\n",
              "&gt;&gt;&gt; indptr = [0]\n",
              "&gt;&gt;&gt; indices = []\n",
              "&gt;&gt;&gt; data = []\n",
              "&gt;&gt;&gt; vocabulary = {}\n",
              "&gt;&gt;&gt; for d in docs:\n",
              "...     for term in d:\n",
              "...         index = vocabulary.setdefault(term, len(vocabulary))\n",
              "...         indices.append(index)\n",
              "...         data.append(1)\n",
              "...     indptr.append(len(indices))\n",
              "...\n",
              "&gt;&gt;&gt; csr_matrix((data, indices, indptr), dtype=int).toarray()\n",
              "array([[2, 1, 0, 0],\n",
              "       [0, 1, 1, 1]])</pre>\n",
              "      <script>\n",
              "      if (google.colab.kernel.accessAllowed && google.colab.files && google.colab.files.view) {\n",
              "        for (const element of document.querySelectorAll('.filepath')) {\n",
              "          element.style.display = 'block'\n",
              "          element.onclick = (event) => {\n",
              "            event.preventDefault();\n",
              "            event.stopPropagation();\n",
              "            google.colab.files.view(element.textContent, 370);\n",
              "          };\n",
              "        }\n",
              "      }\n",
              "      for (const element of document.querySelectorAll('.function-repr-contents')) {\n",
              "        element.onclick = (event) => {\n",
              "          event.preventDefault();\n",
              "          event.stopPropagation();\n",
              "          element.classList.toggle('function-repr-contents-collapsed');\n",
              "        };\n",
              "      }\n",
              "      </script>\n",
              "      </div>"
            ]
          },
          "metadata": {},
          "execution_count": 90
        }
      ]
    },
    {
      "cell_type": "code",
      "source": [
        "X_a = X.toarray()\n",
        "X_a.shape"
      ],
      "metadata": {
        "colab": {
          "base_uri": "https://localhost:8080/"
        },
        "id": "8st0cWBPNo5y",
        "outputId": "4a26adea-d047-4419-b4b9-59085bcebf83"
      },
      "execution_count": null,
      "outputs": [
        {
          "output_type": "execute_result",
          "data": {
            "text/plain": [
              "(1500, 413)"
            ]
          },
          "metadata": {},
          "execution_count": 91
        }
      ]
    },
    {
      "cell_type": "code",
      "source": [
        "X_a[13,:]"
      ],
      "metadata": {
        "colab": {
          "base_uri": "https://localhost:8080/"
        },
        "id": "XgrBHqEfNp0q",
        "outputId": "e4d772d1-5d14-49ef-f06c-8b91535d397e"
      },
      "execution_count": null,
      "outputs": [
        {
          "output_type": "execute_result",
          "data": {
            "text/plain": [
              "array([0, 0, 0, 0, 0, 0, 0, 0, 0, 0, 0, 0, 0, 0, 0, 0, 0, 0, 0, 0, 0, 0,\n",
              "       0, 0, 0, 0, 0, 0, 0, 0, 0, 0, 0, 0, 0, 0, 0, 0, 0, 0, 0, 0, 0, 0,\n",
              "       0, 0, 0, 0, 0, 0, 0, 0, 0, 0, 0, 0, 0, 0, 0, 0, 0, 0, 0, 0, 0, 0,\n",
              "       0, 0, 0, 0, 0, 0, 0, 0, 0, 0, 0, 0, 0, 0, 0, 0, 0, 0, 0, 0, 0, 0,\n",
              "       0, 0, 0, 0, 0, 0, 0, 0, 0, 0, 0, 0, 0, 0, 0, 0, 0, 0, 0, 0, 0, 0,\n",
              "       0, 0, 0, 0, 0, 0, 0, 0, 0, 0, 0, 0, 0, 0, 0, 0, 0, 0, 0, 0, 0, 0,\n",
              "       0, 0, 0, 0, 0, 0, 0, 0, 0, 0, 0, 0, 0, 0, 0, 0, 0, 0, 0, 0, 0, 0,\n",
              "       0, 0, 0, 0, 0, 0, 0, 0, 0, 0, 0, 0, 0, 0, 0, 0, 0, 0, 0, 0, 0, 0,\n",
              "       0, 0, 0, 0, 0, 0, 0, 0, 0, 0, 0, 0, 0, 0, 0, 0, 0, 0, 0, 0, 0, 0,\n",
              "       0, 0, 0, 0, 0, 0, 0, 0, 0, 0, 0, 0, 0, 0, 0, 0, 0, 0, 0, 0, 0, 0,\n",
              "       0, 0, 0, 0, 0, 0, 0, 0, 0, 0, 0, 0, 0, 1, 0, 0, 0, 0, 0, 0, 0, 0,\n",
              "       0, 0, 0, 0, 0, 0, 0, 0, 0, 0, 0, 0, 0, 0, 0, 0, 0, 0, 0, 0, 0, 0,\n",
              "       0, 0, 0, 0, 0, 0, 0, 0, 0, 0, 0, 0, 0, 0, 0, 0, 0, 0, 0, 0, 0, 0,\n",
              "       0, 0, 0, 0, 0, 0, 0, 0, 0, 0, 0, 0, 0, 0, 0, 0, 1, 0, 0, 0, 0, 0,\n",
              "       0, 0, 0, 0, 0, 0, 0, 0, 0, 0, 0, 0, 0, 0, 0, 0, 0, 0, 0, 0, 0, 0,\n",
              "       0, 0, 0, 0, 0, 0, 0, 0, 0, 0, 0, 0, 0, 0, 0, 0, 0, 0, 0, 0, 0, 0,\n",
              "       0, 0, 0, 0, 0, 0, 0, 0, 0, 0, 0, 0, 0, 0, 0, 0, 0, 0, 1, 0, 0, 0,\n",
              "       0, 0, 0, 0, 0, 0, 0, 0, 0, 0, 0, 0, 0, 0, 0, 0, 0, 0, 0, 0, 0, 0,\n",
              "       0, 0, 0, 0, 0, 1, 0, 0, 0, 0, 0, 0, 0, 0, 0, 0, 0])"
            ]
          },
          "metadata": {},
          "execution_count": 92
        }
      ]
    },
    {
      "cell_type": "code",
      "source": [
        "clean_reviews[13]"
      ],
      "metadata": {
        "colab": {
          "base_uri": "https://localhost:8080/",
          "height": 35
        },
        "id": "mwNlzL19Oxcp",
        "outputId": "c72229be-77bc-4911-844c-2bef8f9f5ba1"
      },
      "execution_count": null,
      "outputs": [
        {
          "output_type": "execute_result",
          "data": {
            "text/plain": [
              "'unabl save work noth work'"
            ],
            "application/vnd.google.colaboratory.intrinsic+json": {
              "type": "string"
            }
          },
          "metadata": {},
          "execution_count": 93
        }
      ]
    },
    {
      "cell_type": "code",
      "source": [
        "feature_names = vect.get_feature_names_out()\n",
        "token = \"unabl\"\n",
        "if token in feature_names:\n",
        "    index = list(feature_names).index(token)\n",
        "    print(f\"Index of '{token}': {index}\")\n",
        "else:\n",
        "    print(f\"'{token}' not found in feature names.\")"
      ],
      "metadata": {
        "colab": {
          "base_uri": "https://localhost:8080/"
        },
        "id": "vqkoJ0awO0CR",
        "outputId": "54fa1d59-df47-4f16-85e2-f775cdad3fa3"
      },
      "execution_count": null,
      "outputs": [
        {
          "output_type": "stream",
          "name": "stdout",
          "text": [
            "Index of 'unabl': 370\n"
          ]
        }
      ]
    },
    {
      "cell_type": "code",
      "source": [
        "token = \"work\"\n",
        "if token in feature_names:\n",
        "    index = list(feature_names).index(token)\n",
        "    print(f\"Index of '{token}': {index}\")\n",
        "else:\n",
        "    print(f\"'{token}' not found in feature names.\")"
      ],
      "metadata": {
        "id": "FDlu91EaPEGs",
        "outputId": "1847e532-1582-42ee-f0bf-e17f9e1225ba",
        "colab": {
          "base_uri": "https://localhost:8080/"
        }
      },
      "execution_count": null,
      "outputs": [
        {
          "output_type": "stream",
          "name": "stdout",
          "text": [
            "Index of 'work': 401\n"
          ]
        }
      ]
    },
    {
      "cell_type": "code",
      "source": [
        "X_a[13,401]"
      ],
      "metadata": {
        "colab": {
          "base_uri": "https://localhost:8080/"
        },
        "id": "7Ukth0h0JVOj",
        "outputId": "8a26f8bb-7ad2-4ad5-e05c-b591d2f58bc5"
      },
      "execution_count": null,
      "outputs": [
        {
          "output_type": "execute_result",
          "data": {
            "text/plain": [
              "1"
            ]
          },
          "metadata": {},
          "execution_count": 96
        }
      ]
    },
    {
      "cell_type": "code",
      "source": [
        "data.head()"
      ],
      "metadata": {
        "colab": {
          "base_uri": "https://localhost:8080/",
          "height": 206
        },
        "id": "7GxcA3FgJWj3",
        "outputId": "6c0336e1-cbac-4618-eee7-823328c35f12"
      },
      "execution_count": null,
      "outputs": [
        {
          "output_type": "execute_result",
          "data": {
            "text/plain": [
              "                                              review Sentiment\n",
              "0  Overall it's really an amazing app. I've been ...  Negative\n",
              "1  Hey! Yes I gave a 5 star rating... coz I belie...  Positive\n",
              "2  Canva used to be a good app! But recently I've...  Negative\n",
              "3  It's a brilliant app, but I have just one prob...  Negative\n",
              "4  This was such a great app. I used to make BTS ...  Negative"
            ],
            "text/html": [
              "\n",
              "  <div id=\"df-c25fd16e-78bb-48d2-97ea-4e50a158dcaa\" class=\"colab-df-container\">\n",
              "    <div>\n",
              "<style scoped>\n",
              "    .dataframe tbody tr th:only-of-type {\n",
              "        vertical-align: middle;\n",
              "    }\n",
              "\n",
              "    .dataframe tbody tr th {\n",
              "        vertical-align: top;\n",
              "    }\n",
              "\n",
              "    .dataframe thead th {\n",
              "        text-align: right;\n",
              "    }\n",
              "</style>\n",
              "<table border=\"1\" class=\"dataframe\">\n",
              "  <thead>\n",
              "    <tr style=\"text-align: right;\">\n",
              "      <th></th>\n",
              "      <th>review</th>\n",
              "      <th>Sentiment</th>\n",
              "    </tr>\n",
              "  </thead>\n",
              "  <tbody>\n",
              "    <tr>\n",
              "      <th>0</th>\n",
              "      <td>Overall it's really an amazing app. I've been ...</td>\n",
              "      <td>Negative</td>\n",
              "    </tr>\n",
              "    <tr>\n",
              "      <th>1</th>\n",
              "      <td>Hey! Yes I gave a 5 star rating... coz I belie...</td>\n",
              "      <td>Positive</td>\n",
              "    </tr>\n",
              "    <tr>\n",
              "      <th>2</th>\n",
              "      <td>Canva used to be a good app! But recently I've...</td>\n",
              "      <td>Negative</td>\n",
              "    </tr>\n",
              "    <tr>\n",
              "      <th>3</th>\n",
              "      <td>It's a brilliant app, but I have just one prob...</td>\n",
              "      <td>Negative</td>\n",
              "    </tr>\n",
              "    <tr>\n",
              "      <th>4</th>\n",
              "      <td>This was such a great app. I used to make BTS ...</td>\n",
              "      <td>Negative</td>\n",
              "    </tr>\n",
              "  </tbody>\n",
              "</table>\n",
              "</div>\n",
              "    <div class=\"colab-df-buttons\">\n",
              "\n",
              "  <div class=\"colab-df-container\">\n",
              "    <button class=\"colab-df-convert\" onclick=\"convertToInteractive('df-c25fd16e-78bb-48d2-97ea-4e50a158dcaa')\"\n",
              "            title=\"Convert this dataframe to an interactive table.\"\n",
              "            style=\"display:none;\">\n",
              "\n",
              "  <svg xmlns=\"http://www.w3.org/2000/svg\" height=\"24px\" viewBox=\"0 -960 960 960\">\n",
              "    <path d=\"M120-120v-720h720v720H120Zm60-500h600v-160H180v160Zm220 220h160v-160H400v160Zm0 220h160v-160H400v160ZM180-400h160v-160H180v160Zm440 0h160v-160H620v160ZM180-180h160v-160H180v160Zm440 0h160v-160H620v160Z\"/>\n",
              "  </svg>\n",
              "    </button>\n",
              "\n",
              "  <style>\n",
              "    .colab-df-container {\n",
              "      display:flex;\n",
              "      gap: 12px;\n",
              "    }\n",
              "\n",
              "    .colab-df-convert {\n",
              "      background-color: #E8F0FE;\n",
              "      border: none;\n",
              "      border-radius: 50%;\n",
              "      cursor: pointer;\n",
              "      display: none;\n",
              "      fill: #1967D2;\n",
              "      height: 32px;\n",
              "      padding: 0 0 0 0;\n",
              "      width: 32px;\n",
              "    }\n",
              "\n",
              "    .colab-df-convert:hover {\n",
              "      background-color: #E2EBFA;\n",
              "      box-shadow: 0px 1px 2px rgba(60, 64, 67, 0.3), 0px 1px 3px 1px rgba(60, 64, 67, 0.15);\n",
              "      fill: #174EA6;\n",
              "    }\n",
              "\n",
              "    .colab-df-buttons div {\n",
              "      margin-bottom: 4px;\n",
              "    }\n",
              "\n",
              "    [theme=dark] .colab-df-convert {\n",
              "      background-color: #3B4455;\n",
              "      fill: #D2E3FC;\n",
              "    }\n",
              "\n",
              "    [theme=dark] .colab-df-convert:hover {\n",
              "      background-color: #434B5C;\n",
              "      box-shadow: 0px 1px 3px 1px rgba(0, 0, 0, 0.15);\n",
              "      filter: drop-shadow(0px 1px 2px rgba(0, 0, 0, 0.3));\n",
              "      fill: #FFFFFF;\n",
              "    }\n",
              "  </style>\n",
              "\n",
              "    <script>\n",
              "      const buttonEl =\n",
              "        document.querySelector('#df-c25fd16e-78bb-48d2-97ea-4e50a158dcaa button.colab-df-convert');\n",
              "      buttonEl.style.display =\n",
              "        google.colab.kernel.accessAllowed ? 'block' : 'none';\n",
              "\n",
              "      async function convertToInteractive(key) {\n",
              "        const element = document.querySelector('#df-c25fd16e-78bb-48d2-97ea-4e50a158dcaa');\n",
              "        const dataTable =\n",
              "          await google.colab.kernel.invokeFunction('convertToInteractive',\n",
              "                                                    [key], {});\n",
              "        if (!dataTable) return;\n",
              "\n",
              "        const docLinkHtml = 'Like what you see? Visit the ' +\n",
              "          '<a target=\"_blank\" href=https://colab.research.google.com/notebooks/data_table.ipynb>data table notebook</a>'\n",
              "          + ' to learn more about interactive tables.';\n",
              "        element.innerHTML = '';\n",
              "        dataTable['output_type'] = 'display_data';\n",
              "        await google.colab.output.renderOutput(dataTable, element);\n",
              "        const docLink = document.createElement('div');\n",
              "        docLink.innerHTML = docLinkHtml;\n",
              "        element.appendChild(docLink);\n",
              "      }\n",
              "    </script>\n",
              "  </div>\n",
              "\n",
              "\n",
              "<div id=\"df-4121679f-a297-4ea8-b4e8-7319653d2fb0\">\n",
              "  <button class=\"colab-df-quickchart\" onclick=\"quickchart('df-4121679f-a297-4ea8-b4e8-7319653d2fb0')\"\n",
              "            title=\"Suggest charts\"\n",
              "            style=\"display:none;\">\n",
              "\n",
              "<svg xmlns=\"http://www.w3.org/2000/svg\" height=\"24px\"viewBox=\"0 0 24 24\"\n",
              "     width=\"24px\">\n",
              "    <g>\n",
              "        <path d=\"M19 3H5c-1.1 0-2 .9-2 2v14c0 1.1.9 2 2 2h14c1.1 0 2-.9 2-2V5c0-1.1-.9-2-2-2zM9 17H7v-7h2v7zm4 0h-2V7h2v10zm4 0h-2v-4h2v4z\"/>\n",
              "    </g>\n",
              "</svg>\n",
              "  </button>\n",
              "\n",
              "<style>\n",
              "  .colab-df-quickchart {\n",
              "      --bg-color: #E8F0FE;\n",
              "      --fill-color: #1967D2;\n",
              "      --hover-bg-color: #E2EBFA;\n",
              "      --hover-fill-color: #174EA6;\n",
              "      --disabled-fill-color: #AAA;\n",
              "      --disabled-bg-color: #DDD;\n",
              "  }\n",
              "\n",
              "  [theme=dark] .colab-df-quickchart {\n",
              "      --bg-color: #3B4455;\n",
              "      --fill-color: #D2E3FC;\n",
              "      --hover-bg-color: #434B5C;\n",
              "      --hover-fill-color: #FFFFFF;\n",
              "      --disabled-bg-color: #3B4455;\n",
              "      --disabled-fill-color: #666;\n",
              "  }\n",
              "\n",
              "  .colab-df-quickchart {\n",
              "    background-color: var(--bg-color);\n",
              "    border: none;\n",
              "    border-radius: 50%;\n",
              "    cursor: pointer;\n",
              "    display: none;\n",
              "    fill: var(--fill-color);\n",
              "    height: 32px;\n",
              "    padding: 0;\n",
              "    width: 32px;\n",
              "  }\n",
              "\n",
              "  .colab-df-quickchart:hover {\n",
              "    background-color: var(--hover-bg-color);\n",
              "    box-shadow: 0 1px 2px rgba(60, 64, 67, 0.3), 0 1px 3px 1px rgba(60, 64, 67, 0.15);\n",
              "    fill: var(--button-hover-fill-color);\n",
              "  }\n",
              "\n",
              "  .colab-df-quickchart-complete:disabled,\n",
              "  .colab-df-quickchart-complete:disabled:hover {\n",
              "    background-color: var(--disabled-bg-color);\n",
              "    fill: var(--disabled-fill-color);\n",
              "    box-shadow: none;\n",
              "  }\n",
              "\n",
              "  .colab-df-spinner {\n",
              "    border: 2px solid var(--fill-color);\n",
              "    border-color: transparent;\n",
              "    border-bottom-color: var(--fill-color);\n",
              "    animation:\n",
              "      spin 1s steps(1) infinite;\n",
              "  }\n",
              "\n",
              "  @keyframes spin {\n",
              "    0% {\n",
              "      border-color: transparent;\n",
              "      border-bottom-color: var(--fill-color);\n",
              "      border-left-color: var(--fill-color);\n",
              "    }\n",
              "    20% {\n",
              "      border-color: transparent;\n",
              "      border-left-color: var(--fill-color);\n",
              "      border-top-color: var(--fill-color);\n",
              "    }\n",
              "    30% {\n",
              "      border-color: transparent;\n",
              "      border-left-color: var(--fill-color);\n",
              "      border-top-color: var(--fill-color);\n",
              "      border-right-color: var(--fill-color);\n",
              "    }\n",
              "    40% {\n",
              "      border-color: transparent;\n",
              "      border-right-color: var(--fill-color);\n",
              "      border-top-color: var(--fill-color);\n",
              "    }\n",
              "    60% {\n",
              "      border-color: transparent;\n",
              "      border-right-color: var(--fill-color);\n",
              "    }\n",
              "    80% {\n",
              "      border-color: transparent;\n",
              "      border-right-color: var(--fill-color);\n",
              "      border-bottom-color: var(--fill-color);\n",
              "    }\n",
              "    90% {\n",
              "      border-color: transparent;\n",
              "      border-bottom-color: var(--fill-color);\n",
              "    }\n",
              "  }\n",
              "</style>\n",
              "\n",
              "  <script>\n",
              "    async function quickchart(key) {\n",
              "      const quickchartButtonEl =\n",
              "        document.querySelector('#' + key + ' button');\n",
              "      quickchartButtonEl.disabled = true;  // To prevent multiple clicks.\n",
              "      quickchartButtonEl.classList.add('colab-df-spinner');\n",
              "      try {\n",
              "        const charts = await google.colab.kernel.invokeFunction(\n",
              "            'suggestCharts', [key], {});\n",
              "      } catch (error) {\n",
              "        console.error('Error during call to suggestCharts:', error);\n",
              "      }\n",
              "      quickchartButtonEl.classList.remove('colab-df-spinner');\n",
              "      quickchartButtonEl.classList.add('colab-df-quickchart-complete');\n",
              "    }\n",
              "    (() => {\n",
              "      let quickchartButtonEl =\n",
              "        document.querySelector('#df-4121679f-a297-4ea8-b4e8-7319653d2fb0 button');\n",
              "      quickchartButtonEl.style.display =\n",
              "        google.colab.kernel.accessAllowed ? 'block' : 'none';\n",
              "    })();\n",
              "  </script>\n",
              "</div>\n",
              "\n",
              "    </div>\n",
              "  </div>\n"
            ],
            "application/vnd.google.colaboratory.intrinsic+json": {
              "type": "dataframe",
              "variable_name": "data",
              "summary": "{\n  \"name\": \"data\",\n  \"rows\": 1500,\n  \"fields\": [\n    {\n      \"column\": \"review\",\n      \"properties\": {\n        \"dtype\": \"string\",\n        \"num_unique_values\": 1500,\n        \"samples\": [\n          \"Superb app lost of features just one problems is there that it is a bit expensive for students like us.\",\n          \"Loving how easy it is to get great ideas and turn them into something amazing! Thank you to the developers of this app!\",\n          \"Just what I've been looking for, very convenient for me.\"\n        ],\n        \"semantic_type\": \"\",\n        \"description\": \"\"\n      }\n    },\n    {\n      \"column\": \"Sentiment\",\n      \"properties\": {\n        \"dtype\": \"category\",\n        \"num_unique_values\": 2,\n        \"samples\": [\n          \"Positive\",\n          \"Negative\"\n        ],\n        \"semantic_type\": \"\",\n        \"description\": \"\"\n      }\n    }\n  ]\n}"
            }
          },
          "metadata": {},
          "execution_count": 97
        }
      ]
    },
    {
      "cell_type": "code",
      "source": [
        "# encode\n",
        "data[\"Sentiment\"] = data[\"Sentiment\"].apply(lambda x: 1 if x==\"Positive\" else 0)"
      ],
      "metadata": {
        "id": "_ZtO9lOUJbO4"
      },
      "execution_count": null,
      "outputs": []
    },
    {
      "cell_type": "code",
      "source": [
        "y = data[\"Sentiment\"]"
      ],
      "metadata": {
        "id": "t9mtYP2WJcc_"
      },
      "execution_count": null,
      "outputs": []
    },
    {
      "cell_type": "markdown",
      "source": [
        "# **Section 4.1. Model Building using Binary Bag of Words**"
      ],
      "metadata": {
        "id": "2Nbl4ZUUJgF3"
      }
    },
    {
      "cell_type": "code",
      "source": [
        "X_train, X_test, y_train, y_test = train_test_split(X, y, test_size=0.2, stratify=y, random_state=42)"
      ],
      "metadata": {
        "id": "24Q5RpoSK8Mv"
      },
      "execution_count": null,
      "outputs": []
    },
    {
      "cell_type": "code",
      "source": [
        "model = LogisticRegression()\n",
        "model.fit(X_train, y_train)"
      ],
      "metadata": {
        "colab": {
          "base_uri": "https://localhost:8080/",
          "height": 80
        },
        "id": "nPR-BoinLhRP",
        "outputId": "0b4e0f09-6e6d-4593-9cd3-ad69f5d66272"
      },
      "execution_count": null,
      "outputs": [
        {
          "output_type": "execute_result",
          "data": {
            "text/plain": [
              "LogisticRegression()"
            ],
            "text/html": [
              "<style>#sk-container-id-1 {\n",
              "  /* Definition of color scheme common for light and dark mode */\n",
              "  --sklearn-color-text: #000;\n",
              "  --sklearn-color-text-muted: #666;\n",
              "  --sklearn-color-line: gray;\n",
              "  /* Definition of color scheme for unfitted estimators */\n",
              "  --sklearn-color-unfitted-level-0: #fff5e6;\n",
              "  --sklearn-color-unfitted-level-1: #f6e4d2;\n",
              "  --sklearn-color-unfitted-level-2: #ffe0b3;\n",
              "  --sklearn-color-unfitted-level-3: chocolate;\n",
              "  /* Definition of color scheme for fitted estimators */\n",
              "  --sklearn-color-fitted-level-0: #f0f8ff;\n",
              "  --sklearn-color-fitted-level-1: #d4ebff;\n",
              "  --sklearn-color-fitted-level-2: #b3dbfd;\n",
              "  --sklearn-color-fitted-level-3: cornflowerblue;\n",
              "\n",
              "  /* Specific color for light theme */\n",
              "  --sklearn-color-text-on-default-background: var(--sg-text-color, var(--theme-code-foreground, var(--jp-content-font-color1, black)));\n",
              "  --sklearn-color-background: var(--sg-background-color, var(--theme-background, var(--jp-layout-color0, white)));\n",
              "  --sklearn-color-border-box: var(--sg-text-color, var(--theme-code-foreground, var(--jp-content-font-color1, black)));\n",
              "  --sklearn-color-icon: #696969;\n",
              "\n",
              "  @media (prefers-color-scheme: dark) {\n",
              "    /* Redefinition of color scheme for dark theme */\n",
              "    --sklearn-color-text-on-default-background: var(--sg-text-color, var(--theme-code-foreground, var(--jp-content-font-color1, white)));\n",
              "    --sklearn-color-background: var(--sg-background-color, var(--theme-background, var(--jp-layout-color0, #111)));\n",
              "    --sklearn-color-border-box: var(--sg-text-color, var(--theme-code-foreground, var(--jp-content-font-color1, white)));\n",
              "    --sklearn-color-icon: #878787;\n",
              "  }\n",
              "}\n",
              "\n",
              "#sk-container-id-1 {\n",
              "  color: var(--sklearn-color-text);\n",
              "}\n",
              "\n",
              "#sk-container-id-1 pre {\n",
              "  padding: 0;\n",
              "}\n",
              "\n",
              "#sk-container-id-1 input.sk-hidden--visually {\n",
              "  border: 0;\n",
              "  clip: rect(1px 1px 1px 1px);\n",
              "  clip: rect(1px, 1px, 1px, 1px);\n",
              "  height: 1px;\n",
              "  margin: -1px;\n",
              "  overflow: hidden;\n",
              "  padding: 0;\n",
              "  position: absolute;\n",
              "  width: 1px;\n",
              "}\n",
              "\n",
              "#sk-container-id-1 div.sk-dashed-wrapped {\n",
              "  border: 1px dashed var(--sklearn-color-line);\n",
              "  margin: 0 0.4em 0.5em 0.4em;\n",
              "  box-sizing: border-box;\n",
              "  padding-bottom: 0.4em;\n",
              "  background-color: var(--sklearn-color-background);\n",
              "}\n",
              "\n",
              "#sk-container-id-1 div.sk-container {\n",
              "  /* jupyter's `normalize.less` sets `[hidden] { display: none; }`\n",
              "     but bootstrap.min.css set `[hidden] { display: none !important; }`\n",
              "     so we also need the `!important` here to be able to override the\n",
              "     default hidden behavior on the sphinx rendered scikit-learn.org.\n",
              "     See: https://github.com/scikit-learn/scikit-learn/issues/21755 */\n",
              "  display: inline-block !important;\n",
              "  position: relative;\n",
              "}\n",
              "\n",
              "#sk-container-id-1 div.sk-text-repr-fallback {\n",
              "  display: none;\n",
              "}\n",
              "\n",
              "div.sk-parallel-item,\n",
              "div.sk-serial,\n",
              "div.sk-item {\n",
              "  /* draw centered vertical line to link estimators */\n",
              "  background-image: linear-gradient(var(--sklearn-color-text-on-default-background), var(--sklearn-color-text-on-default-background));\n",
              "  background-size: 2px 100%;\n",
              "  background-repeat: no-repeat;\n",
              "  background-position: center center;\n",
              "}\n",
              "\n",
              "/* Parallel-specific style estimator block */\n",
              "\n",
              "#sk-container-id-1 div.sk-parallel-item::after {\n",
              "  content: \"\";\n",
              "  width: 100%;\n",
              "  border-bottom: 2px solid var(--sklearn-color-text-on-default-background);\n",
              "  flex-grow: 1;\n",
              "}\n",
              "\n",
              "#sk-container-id-1 div.sk-parallel {\n",
              "  display: flex;\n",
              "  align-items: stretch;\n",
              "  justify-content: center;\n",
              "  background-color: var(--sklearn-color-background);\n",
              "  position: relative;\n",
              "}\n",
              "\n",
              "#sk-container-id-1 div.sk-parallel-item {\n",
              "  display: flex;\n",
              "  flex-direction: column;\n",
              "}\n",
              "\n",
              "#sk-container-id-1 div.sk-parallel-item:first-child::after {\n",
              "  align-self: flex-end;\n",
              "  width: 50%;\n",
              "}\n",
              "\n",
              "#sk-container-id-1 div.sk-parallel-item:last-child::after {\n",
              "  align-self: flex-start;\n",
              "  width: 50%;\n",
              "}\n",
              "\n",
              "#sk-container-id-1 div.sk-parallel-item:only-child::after {\n",
              "  width: 0;\n",
              "}\n",
              "\n",
              "/* Serial-specific style estimator block */\n",
              "\n",
              "#sk-container-id-1 div.sk-serial {\n",
              "  display: flex;\n",
              "  flex-direction: column;\n",
              "  align-items: center;\n",
              "  background-color: var(--sklearn-color-background);\n",
              "  padding-right: 1em;\n",
              "  padding-left: 1em;\n",
              "}\n",
              "\n",
              "\n",
              "/* Toggleable style: style used for estimator/Pipeline/ColumnTransformer box that is\n",
              "clickable and can be expanded/collapsed.\n",
              "- Pipeline and ColumnTransformer use this feature and define the default style\n",
              "- Estimators will overwrite some part of the style using the `sk-estimator` class\n",
              "*/\n",
              "\n",
              "/* Pipeline and ColumnTransformer style (default) */\n",
              "\n",
              "#sk-container-id-1 div.sk-toggleable {\n",
              "  /* Default theme specific background. It is overwritten whether we have a\n",
              "  specific estimator or a Pipeline/ColumnTransformer */\n",
              "  background-color: var(--sklearn-color-background);\n",
              "}\n",
              "\n",
              "/* Toggleable label */\n",
              "#sk-container-id-1 label.sk-toggleable__label {\n",
              "  cursor: pointer;\n",
              "  display: flex;\n",
              "  width: 100%;\n",
              "  margin-bottom: 0;\n",
              "  padding: 0.5em;\n",
              "  box-sizing: border-box;\n",
              "  text-align: center;\n",
              "  align-items: start;\n",
              "  justify-content: space-between;\n",
              "  gap: 0.5em;\n",
              "}\n",
              "\n",
              "#sk-container-id-1 label.sk-toggleable__label .caption {\n",
              "  font-size: 0.6rem;\n",
              "  font-weight: lighter;\n",
              "  color: var(--sklearn-color-text-muted);\n",
              "}\n",
              "\n",
              "#sk-container-id-1 label.sk-toggleable__label-arrow:before {\n",
              "  /* Arrow on the left of the label */\n",
              "  content: \"▸\";\n",
              "  float: left;\n",
              "  margin-right: 0.25em;\n",
              "  color: var(--sklearn-color-icon);\n",
              "}\n",
              "\n",
              "#sk-container-id-1 label.sk-toggleable__label-arrow:hover:before {\n",
              "  color: var(--sklearn-color-text);\n",
              "}\n",
              "\n",
              "/* Toggleable content - dropdown */\n",
              "\n",
              "#sk-container-id-1 div.sk-toggleable__content {\n",
              "  max-height: 0;\n",
              "  max-width: 0;\n",
              "  overflow: hidden;\n",
              "  text-align: left;\n",
              "  /* unfitted */\n",
              "  background-color: var(--sklearn-color-unfitted-level-0);\n",
              "}\n",
              "\n",
              "#sk-container-id-1 div.sk-toggleable__content.fitted {\n",
              "  /* fitted */\n",
              "  background-color: var(--sklearn-color-fitted-level-0);\n",
              "}\n",
              "\n",
              "#sk-container-id-1 div.sk-toggleable__content pre {\n",
              "  margin: 0.2em;\n",
              "  border-radius: 0.25em;\n",
              "  color: var(--sklearn-color-text);\n",
              "  /* unfitted */\n",
              "  background-color: var(--sklearn-color-unfitted-level-0);\n",
              "}\n",
              "\n",
              "#sk-container-id-1 div.sk-toggleable__content.fitted pre {\n",
              "  /* unfitted */\n",
              "  background-color: var(--sklearn-color-fitted-level-0);\n",
              "}\n",
              "\n",
              "#sk-container-id-1 input.sk-toggleable__control:checked~div.sk-toggleable__content {\n",
              "  /* Expand drop-down */\n",
              "  max-height: 200px;\n",
              "  max-width: 100%;\n",
              "  overflow: auto;\n",
              "}\n",
              "\n",
              "#sk-container-id-1 input.sk-toggleable__control:checked~label.sk-toggleable__label-arrow:before {\n",
              "  content: \"▾\";\n",
              "}\n",
              "\n",
              "/* Pipeline/ColumnTransformer-specific style */\n",
              "\n",
              "#sk-container-id-1 div.sk-label input.sk-toggleable__control:checked~label.sk-toggleable__label {\n",
              "  color: var(--sklearn-color-text);\n",
              "  background-color: var(--sklearn-color-unfitted-level-2);\n",
              "}\n",
              "\n",
              "#sk-container-id-1 div.sk-label.fitted input.sk-toggleable__control:checked~label.sk-toggleable__label {\n",
              "  background-color: var(--sklearn-color-fitted-level-2);\n",
              "}\n",
              "\n",
              "/* Estimator-specific style */\n",
              "\n",
              "/* Colorize estimator box */\n",
              "#sk-container-id-1 div.sk-estimator input.sk-toggleable__control:checked~label.sk-toggleable__label {\n",
              "  /* unfitted */\n",
              "  background-color: var(--sklearn-color-unfitted-level-2);\n",
              "}\n",
              "\n",
              "#sk-container-id-1 div.sk-estimator.fitted input.sk-toggleable__control:checked~label.sk-toggleable__label {\n",
              "  /* fitted */\n",
              "  background-color: var(--sklearn-color-fitted-level-2);\n",
              "}\n",
              "\n",
              "#sk-container-id-1 div.sk-label label.sk-toggleable__label,\n",
              "#sk-container-id-1 div.sk-label label {\n",
              "  /* The background is the default theme color */\n",
              "  color: var(--sklearn-color-text-on-default-background);\n",
              "}\n",
              "\n",
              "/* On hover, darken the color of the background */\n",
              "#sk-container-id-1 div.sk-label:hover label.sk-toggleable__label {\n",
              "  color: var(--sklearn-color-text);\n",
              "  background-color: var(--sklearn-color-unfitted-level-2);\n",
              "}\n",
              "\n",
              "/* Label box, darken color on hover, fitted */\n",
              "#sk-container-id-1 div.sk-label.fitted:hover label.sk-toggleable__label.fitted {\n",
              "  color: var(--sklearn-color-text);\n",
              "  background-color: var(--sklearn-color-fitted-level-2);\n",
              "}\n",
              "\n",
              "/* Estimator label */\n",
              "\n",
              "#sk-container-id-1 div.sk-label label {\n",
              "  font-family: monospace;\n",
              "  font-weight: bold;\n",
              "  display: inline-block;\n",
              "  line-height: 1.2em;\n",
              "}\n",
              "\n",
              "#sk-container-id-1 div.sk-label-container {\n",
              "  text-align: center;\n",
              "}\n",
              "\n",
              "/* Estimator-specific */\n",
              "#sk-container-id-1 div.sk-estimator {\n",
              "  font-family: monospace;\n",
              "  border: 1px dotted var(--sklearn-color-border-box);\n",
              "  border-radius: 0.25em;\n",
              "  box-sizing: border-box;\n",
              "  margin-bottom: 0.5em;\n",
              "  /* unfitted */\n",
              "  background-color: var(--sklearn-color-unfitted-level-0);\n",
              "}\n",
              "\n",
              "#sk-container-id-1 div.sk-estimator.fitted {\n",
              "  /* fitted */\n",
              "  background-color: var(--sklearn-color-fitted-level-0);\n",
              "}\n",
              "\n",
              "/* on hover */\n",
              "#sk-container-id-1 div.sk-estimator:hover {\n",
              "  /* unfitted */\n",
              "  background-color: var(--sklearn-color-unfitted-level-2);\n",
              "}\n",
              "\n",
              "#sk-container-id-1 div.sk-estimator.fitted:hover {\n",
              "  /* fitted */\n",
              "  background-color: var(--sklearn-color-fitted-level-2);\n",
              "}\n",
              "\n",
              "/* Specification for estimator info (e.g. \"i\" and \"?\") */\n",
              "\n",
              "/* Common style for \"i\" and \"?\" */\n",
              "\n",
              ".sk-estimator-doc-link,\n",
              "a:link.sk-estimator-doc-link,\n",
              "a:visited.sk-estimator-doc-link {\n",
              "  float: right;\n",
              "  font-size: smaller;\n",
              "  line-height: 1em;\n",
              "  font-family: monospace;\n",
              "  background-color: var(--sklearn-color-background);\n",
              "  border-radius: 1em;\n",
              "  height: 1em;\n",
              "  width: 1em;\n",
              "  text-decoration: none !important;\n",
              "  margin-left: 0.5em;\n",
              "  text-align: center;\n",
              "  /* unfitted */\n",
              "  border: var(--sklearn-color-unfitted-level-1) 1pt solid;\n",
              "  color: var(--sklearn-color-unfitted-level-1);\n",
              "}\n",
              "\n",
              ".sk-estimator-doc-link.fitted,\n",
              "a:link.sk-estimator-doc-link.fitted,\n",
              "a:visited.sk-estimator-doc-link.fitted {\n",
              "  /* fitted */\n",
              "  border: var(--sklearn-color-fitted-level-1) 1pt solid;\n",
              "  color: var(--sklearn-color-fitted-level-1);\n",
              "}\n",
              "\n",
              "/* On hover */\n",
              "div.sk-estimator:hover .sk-estimator-doc-link:hover,\n",
              ".sk-estimator-doc-link:hover,\n",
              "div.sk-label-container:hover .sk-estimator-doc-link:hover,\n",
              ".sk-estimator-doc-link:hover {\n",
              "  /* unfitted */\n",
              "  background-color: var(--sklearn-color-unfitted-level-3);\n",
              "  color: var(--sklearn-color-background);\n",
              "  text-decoration: none;\n",
              "}\n",
              "\n",
              "div.sk-estimator.fitted:hover .sk-estimator-doc-link.fitted:hover,\n",
              ".sk-estimator-doc-link.fitted:hover,\n",
              "div.sk-label-container:hover .sk-estimator-doc-link.fitted:hover,\n",
              ".sk-estimator-doc-link.fitted:hover {\n",
              "  /* fitted */\n",
              "  background-color: var(--sklearn-color-fitted-level-3);\n",
              "  color: var(--sklearn-color-background);\n",
              "  text-decoration: none;\n",
              "}\n",
              "\n",
              "/* Span, style for the box shown on hovering the info icon */\n",
              ".sk-estimator-doc-link span {\n",
              "  display: none;\n",
              "  z-index: 9999;\n",
              "  position: relative;\n",
              "  font-weight: normal;\n",
              "  right: .2ex;\n",
              "  padding: .5ex;\n",
              "  margin: .5ex;\n",
              "  width: min-content;\n",
              "  min-width: 20ex;\n",
              "  max-width: 50ex;\n",
              "  color: var(--sklearn-color-text);\n",
              "  box-shadow: 2pt 2pt 4pt #999;\n",
              "  /* unfitted */\n",
              "  background: var(--sklearn-color-unfitted-level-0);\n",
              "  border: .5pt solid var(--sklearn-color-unfitted-level-3);\n",
              "}\n",
              "\n",
              ".sk-estimator-doc-link.fitted span {\n",
              "  /* fitted */\n",
              "  background: var(--sklearn-color-fitted-level-0);\n",
              "  border: var(--sklearn-color-fitted-level-3);\n",
              "}\n",
              "\n",
              ".sk-estimator-doc-link:hover span {\n",
              "  display: block;\n",
              "}\n",
              "\n",
              "/* \"?\"-specific style due to the `<a>` HTML tag */\n",
              "\n",
              "#sk-container-id-1 a.estimator_doc_link {\n",
              "  float: right;\n",
              "  font-size: 1rem;\n",
              "  line-height: 1em;\n",
              "  font-family: monospace;\n",
              "  background-color: var(--sklearn-color-background);\n",
              "  border-radius: 1rem;\n",
              "  height: 1rem;\n",
              "  width: 1rem;\n",
              "  text-decoration: none;\n",
              "  /* unfitted */\n",
              "  color: var(--sklearn-color-unfitted-level-1);\n",
              "  border: var(--sklearn-color-unfitted-level-1) 1pt solid;\n",
              "}\n",
              "\n",
              "#sk-container-id-1 a.estimator_doc_link.fitted {\n",
              "  /* fitted */\n",
              "  border: var(--sklearn-color-fitted-level-1) 1pt solid;\n",
              "  color: var(--sklearn-color-fitted-level-1);\n",
              "}\n",
              "\n",
              "/* On hover */\n",
              "#sk-container-id-1 a.estimator_doc_link:hover {\n",
              "  /* unfitted */\n",
              "  background-color: var(--sklearn-color-unfitted-level-3);\n",
              "  color: var(--sklearn-color-background);\n",
              "  text-decoration: none;\n",
              "}\n",
              "\n",
              "#sk-container-id-1 a.estimator_doc_link.fitted:hover {\n",
              "  /* fitted */\n",
              "  background-color: var(--sklearn-color-fitted-level-3);\n",
              "}\n",
              "</style><div id=\"sk-container-id-1\" class=\"sk-top-container\"><div class=\"sk-text-repr-fallback\"><pre>LogisticRegression()</pre><b>In a Jupyter environment, please rerun this cell to show the HTML representation or trust the notebook. <br />On GitHub, the HTML representation is unable to render, please try loading this page with nbviewer.org.</b></div><div class=\"sk-container\" hidden><div class=\"sk-item\"><div class=\"sk-estimator fitted sk-toggleable\"><input class=\"sk-toggleable__control sk-hidden--visually\" id=\"sk-estimator-id-1\" type=\"checkbox\" checked><label for=\"sk-estimator-id-1\" class=\"sk-toggleable__label fitted sk-toggleable__label-arrow\"><div><div>LogisticRegression</div></div><div><a class=\"sk-estimator-doc-link fitted\" rel=\"noreferrer\" target=\"_blank\" href=\"https://scikit-learn.org/1.6/modules/generated/sklearn.linear_model.LogisticRegression.html\">?<span>Documentation for LogisticRegression</span></a><span class=\"sk-estimator-doc-link fitted\">i<span>Fitted</span></span></div></label><div class=\"sk-toggleable__content fitted\"><pre>LogisticRegression()</pre></div> </div></div></div></div>"
            ]
          },
          "metadata": {},
          "execution_count": 101
        }
      ]
    },
    {
      "cell_type": "code",
      "source": [
        "train_pred = model.predict(X_train)"
      ],
      "metadata": {
        "id": "AGbW8M-ILi_m"
      },
      "execution_count": null,
      "outputs": []
    },
    {
      "cell_type": "code",
      "source": [
        "accuracy_score(y_train, train_pred)"
      ],
      "metadata": {
        "colab": {
          "base_uri": "https://localhost:8080/"
        },
        "id": "KQFaienMLm5-",
        "outputId": "66a0ff30-61ef-4f38-f4cc-e2965d210c21"
      },
      "execution_count": null,
      "outputs": [
        {
          "output_type": "execute_result",
          "data": {
            "text/plain": [
              "0.9608333333333333"
            ]
          },
          "metadata": {},
          "execution_count": 103
        }
      ]
    },
    {
      "cell_type": "code",
      "source": [
        "test_pred = model.predict(X_test)\n",
        "accuracy_score(y_test, test_pred)"
      ],
      "metadata": {
        "colab": {
          "base_uri": "https://localhost:8080/"
        },
        "id": "cjA7Fui0Lp_O",
        "outputId": "cea1b539-f9db-4830-f4ae-2be916a6d63e"
      },
      "execution_count": null,
      "outputs": [
        {
          "output_type": "execute_result",
          "data": {
            "text/plain": [
              "0.8933333333333333"
            ]
          },
          "metadata": {},
          "execution_count": 104
        }
      ]
    },
    {
      "cell_type": "code",
      "source": [
        "import os\n",
        "import pickle\n",
        "\n",
        "os.makedirs(\"Output\", exist_ok=True)\n",
        "\n",
        "# Save both the vectorizer and the model\n",
        "with open(\"Output/binary_count_vect.pkl\", \"wb\") as f:\n",
        " pickle.dump(vect, f)\n",
        "with open(\"Output/binary_count_vect_lr.pkl\", \"wb\") as f:\n",
        " pickle.dump(model, f)"
      ],
      "metadata": {
        "id": "056A5wlaLvAP"
      },
      "execution_count": null,
      "outputs": []
    },
    {
      "cell_type": "markdown",
      "source": [
        "# **Section 5. Count Bag of Words and Model with it**"
      ],
      "metadata": {
        "id": "Ha16YLTjNPxX"
      }
    },
    {
      "cell_type": "code",
      "source": [
        "vect = CountVectorizer(min_df=5)\n",
        "X = vect.fit_transform(clean_reviews)"
      ],
      "metadata": {
        "id": "SWC4G_xoNTTA"
      },
      "execution_count": null,
      "outputs": []
    },
    {
      "cell_type": "code",
      "source": [
        "X_a = X.toarray()"
      ],
      "metadata": {
        "id": "zH7cXu5VQSca"
      },
      "execution_count": null,
      "outputs": []
    },
    {
      "cell_type": "code",
      "source": [
        "clean_reviews[13]"
      ],
      "metadata": {
        "colab": {
          "base_uri": "https://localhost:8080/",
          "height": 35
        },
        "id": "YvL5unOQQVG3",
        "outputId": "4695d5ea-7082-4aa9-ad1f-619fa7a008d2"
      },
      "execution_count": null,
      "outputs": [
        {
          "output_type": "execute_result",
          "data": {
            "text/plain": [
              "'unabl save work noth work'"
            ],
            "application/vnd.google.colaboratory.intrinsic+json": {
              "type": "string"
            }
          },
          "metadata": {},
          "execution_count": 109
        }
      ]
    },
    {
      "cell_type": "code",
      "source": [
        "feature_names = vect.get_feature_names_out()\n",
        "token = \"work\"\n",
        "if token in feature_names:\n",
        "  index = list(feature_names).index(token)\n",
        "  print(f\"Index of '{token}': {index}\")\n",
        "else:\n",
        "  print(f\"'{token}' not found in feature names.\")"
      ],
      "metadata": {
        "colab": {
          "base_uri": "https://localhost:8080/"
        },
        "id": "iXvZvKIJQe8v",
        "outputId": "6bcceaf9-39c5-46f5-af01-498a27366fe2"
      },
      "execution_count": null,
      "outputs": [
        {
          "output_type": "stream",
          "name": "stdout",
          "text": [
            "Index of 'work': 401\n"
          ]
        }
      ]
    },
    {
      "cell_type": "code",
      "source": [
        "X_a[13,:]"
      ],
      "metadata": {
        "colab": {
          "base_uri": "https://localhost:8080/"
        },
        "id": "fS_qiUMwQhbX",
        "outputId": "32cc2fad-e702-46cc-bddb-bf932c19d428"
      },
      "execution_count": null,
      "outputs": [
        {
          "output_type": "execute_result",
          "data": {
            "text/plain": [
              "array([0, 0, 0, 0, 0, 0, 0, 0, 0, 0, 0, 0, 0, 0, 0, 0, 0, 0, 0, 0, 0, 0,\n",
              "       0, 0, 0, 0, 0, 0, 0, 0, 0, 0, 0, 0, 0, 0, 0, 0, 0, 0, 0, 0, 0, 0,\n",
              "       0, 0, 0, 0, 0, 0, 0, 0, 0, 0, 0, 0, 0, 0, 0, 0, 0, 0, 0, 0, 0, 0,\n",
              "       0, 0, 0, 0, 0, 0, 0, 0, 0, 0, 0, 0, 0, 0, 0, 0, 0, 0, 0, 0, 0, 0,\n",
              "       0, 0, 0, 0, 0, 0, 0, 0, 0, 0, 0, 0, 0, 0, 0, 0, 0, 0, 0, 0, 0, 0,\n",
              "       0, 0, 0, 0, 0, 0, 0, 0, 0, 0, 0, 0, 0, 0, 0, 0, 0, 0, 0, 0, 0, 0,\n",
              "       0, 0, 0, 0, 0, 0, 0, 0, 0, 0, 0, 0, 0, 0, 0, 0, 0, 0, 0, 0, 0, 0,\n",
              "       0, 0, 0, 0, 0, 0, 0, 0, 0, 0, 0, 0, 0, 0, 0, 0, 0, 0, 0, 0, 0, 0,\n",
              "       0, 0, 0, 0, 0, 0, 0, 0, 0, 0, 0, 0, 0, 0, 0, 0, 0, 0, 0, 0, 0, 0,\n",
              "       0, 0, 0, 0, 0, 0, 0, 0, 0, 0, 0, 0, 0, 0, 0, 0, 0, 0, 0, 0, 0, 0,\n",
              "       0, 0, 0, 0, 0, 0, 0, 0, 0, 0, 0, 0, 0, 1, 0, 0, 0, 0, 0, 0, 0, 0,\n",
              "       0, 0, 0, 0, 0, 0, 0, 0, 0, 0, 0, 0, 0, 0, 0, 0, 0, 0, 0, 0, 0, 0,\n",
              "       0, 0, 0, 0, 0, 0, 0, 0, 0, 0, 0, 0, 0, 0, 0, 0, 0, 0, 0, 0, 0, 0,\n",
              "       0, 0, 0, 0, 0, 0, 0, 0, 0, 0, 0, 0, 0, 0, 0, 0, 1, 0, 0, 0, 0, 0,\n",
              "       0, 0, 0, 0, 0, 0, 0, 0, 0, 0, 0, 0, 0, 0, 0, 0, 0, 0, 0, 0, 0, 0,\n",
              "       0, 0, 0, 0, 0, 0, 0, 0, 0, 0, 0, 0, 0, 0, 0, 0, 0, 0, 0, 0, 0, 0,\n",
              "       0, 0, 0, 0, 0, 0, 0, 0, 0, 0, 0, 0, 0, 0, 0, 0, 0, 0, 1, 0, 0, 0,\n",
              "       0, 0, 0, 0, 0, 0, 0, 0, 0, 0, 0, 0, 0, 0, 0, 0, 0, 0, 0, 0, 0, 0,\n",
              "       0, 0, 0, 0, 0, 2, 0, 0, 0, 0, 0, 0, 0, 0, 0, 0, 0])"
            ]
          },
          "metadata": {},
          "execution_count": 111
        }
      ]
    },
    {
      "cell_type": "code",
      "source": [
        "X_a[13,401]"
      ],
      "metadata": {
        "colab": {
          "base_uri": "https://localhost:8080/"
        },
        "id": "XRU8B9KsQkof",
        "outputId": "0ba79002-da30-4174-b6f0-f63e3ac238c2"
      },
      "execution_count": null,
      "outputs": [
        {
          "output_type": "execute_result",
          "data": {
            "text/plain": [
              "2"
            ]
          },
          "metadata": {},
          "execution_count": 112
        }
      ]
    },
    {
      "cell_type": "code",
      "source": [
        "X_train, X_test, y_train, y_test = train_test_split(X, y, test_size=0.2, stratify=y, random_state=42)"
      ],
      "metadata": {
        "id": "ouQqCl4aQofn"
      },
      "execution_count": null,
      "outputs": []
    },
    {
      "cell_type": "code",
      "source": [
        "model = LogisticRegression()\n",
        "model.fit(X_train, y_train)"
      ],
      "metadata": {
        "colab": {
          "base_uri": "https://localhost:8080/",
          "height": 80
        },
        "id": "wd8AqOYkQqc_",
        "outputId": "9ec82bf9-a4c0-4950-d3b7-2bca00c4ef7d"
      },
      "execution_count": null,
      "outputs": [
        {
          "output_type": "execute_result",
          "data": {
            "text/plain": [
              "LogisticRegression()"
            ],
            "text/html": [
              "<style>#sk-container-id-2 {\n",
              "  /* Definition of color scheme common for light and dark mode */\n",
              "  --sklearn-color-text: #000;\n",
              "  --sklearn-color-text-muted: #666;\n",
              "  --sklearn-color-line: gray;\n",
              "  /* Definition of color scheme for unfitted estimators */\n",
              "  --sklearn-color-unfitted-level-0: #fff5e6;\n",
              "  --sklearn-color-unfitted-level-1: #f6e4d2;\n",
              "  --sklearn-color-unfitted-level-2: #ffe0b3;\n",
              "  --sklearn-color-unfitted-level-3: chocolate;\n",
              "  /* Definition of color scheme for fitted estimators */\n",
              "  --sklearn-color-fitted-level-0: #f0f8ff;\n",
              "  --sklearn-color-fitted-level-1: #d4ebff;\n",
              "  --sklearn-color-fitted-level-2: #b3dbfd;\n",
              "  --sklearn-color-fitted-level-3: cornflowerblue;\n",
              "\n",
              "  /* Specific color for light theme */\n",
              "  --sklearn-color-text-on-default-background: var(--sg-text-color, var(--theme-code-foreground, var(--jp-content-font-color1, black)));\n",
              "  --sklearn-color-background: var(--sg-background-color, var(--theme-background, var(--jp-layout-color0, white)));\n",
              "  --sklearn-color-border-box: var(--sg-text-color, var(--theme-code-foreground, var(--jp-content-font-color1, black)));\n",
              "  --sklearn-color-icon: #696969;\n",
              "\n",
              "  @media (prefers-color-scheme: dark) {\n",
              "    /* Redefinition of color scheme for dark theme */\n",
              "    --sklearn-color-text-on-default-background: var(--sg-text-color, var(--theme-code-foreground, var(--jp-content-font-color1, white)));\n",
              "    --sklearn-color-background: var(--sg-background-color, var(--theme-background, var(--jp-layout-color0, #111)));\n",
              "    --sklearn-color-border-box: var(--sg-text-color, var(--theme-code-foreground, var(--jp-content-font-color1, white)));\n",
              "    --sklearn-color-icon: #878787;\n",
              "  }\n",
              "}\n",
              "\n",
              "#sk-container-id-2 {\n",
              "  color: var(--sklearn-color-text);\n",
              "}\n",
              "\n",
              "#sk-container-id-2 pre {\n",
              "  padding: 0;\n",
              "}\n",
              "\n",
              "#sk-container-id-2 input.sk-hidden--visually {\n",
              "  border: 0;\n",
              "  clip: rect(1px 1px 1px 1px);\n",
              "  clip: rect(1px, 1px, 1px, 1px);\n",
              "  height: 1px;\n",
              "  margin: -1px;\n",
              "  overflow: hidden;\n",
              "  padding: 0;\n",
              "  position: absolute;\n",
              "  width: 1px;\n",
              "}\n",
              "\n",
              "#sk-container-id-2 div.sk-dashed-wrapped {\n",
              "  border: 1px dashed var(--sklearn-color-line);\n",
              "  margin: 0 0.4em 0.5em 0.4em;\n",
              "  box-sizing: border-box;\n",
              "  padding-bottom: 0.4em;\n",
              "  background-color: var(--sklearn-color-background);\n",
              "}\n",
              "\n",
              "#sk-container-id-2 div.sk-container {\n",
              "  /* jupyter's `normalize.less` sets `[hidden] { display: none; }`\n",
              "     but bootstrap.min.css set `[hidden] { display: none !important; }`\n",
              "     so we also need the `!important` here to be able to override the\n",
              "     default hidden behavior on the sphinx rendered scikit-learn.org.\n",
              "     See: https://github.com/scikit-learn/scikit-learn/issues/21755 */\n",
              "  display: inline-block !important;\n",
              "  position: relative;\n",
              "}\n",
              "\n",
              "#sk-container-id-2 div.sk-text-repr-fallback {\n",
              "  display: none;\n",
              "}\n",
              "\n",
              "div.sk-parallel-item,\n",
              "div.sk-serial,\n",
              "div.sk-item {\n",
              "  /* draw centered vertical line to link estimators */\n",
              "  background-image: linear-gradient(var(--sklearn-color-text-on-default-background), var(--sklearn-color-text-on-default-background));\n",
              "  background-size: 2px 100%;\n",
              "  background-repeat: no-repeat;\n",
              "  background-position: center center;\n",
              "}\n",
              "\n",
              "/* Parallel-specific style estimator block */\n",
              "\n",
              "#sk-container-id-2 div.sk-parallel-item::after {\n",
              "  content: \"\";\n",
              "  width: 100%;\n",
              "  border-bottom: 2px solid var(--sklearn-color-text-on-default-background);\n",
              "  flex-grow: 1;\n",
              "}\n",
              "\n",
              "#sk-container-id-2 div.sk-parallel {\n",
              "  display: flex;\n",
              "  align-items: stretch;\n",
              "  justify-content: center;\n",
              "  background-color: var(--sklearn-color-background);\n",
              "  position: relative;\n",
              "}\n",
              "\n",
              "#sk-container-id-2 div.sk-parallel-item {\n",
              "  display: flex;\n",
              "  flex-direction: column;\n",
              "}\n",
              "\n",
              "#sk-container-id-2 div.sk-parallel-item:first-child::after {\n",
              "  align-self: flex-end;\n",
              "  width: 50%;\n",
              "}\n",
              "\n",
              "#sk-container-id-2 div.sk-parallel-item:last-child::after {\n",
              "  align-self: flex-start;\n",
              "  width: 50%;\n",
              "}\n",
              "\n",
              "#sk-container-id-2 div.sk-parallel-item:only-child::after {\n",
              "  width: 0;\n",
              "}\n",
              "\n",
              "/* Serial-specific style estimator block */\n",
              "\n",
              "#sk-container-id-2 div.sk-serial {\n",
              "  display: flex;\n",
              "  flex-direction: column;\n",
              "  align-items: center;\n",
              "  background-color: var(--sklearn-color-background);\n",
              "  padding-right: 1em;\n",
              "  padding-left: 1em;\n",
              "}\n",
              "\n",
              "\n",
              "/* Toggleable style: style used for estimator/Pipeline/ColumnTransformer box that is\n",
              "clickable and can be expanded/collapsed.\n",
              "- Pipeline and ColumnTransformer use this feature and define the default style\n",
              "- Estimators will overwrite some part of the style using the `sk-estimator` class\n",
              "*/\n",
              "\n",
              "/* Pipeline and ColumnTransformer style (default) */\n",
              "\n",
              "#sk-container-id-2 div.sk-toggleable {\n",
              "  /* Default theme specific background. It is overwritten whether we have a\n",
              "  specific estimator or a Pipeline/ColumnTransformer */\n",
              "  background-color: var(--sklearn-color-background);\n",
              "}\n",
              "\n",
              "/* Toggleable label */\n",
              "#sk-container-id-2 label.sk-toggleable__label {\n",
              "  cursor: pointer;\n",
              "  display: flex;\n",
              "  width: 100%;\n",
              "  margin-bottom: 0;\n",
              "  padding: 0.5em;\n",
              "  box-sizing: border-box;\n",
              "  text-align: center;\n",
              "  align-items: start;\n",
              "  justify-content: space-between;\n",
              "  gap: 0.5em;\n",
              "}\n",
              "\n",
              "#sk-container-id-2 label.sk-toggleable__label .caption {\n",
              "  font-size: 0.6rem;\n",
              "  font-weight: lighter;\n",
              "  color: var(--sklearn-color-text-muted);\n",
              "}\n",
              "\n",
              "#sk-container-id-2 label.sk-toggleable__label-arrow:before {\n",
              "  /* Arrow on the left of the label */\n",
              "  content: \"▸\";\n",
              "  float: left;\n",
              "  margin-right: 0.25em;\n",
              "  color: var(--sklearn-color-icon);\n",
              "}\n",
              "\n",
              "#sk-container-id-2 label.sk-toggleable__label-arrow:hover:before {\n",
              "  color: var(--sklearn-color-text);\n",
              "}\n",
              "\n",
              "/* Toggleable content - dropdown */\n",
              "\n",
              "#sk-container-id-2 div.sk-toggleable__content {\n",
              "  max-height: 0;\n",
              "  max-width: 0;\n",
              "  overflow: hidden;\n",
              "  text-align: left;\n",
              "  /* unfitted */\n",
              "  background-color: var(--sklearn-color-unfitted-level-0);\n",
              "}\n",
              "\n",
              "#sk-container-id-2 div.sk-toggleable__content.fitted {\n",
              "  /* fitted */\n",
              "  background-color: var(--sklearn-color-fitted-level-0);\n",
              "}\n",
              "\n",
              "#sk-container-id-2 div.sk-toggleable__content pre {\n",
              "  margin: 0.2em;\n",
              "  border-radius: 0.25em;\n",
              "  color: var(--sklearn-color-text);\n",
              "  /* unfitted */\n",
              "  background-color: var(--sklearn-color-unfitted-level-0);\n",
              "}\n",
              "\n",
              "#sk-container-id-2 div.sk-toggleable__content.fitted pre {\n",
              "  /* unfitted */\n",
              "  background-color: var(--sklearn-color-fitted-level-0);\n",
              "}\n",
              "\n",
              "#sk-container-id-2 input.sk-toggleable__control:checked~div.sk-toggleable__content {\n",
              "  /* Expand drop-down */\n",
              "  max-height: 200px;\n",
              "  max-width: 100%;\n",
              "  overflow: auto;\n",
              "}\n",
              "\n",
              "#sk-container-id-2 input.sk-toggleable__control:checked~label.sk-toggleable__label-arrow:before {\n",
              "  content: \"▾\";\n",
              "}\n",
              "\n",
              "/* Pipeline/ColumnTransformer-specific style */\n",
              "\n",
              "#sk-container-id-2 div.sk-label input.sk-toggleable__control:checked~label.sk-toggleable__label {\n",
              "  color: var(--sklearn-color-text);\n",
              "  background-color: var(--sklearn-color-unfitted-level-2);\n",
              "}\n",
              "\n",
              "#sk-container-id-2 div.sk-label.fitted input.sk-toggleable__control:checked~label.sk-toggleable__label {\n",
              "  background-color: var(--sklearn-color-fitted-level-2);\n",
              "}\n",
              "\n",
              "/* Estimator-specific style */\n",
              "\n",
              "/* Colorize estimator box */\n",
              "#sk-container-id-2 div.sk-estimator input.sk-toggleable__control:checked~label.sk-toggleable__label {\n",
              "  /* unfitted */\n",
              "  background-color: var(--sklearn-color-unfitted-level-2);\n",
              "}\n",
              "\n",
              "#sk-container-id-2 div.sk-estimator.fitted input.sk-toggleable__control:checked~label.sk-toggleable__label {\n",
              "  /* fitted */\n",
              "  background-color: var(--sklearn-color-fitted-level-2);\n",
              "}\n",
              "\n",
              "#sk-container-id-2 div.sk-label label.sk-toggleable__label,\n",
              "#sk-container-id-2 div.sk-label label {\n",
              "  /* The background is the default theme color */\n",
              "  color: var(--sklearn-color-text-on-default-background);\n",
              "}\n",
              "\n",
              "/* On hover, darken the color of the background */\n",
              "#sk-container-id-2 div.sk-label:hover label.sk-toggleable__label {\n",
              "  color: var(--sklearn-color-text);\n",
              "  background-color: var(--sklearn-color-unfitted-level-2);\n",
              "}\n",
              "\n",
              "/* Label box, darken color on hover, fitted */\n",
              "#sk-container-id-2 div.sk-label.fitted:hover label.sk-toggleable__label.fitted {\n",
              "  color: var(--sklearn-color-text);\n",
              "  background-color: var(--sklearn-color-fitted-level-2);\n",
              "}\n",
              "\n",
              "/* Estimator label */\n",
              "\n",
              "#sk-container-id-2 div.sk-label label {\n",
              "  font-family: monospace;\n",
              "  font-weight: bold;\n",
              "  display: inline-block;\n",
              "  line-height: 1.2em;\n",
              "}\n",
              "\n",
              "#sk-container-id-2 div.sk-label-container {\n",
              "  text-align: center;\n",
              "}\n",
              "\n",
              "/* Estimator-specific */\n",
              "#sk-container-id-2 div.sk-estimator {\n",
              "  font-family: monospace;\n",
              "  border: 1px dotted var(--sklearn-color-border-box);\n",
              "  border-radius: 0.25em;\n",
              "  box-sizing: border-box;\n",
              "  margin-bottom: 0.5em;\n",
              "  /* unfitted */\n",
              "  background-color: var(--sklearn-color-unfitted-level-0);\n",
              "}\n",
              "\n",
              "#sk-container-id-2 div.sk-estimator.fitted {\n",
              "  /* fitted */\n",
              "  background-color: var(--sklearn-color-fitted-level-0);\n",
              "}\n",
              "\n",
              "/* on hover */\n",
              "#sk-container-id-2 div.sk-estimator:hover {\n",
              "  /* unfitted */\n",
              "  background-color: var(--sklearn-color-unfitted-level-2);\n",
              "}\n",
              "\n",
              "#sk-container-id-2 div.sk-estimator.fitted:hover {\n",
              "  /* fitted */\n",
              "  background-color: var(--sklearn-color-fitted-level-2);\n",
              "}\n",
              "\n",
              "/* Specification for estimator info (e.g. \"i\" and \"?\") */\n",
              "\n",
              "/* Common style for \"i\" and \"?\" */\n",
              "\n",
              ".sk-estimator-doc-link,\n",
              "a:link.sk-estimator-doc-link,\n",
              "a:visited.sk-estimator-doc-link {\n",
              "  float: right;\n",
              "  font-size: smaller;\n",
              "  line-height: 1em;\n",
              "  font-family: monospace;\n",
              "  background-color: var(--sklearn-color-background);\n",
              "  border-radius: 1em;\n",
              "  height: 1em;\n",
              "  width: 1em;\n",
              "  text-decoration: none !important;\n",
              "  margin-left: 0.5em;\n",
              "  text-align: center;\n",
              "  /* unfitted */\n",
              "  border: var(--sklearn-color-unfitted-level-1) 1pt solid;\n",
              "  color: var(--sklearn-color-unfitted-level-1);\n",
              "}\n",
              "\n",
              ".sk-estimator-doc-link.fitted,\n",
              "a:link.sk-estimator-doc-link.fitted,\n",
              "a:visited.sk-estimator-doc-link.fitted {\n",
              "  /* fitted */\n",
              "  border: var(--sklearn-color-fitted-level-1) 1pt solid;\n",
              "  color: var(--sklearn-color-fitted-level-1);\n",
              "}\n",
              "\n",
              "/* On hover */\n",
              "div.sk-estimator:hover .sk-estimator-doc-link:hover,\n",
              ".sk-estimator-doc-link:hover,\n",
              "div.sk-label-container:hover .sk-estimator-doc-link:hover,\n",
              ".sk-estimator-doc-link:hover {\n",
              "  /* unfitted */\n",
              "  background-color: var(--sklearn-color-unfitted-level-3);\n",
              "  color: var(--sklearn-color-background);\n",
              "  text-decoration: none;\n",
              "}\n",
              "\n",
              "div.sk-estimator.fitted:hover .sk-estimator-doc-link.fitted:hover,\n",
              ".sk-estimator-doc-link.fitted:hover,\n",
              "div.sk-label-container:hover .sk-estimator-doc-link.fitted:hover,\n",
              ".sk-estimator-doc-link.fitted:hover {\n",
              "  /* fitted */\n",
              "  background-color: var(--sklearn-color-fitted-level-3);\n",
              "  color: var(--sklearn-color-background);\n",
              "  text-decoration: none;\n",
              "}\n",
              "\n",
              "/* Span, style for the box shown on hovering the info icon */\n",
              ".sk-estimator-doc-link span {\n",
              "  display: none;\n",
              "  z-index: 9999;\n",
              "  position: relative;\n",
              "  font-weight: normal;\n",
              "  right: .2ex;\n",
              "  padding: .5ex;\n",
              "  margin: .5ex;\n",
              "  width: min-content;\n",
              "  min-width: 20ex;\n",
              "  max-width: 50ex;\n",
              "  color: var(--sklearn-color-text);\n",
              "  box-shadow: 2pt 2pt 4pt #999;\n",
              "  /* unfitted */\n",
              "  background: var(--sklearn-color-unfitted-level-0);\n",
              "  border: .5pt solid var(--sklearn-color-unfitted-level-3);\n",
              "}\n",
              "\n",
              ".sk-estimator-doc-link.fitted span {\n",
              "  /* fitted */\n",
              "  background: var(--sklearn-color-fitted-level-0);\n",
              "  border: var(--sklearn-color-fitted-level-3);\n",
              "}\n",
              "\n",
              ".sk-estimator-doc-link:hover span {\n",
              "  display: block;\n",
              "}\n",
              "\n",
              "/* \"?\"-specific style due to the `<a>` HTML tag */\n",
              "\n",
              "#sk-container-id-2 a.estimator_doc_link {\n",
              "  float: right;\n",
              "  font-size: 1rem;\n",
              "  line-height: 1em;\n",
              "  font-family: monospace;\n",
              "  background-color: var(--sklearn-color-background);\n",
              "  border-radius: 1rem;\n",
              "  height: 1rem;\n",
              "  width: 1rem;\n",
              "  text-decoration: none;\n",
              "  /* unfitted */\n",
              "  color: var(--sklearn-color-unfitted-level-1);\n",
              "  border: var(--sklearn-color-unfitted-level-1) 1pt solid;\n",
              "}\n",
              "\n",
              "#sk-container-id-2 a.estimator_doc_link.fitted {\n",
              "  /* fitted */\n",
              "  border: var(--sklearn-color-fitted-level-1) 1pt solid;\n",
              "  color: var(--sklearn-color-fitted-level-1);\n",
              "}\n",
              "\n",
              "/* On hover */\n",
              "#sk-container-id-2 a.estimator_doc_link:hover {\n",
              "  /* unfitted */\n",
              "  background-color: var(--sklearn-color-unfitted-level-3);\n",
              "  color: var(--sklearn-color-background);\n",
              "  text-decoration: none;\n",
              "}\n",
              "\n",
              "#sk-container-id-2 a.estimator_doc_link.fitted:hover {\n",
              "  /* fitted */\n",
              "  background-color: var(--sklearn-color-fitted-level-3);\n",
              "}\n",
              "</style><div id=\"sk-container-id-2\" class=\"sk-top-container\"><div class=\"sk-text-repr-fallback\"><pre>LogisticRegression()</pre><b>In a Jupyter environment, please rerun this cell to show the HTML representation or trust the notebook. <br />On GitHub, the HTML representation is unable to render, please try loading this page with nbviewer.org.</b></div><div class=\"sk-container\" hidden><div class=\"sk-item\"><div class=\"sk-estimator fitted sk-toggleable\"><input class=\"sk-toggleable__control sk-hidden--visually\" id=\"sk-estimator-id-2\" type=\"checkbox\" checked><label for=\"sk-estimator-id-2\" class=\"sk-toggleable__label fitted sk-toggleable__label-arrow\"><div><div>LogisticRegression</div></div><div><a class=\"sk-estimator-doc-link fitted\" rel=\"noreferrer\" target=\"_blank\" href=\"https://scikit-learn.org/1.6/modules/generated/sklearn.linear_model.LogisticRegression.html\">?<span>Documentation for LogisticRegression</span></a><span class=\"sk-estimator-doc-link fitted\">i<span>Fitted</span></span></div></label><div class=\"sk-toggleable__content fitted\"><pre>LogisticRegression()</pre></div> </div></div></div></div>"
            ]
          },
          "metadata": {},
          "execution_count": 114
        }
      ]
    },
    {
      "cell_type": "code",
      "source": [
        "train_pred = model.predict(X_train)\n",
        "test_pred = model.predict(X_test)\n",
        "print(f\"Train Accuracy:{accuracy_score(y_train, train_pred)}\")\n",
        "print(f\"Test Accuracy:{accuracy_score(y_test, test_pred)}\")"
      ],
      "metadata": {
        "colab": {
          "base_uri": "https://localhost:8080/"
        },
        "id": "sTMkPjGZQwPe",
        "outputId": "a61ceaeb-4ac7-4efc-8205-feca094fbe53"
      },
      "execution_count": null,
      "outputs": [
        {
          "output_type": "stream",
          "name": "stdout",
          "text": [
            "Train Accuracy:0.9558333333333333\n",
            "Test Accuracy:0.8833333333333333\n"
          ]
        }
      ]
    },
    {
      "cell_type": "code",
      "source": [
        "with open(\"Output/count_vect.pkl\", \"wb\") as f:\n",
        "  pickle.dump(vect, f)\n",
        "with open(\"Output/count_vect_lr.pkl\", \"wb\") as f:\n",
        "  pickle.dump(model, f)"
      ],
      "metadata": {
        "id": "oXdzQxI4Q2gg"
      },
      "execution_count": null,
      "outputs": []
    },
    {
      "cell_type": "markdown",
      "source": [
        "#**Section 6. N-grams Bag of Words and Model with it**"
      ],
      "metadata": {
        "id": "heKuhH9BQ6Ig"
      }
    },
    {
      "cell_type": "code",
      "source": [
        "vect = CountVectorizer(min_df=5, ngram_range=(1,3))\n",
        "X = vect.fit_transform(clean_reviews)"
      ],
      "metadata": {
        "id": "D9ZAev3CQ5hv"
      },
      "execution_count": null,
      "outputs": []
    },
    {
      "cell_type": "code",
      "source": [
        "X.shape"
      ],
      "metadata": {
        "colab": {
          "base_uri": "https://localhost:8080/"
        },
        "id": "RKnecmVhXhaj",
        "outputId": "b5e989a3-85aa-4dea-870d-9ffed7d67308"
      },
      "execution_count": null,
      "outputs": [
        {
          "output_type": "execute_result",
          "data": {
            "text/plain": [
              "(1500, 666)"
            ]
          },
          "metadata": {},
          "execution_count": 118
        }
      ]
    },
    {
      "cell_type": "code",
      "source": [
        "vect.vocabulary_"
      ],
      "metadata": {
        "colab": {
          "base_uri": "https://localhost:8080/"
        },
        "id": "5rsKIdLSXkjd",
        "outputId": "f513a448-59d9-44ee-8e04-f3b938ddb718"
      },
      "execution_count": null,
      "outputs": [
        {
          "output_type": "execute_result",
          "data": {
            "text/plain": [
              "{'overal': 425,\n",
              " 'realli': 476,\n",
              " 'amaz': 19,\n",
              " 'app': 29,\n",
              " 've': 625,\n",
              " 'use': 602,\n",
              " 'past': 428,\n",
              " 'year': 661,\n",
              " 'howev': 298,\n",
              " 'one': 415,\n",
              " 'issu': 314,\n",
              " 'though': 579,\n",
              " 'want': 633,\n",
              " 'get': 257,\n",
              " 'sinc': 519,\n",
              " 'think': 578,\n",
              " 'last': 326,\n",
              " 'mani': 372,\n",
              " 'text': 573,\n",
              " 'zoom': 665,\n",
              " 'thought': 580,\n",
              " 'mobil': 385,\n",
              " 'also': 17,\n",
              " 'present': 455,\n",
              " 'websit': 638,\n",
              " 'pleas': 446,\n",
              " 'fix': 237,\n",
              " 'still': 539,\n",
              " 'time': 582,\n",
              " 'export': 219,\n",
              " 'high': 293,\n",
              " 'definit': 155,\n",
              " 'love': 350,\n",
              " 'experi': 217,\n",
              " 'thank': 574,\n",
              " 'realli amaz': 477,\n",
              " 'amaz app': 20,\n",
              " 'app ve': 66,\n",
              " 've use': 628,\n",
              " 'pleas fix': 447,\n",
              " 'gave': 255,\n",
              " 'star': 537,\n",
              " 'rate': 472,\n",
              " 'deserv': 156,\n",
              " 'desktop': 164,\n",
              " 'version': 629,\n",
              " 'satisfi': 499,\n",
              " 'android': 23,\n",
              " 'develop': 166,\n",
              " 'beauti': 86,\n",
              " 'liter': 335,\n",
              " 'find': 231,\n",
              " 'almost': 14,\n",
              " 'everyth': 212,\n",
              " 'need': 395,\n",
              " 'best': 89,\n",
              " 'even': 206,\n",
              " 'without': 645,\n",
              " 'premium': 453,\n",
              " 'featur': 227,\n",
              " 'provid': 466,\n",
              " 'us': 601,\n",
              " 'lot': 346,\n",
              " 'gave star': 256,\n",
              " 'desktop version': 165,\n",
              " 'canva': 117,\n",
              " 'good': 262,\n",
              " 'recent': 487,\n",
              " 'face': 220,\n",
              " 'save': 500,\n",
              " 'file': 230,\n",
              " 'stuck': 542,\n",
              " 'download': 174,\n",
              " 'call': 114,\n",
              " 'magic': 361,\n",
              " 'happen': 283,\n",
              " 'll': 337,\n",
              " 'hope': 297,\n",
              " 'soon': 535,\n",
              " 'good app': 263,\n",
              " 'brilliant': 104,\n",
              " 'problem': 461,\n",
              " 'edit': 191,\n",
              " 'post': 451,\n",
              " 'photo': 436,\n",
              " 'start': 538,\n",
              " '10': 0,\n",
              " 'crash': 143,\n",
              " 'restart': 492,\n",
              " 'sometim': 533,\n",
              " 'go': 261,\n",
              " 'resum': 494,\n",
              " 'back': 81,\n",
              " 'app one': 60,\n",
              " 'app crash': 35,\n",
              " 'great': 274,\n",
              " 'make': 362,\n",
              " 'updat': 598,\n",
              " 'abl': 2,\n",
              " 'chang': 124,\n",
              " 'font': 239,\n",
              " 'style': 546,\n",
              " 'option': 421,\n",
              " 'miss': 384,\n",
              " 'tri': 591,\n",
              " 'uninstal': 597,\n",
              " 'instal': 307,\n",
              " 'nt': 405,\n",
              " 'work': 651,\n",
              " 'far': 224,\n",
              " 'better': 101,\n",
              " 'could': 140,\n",
              " 'great app': 275,\n",
              " 'app use': 65,\n",
              " 'use make': 614,\n",
              " 'nt work': 412,\n",
              " 'first': 234,\n",
              " 'give': 258,\n",
              " 'review': 495,\n",
              " 'creat': 144,\n",
              " 'logo': 340,\n",
              " 'small': 524,\n",
              " 'compani': 133,\n",
              " 'busi': 106,\n",
              " 'data': 153,\n",
              " 'see': 508,\n",
              " 'job': 316,\n",
              " 'app realli': 61,\n",
              " 'realli great': 481,\n",
              " 'first time': 235,\n",
              " 'app great': 49,\n",
              " 'creat logo': 147,\n",
              " 'nt use': 411,\n",
              " 'use app': 603,\n",
              " 'great job': 280,\n",
              " 'basic': 85,\n",
              " 'design': 157,\n",
              " 'well': 639,\n",
              " 'keep': 317,\n",
              " 'take': 558,\n",
              " 'away': 78,\n",
              " 'free': 242,\n",
              " 'put': 468,\n",
              " 'subscript': 548,\n",
              " 'new': 398,\n",
              " 'ad': 9,\n",
              " 'graphic': 271,\n",
              " 'feel': 228,\n",
              " 'price': 457,\n",
              " 'pretti': 456,\n",
              " 'everi': 210,\n",
              " 'day': 154,\n",
              " 'rate star': 473,\n",
              " 'free version': 245,\n",
              " 'month': 388,\n",
              " 'thumbnail': 581,\n",
              " 'banner': 84,\n",
              " 'video': 630,\n",
              " 'watermark': 635,\n",
              " 'look': 345,\n",
              " 'much': 389,\n",
              " 'attract': 73,\n",
              " 'peopl': 431,\n",
              " 'come': 132,\n",
              " 'wonder': 648,\n",
              " 'make thumbnail': 371,\n",
              " 'app mani': 57,\n",
              " 'give star': 259,\n",
              " 'love app': 351,\n",
              " 'app thank': 64,\n",
              " 'wonder app': 649,\n",
              " 'superb': 554,\n",
              " 'user': 621,\n",
              " 'interfac': 309,\n",
              " 'finish': 233,\n",
              " 'awesom': 79,\n",
              " 'paid': 427,\n",
              " 'product': 462,\n",
              " 'like': 331,\n",
              " 'full': 249,\n",
              " 'function': 251,\n",
              " 'kind': 320,\n",
              " 'skill': 521,\n",
              " 'easi': 179,\n",
              " 'user interfac': 623,\n",
              " 'app make': 56,\n",
              " 'easi edit': 182,\n",
              " 'like app': 332,\n",
              " 'thank canva': 575,\n",
              " 'purchas': 467,\n",
              " 'never': 397,\n",
              " 'said': 498,\n",
              " 'check': 127,\n",
              " 'seen': 510,\n",
              " 'pictur': 441,\n",
              " 'wast': 634,\n",
              " 'solv': 531,\n",
              " 'video edit': 631,\n",
              " 'mani time': 378,\n",
              " 'use edit': 607,\n",
              " 'edit design': 193,\n",
              " 'easier': 189,\n",
              " 'tool': 588,\n",
              " 'etc': 205,\n",
              " 'slow': 523,\n",
              " 'load': 338,\n",
              " 'especi': 204,\n",
              " 'stress': 541,\n",
              " 'got': 270,\n",
              " 'wait': 632,\n",
              " 'stuff': 544,\n",
              " 'edit app': 192,\n",
              " 'edit make': 194,\n",
              " 'make edit': 367,\n",
              " 'page': 426,\n",
              " 'went': 640,\n",
              " 'improv': 303,\n",
              " 'disappoint': 170,\n",
              " 'wish': 644,\n",
              " 'close': 130,\n",
              " 'unabl': 594,\n",
              " 'noth': 404,\n",
              " 'unabl save': 595,\n",
              " 'save work': 505,\n",
              " 'help': 287,\n",
              " 'turn': 592,\n",
              " 'art': 71,\n",
              " 'money': 387,\n",
              " 'readi': 475,\n",
              " 'templat': 570,\n",
              " 'friendli': 247,\n",
              " 'poster': 452,\n",
              " 'conveni': 137,\n",
              " 'realli help': 482,\n",
              " 'use templat': 617,\n",
              " 'user friendli': 622,\n",
              " 'easi use': 184,\n",
              " 'slide': 522,\n",
              " 'select': 511,\n",
              " 'frustrat': 248,\n",
              " 'automat': 76,\n",
              " 'anoth': 26,\n",
              " 'ca': 109,\n",
              " 'may': 380,\n",
              " 'show': 514,\n",
              " 'imag': 301,\n",
              " 'done': 171,\n",
              " 'ca nt': 110,\n",
              " 'hate': 286,\n",
              " 'complet': 134,\n",
              " 'background': 82,\n",
              " 'bad': 83,\n",
              " 'far good': 225,\n",
              " 'could nt': 141,\n",
              " 'open': 419,\n",
              " 'let': 329,\n",
              " 'project': 464,\n",
              " 'social': 528,\n",
              " 'media': 381,\n",
              " 'site': 520,\n",
              " 'nt open': 409,\n",
              " 'social media': 529,\n",
              " 'ever': 207,\n",
              " 'anyth': 28,\n",
              " 'glitch': 260,\n",
              " 'it': 315,\n",
              " 'realli good': 479,\n",
              " 've ever': 626,\n",
              " 'ever use': 209,\n",
              " 'realli good app': 480,\n",
              " 've ever use': 627,\n",
              " 'nice': 400,\n",
              " 'add': 10,\n",
              " 'thing': 577,\n",
              " 'remov': 490,\n",
              " 'nice app': 401,\n",
              " 'long': 343,\n",
              " 'connect': 135,\n",
              " 'take long': 560,\n",
              " 'save imag': 502,\n",
              " 'worst': 654,\n",
              " 'lag': 323,\n",
              " 'becom': 87,\n",
              " 'auto': 74,\n",
              " 'team': 566,\n",
              " 'enough': 202,\n",
              " 'take much': 563,\n",
              " 'much time': 391,\n",
              " 'take much time': 564,\n",
              " 'say': 506,\n",
              " 'pro': 459,\n",
              " 'alot': 15,\n",
              " 'low': 359,\n",
              " 'app keep': 51,\n",
              " 'pro version': 460,\n",
              " 'take lot': 561,\n",
              " 'lot time': 349,\n",
              " 'time load': 583,\n",
              " 'take lot time': 562,\n",
              " 'fantast': 222,\n",
              " 'applic': 68,\n",
              " 'happi': 284,\n",
              " 'photo edit': 437,\n",
              " 'youtub': 663,\n",
              " 'app logo': 53,\n",
              " 'logo thumbnail': 342,\n",
              " 'app app': 31,\n",
              " 'app good': 46,\n",
              " 'someth': 532,\n",
              " 'perfect': 432,\n",
              " 'beginn': 88,\n",
              " 're': 474,\n",
              " 'right': 496,\n",
              " 'cool': 138,\n",
              " 'realli easi': 478,\n",
              " 'annoy': 25,\n",
              " 'share': 513,\n",
              " 'mode': 386,\n",
              " 'galleri': 253,\n",
              " 'log': 339,\n",
              " 'app save': 62,\n",
              " 'awesom app': 80,\n",
              " 'alway': 18,\n",
              " 'card': 123,\n",
              " 'advertis': 11,\n",
              " 'busi card': 107,\n",
              " 'interest': 308,\n",
              " 'differ': 168,\n",
              " 'help make': 292,\n",
              " 'creator': 150,\n",
              " 'one best': 416,\n",
              " 'best photo': 100,\n",
              " 'use get': 610,\n",
              " 'mani design': 373,\n",
              " 'design templat': 163,\n",
              " 'recommend': 488,\n",
              " 'everyon': 211,\n",
              " 'use use': 619,\n",
              " 'nt save': 410,\n",
              " 'save time': 504,\n",
              " 'total': 590,\n",
              " 'would': 657,\n",
              " 'plz': 448,\n",
              " 'small busi': 525,\n",
              " 'place': 443,\n",
              " 'creativ': 149,\n",
              " 'play': 445,\n",
              " 'mani templat': 376,\n",
              " 'life': 330,\n",
              " 'profession': 463,\n",
              " 'properli': 465,\n",
              " 'fantast app': 223,\n",
              " 'app love': 55,\n",
              " 'servic': 512,\n",
              " 'qualiti': 469,\n",
              " 'offer': 413,\n",
              " 'canva best': 119,\n",
              " 'best app': 90,\n",
              " 'high qualiti': 294,\n",
              " 'canva best app': 120,\n",
              " 'custom': 151,\n",
              " 'ca nt use': 113,\n",
              " 'incred': 304,\n",
              " 'phone': 435,\n",
              " 'impress': 302,\n",
              " 'easili': 190,\n",
              " 'intuit': 312,\n",
              " 'design app': 158,\n",
              " 'realli like': 483,\n",
              " 'free option': 243,\n",
              " 'use mani': 615,\n",
              " 'mani free': 374,\n",
              " 'easi use mani': 187,\n",
              " 'best edit': 97,\n",
              " 'afford': 12,\n",
              " 'use lot': 612,\n",
              " 'lot free': 348,\n",
              " 'absolut': 3,\n",
              " 'absolut love': 4,\n",
              " 'love canva': 354,\n",
              " 'make design': 365,\n",
              " 'choos': 128,\n",
              " 'person': 434,\n",
              " 'yet': 662,\n",
              " 'made': 360,\n",
              " 'know': 322,\n",
              " 'other': 423,\n",
              " 'use canva': 604,\n",
              " 'use free': 608,\n",
              " 'graphic design': 272,\n",
              " 'make app': 363,\n",
              " 'write': 659,\n",
              " 'app edit': 41,\n",
              " 'tell': 569,\n",
              " 'wrong': 660,\n",
              " 'less': 328,\n",
              " 'idea': 299,\n",
              " 'app easi': 39,\n",
              " 'app easi use': 40,\n",
              " 'canva app': 118,\n",
              " 'varieti': 624,\n",
              " 'love easi': 355,\n",
              " 'great app love': 277,\n",
              " 'love easi use': 356,\n",
              " 'im': 300,\n",
              " 'great app easi': 276,\n",
              " 'requir': 491,\n",
              " 'payment': 430,\n",
              " 'download design': 176,\n",
              " 'app lot': 54,\n",
              " 'free templat': 244,\n",
              " 'simpl': 516,\n",
              " 'lot featur': 347,\n",
              " 'laptop': 325,\n",
              " 'fun': 250,\n",
              " 'perfectli': 433,\n",
              " 'pl': 442,\n",
              " 'save design': 501,\n",
              " 'platform': 444,\n",
              " 'way': 636,\n",
              " 'app ever': 42,\n",
              " 'one best app': 417,\n",
              " 'best app ever': 93,\n",
              " 'app ever use': 43,\n",
              " 'super': 551,\n",
              " 'cover': 142,\n",
              " 'cool app': 139,\n",
              " 'edit photo': 195,\n",
              " 'love templat': 357,\n",
              " 'end': 200,\n",
              " 'result': 493,\n",
              " 'sure': 556,\n",
              " 'anyon': 27,\n",
              " 'app design': 37,\n",
              " 'make present': 370,\n",
              " 'creat design': 146,\n",
              " 'content': 136,\n",
              " 'great design': 278,\n",
              " 'easi use lot': 186,\n",
              " 'anim': 24,\n",
              " 'templat easi': 572,\n",
              " 'error': 203,\n",
              " 'technic': 567,\n",
              " 'technic issu': 568,\n",
              " 'instagram': 306,\n",
              " 'make easi': 366,\n",
              " 'absolut love app': 5,\n",
              " 'softwar': 530,\n",
              " 'youtub thumbnail': 664,\n",
              " 'easi creat': 180,\n",
              " 'time use': 585,\n",
              " 'first time use': 236,\n",
              " 'subscrib': 547,\n",
              " 'help lot': 291,\n",
              " 'auto save': 75,\n",
              " 'photo video': 438,\n",
              " 'fast': 226,\n",
              " 'internet': 310,\n",
              " 'pay': 429,\n",
              " 'allow': 13,\n",
              " 'best design': 95,\n",
              " 'editor': 197,\n",
              " 'feel like': 229,\n",
              " 'stori': 540,\n",
              " 'must': 393,\n",
              " 'best app edit': 92,\n",
              " 'world': 653,\n",
              " 'hang': 282,\n",
              " 'long time': 344,\n",
              " 'channel': 125,\n",
              " 'birthday': 102,\n",
              " 'facebook': 221,\n",
              " 'design best': 159,\n",
              " 'flyer': 238,\n",
              " 'use creat': 605,\n",
              " 'suck': 549,\n",
              " 'open app': 420,\n",
              " 'charg': 126,\n",
              " 'student': 543,\n",
              " 'simpl use': 517,\n",
              " 'app graphic': 47,\n",
              " 'design logo': 161,\n",
              " 'app graphic design': 48,\n",
              " 'learn': 327,\n",
              " 'seem': 509,\n",
              " 'use love': 613,\n",
              " 'school': 507,\n",
              " 'bit': 103,\n",
              " 'otherwis': 424,\n",
              " 'app creat': 36,\n",
              " 'excel': 214,\n",
              " 'smoothli': 527,\n",
              " 'download video': 177,\n",
              " 'top': 589,\n",
              " 'click': 129,\n",
              " 'bug': 105,\n",
              " 'cant': 116,\n",
              " 'save project': 503,\n",
              " 'nt even': 407,\n",
              " 'access': 6,\n",
              " 'onlin': 418,\n",
              " 'quick': 470,\n",
              " 'thank much': 576,\n",
              " 'difficult': 169,\n",
              " 'ton': 586,\n",
              " 'good app design': 264,\n",
              " 'app design logo': 38,\n",
              " 'use great': 611,\n",
              " 'love app easi': 352,\n",
              " 'easi use great': 185,\n",
              " 'smooth': 526,\n",
              " 'good work': 268,\n",
              " 'friend': 246,\n",
              " 'market': 379,\n",
              " 'app best': 34,\n",
              " 'logo design': 341,\n",
              " 'creat mani': 148,\n",
              " 'easi design': 181,\n",
              " 'design easi': 160,\n",
              " 'network': 396,\n",
              " 'cancel': 115,\n",
              " 'avail': 77,\n",
              " 'make banner': 364,\n",
              " 'help app': 288,\n",
              " 'game': 254,\n",
              " 'super easi': 552,\n",
              " 'use design': 606,\n",
              " 'super easi use': 553,\n",
              " 'best graphic': 98,\n",
              " 'best graphic design': 99,\n",
              " 'graphic design app': 273,\n",
              " 'offlin': 414,\n",
              " 'fine': 232,\n",
              " 'experienc': 218,\n",
              " 'nt download': 406,\n",
              " 'ca nt download': 111,\n",
              " 'photoshop': 439,\n",
              " 'wo': 646,\n",
              " 'googl': 269,\n",
              " 'account': 7,\n",
              " 'wo nt': 647,\n",
              " 'special': 536,\n",
              " 'app help': 50,\n",
              " 'realli like app': 484,\n",
              " 'design need': 162,\n",
              " 'use realli': 616,\n",
              " 'easi use realli': 188,\n",
              " 'aap': 1,\n",
              " 'print': 458,\n",
              " 'option edit': 422,\n",
              " 'navig': 394,\n",
              " 'invit': 313,\n",
              " 'recommend app': 489,\n",
              " 'enjoy': 201,\n",
              " 'suggest': 550,\n",
              " 'realli love': 485,\n",
              " 'realli love app': 486,\n",
              " 'understand': 596,\n",
              " 'ca nt save': 112,\n",
              " 'useless': 620,\n",
              " 'app take': 63,\n",
              " 'insta': 305,\n",
              " 'nice app edit': 402,\n",
              " 'love use': 358,\n",
              " 'app first': 45,\n",
              " 'edit pictur': 196,\n",
              " 'line': 334,\n",
              " 'type': 593,\n",
              " 'due': 178,\n",
              " 'whatev': 641,\n",
              " 'highli': 295,\n",
              " 'highli recommend': 296,\n",
              " 'collag': 131,\n",
              " 'good app make': 265,\n",
              " 'found': 241,\n",
              " 'doubt': 173,\n",
              " 'use full': 609,\n",
              " 'effect': 198,\n",
              " 'mani option': 375,\n",
              " 'help design': 290,\n",
              " 'good applic': 266,\n",
              " 'applic edit': 69,\n",
              " 'email': 199,\n",
              " 'quit': 471,\n",
              " 'app work': 67,\n",
              " 'hard': 285,\n",
              " 'wow': 658,\n",
              " 'new updat': 399,\n",
              " 'app beginn': 33,\n",
              " 'best design app': 96,\n",
              " 'time save': 584,\n",
              " 'much time save': 392,\n",
              " 'wifi': 643,\n",
              " 'app nt': 59,\n",
              " 'ask': 72,\n",
              " 'daili': 152,\n",
              " 'run': 497,\n",
              " 'limit': 333,\n",
              " 'guy': 281,\n",
              " 'amaz design': 22,\n",
              " 'soo': 534,\n",
              " 'app amaz': 30,\n",
              " 'everytim': 213,\n",
              " 'forev': 240,\n",
              " 'take forev': 559,\n",
              " 'make logo': 368,\n",
              " 'simpli': 518,\n",
              " 'word': 650,\n",
              " 'worth': 656,\n",
              " 'took': 587,\n",
              " 'prepar': 454,\n",
              " 'minut': 383,\n",
              " 'except': 216,\n",
              " 'app everyth': 44,\n",
              " 'canva pro': 121,\n",
              " 'nice easi': 403,\n",
              " 'work properli': 652,\n",
              " 'actual': 8,\n",
              " 'mind': 382,\n",
              " 'best app design': 91,\n",
              " 'upgrad': 599,\n",
              " 'amaz applic': 21,\n",
              " 'nt know': 408,\n",
              " 'kindli': 321,\n",
              " 'stun': 545,\n",
              " 'pic': 440,\n",
              " 'take time': 565,\n",
              " 'futur': 252,\n",
              " 'canva team': 122,\n",
              " 'excel app': 215,\n",
              " 'appreci': 70,\n",
              " 'easi make': 183,\n",
              " 'sign': 515,\n",
              " 'alreadi': 16,\n",
              " 'internet connect': 311,\n",
              " 'best app use': 94,\n",
              " 'use thank': 618,\n",
              " 'laggi': 324,\n",
              " 'buy': 108,\n",
              " 'creat canva': 145,\n",
              " 'good design': 267,\n",
              " 'love app help': 353,\n",
              " 'mani thing': 377,\n",
              " 'make poster': 369,\n",
              " 'ever seen': 208,\n",
              " 'app much': 58,\n",
              " 'much better': 390,\n",
              " 'download app': 175,\n",
              " 'upload': 600,\n",
              " 'dont': 172,\n",
              " 'templat design': 571,\n",
              " 'wide': 642,\n",
              " 'help creat': 289,\n",
              " 'app like': 52,\n",
              " 'littl': 336,\n",
              " 'web': 637,\n",
              " 'devic': 167,\n",
              " 'app awesom': 32,\n",
              " 'great easi': 279,\n",
              " 'poor': 449,\n",
              " 'superb app': 555,\n",
              " 'possibl': 450,\n",
              " 'tablet': 557,\n",
              " 'keep good': 318,\n",
              " 'keep good work': 319,\n",
              " 'worst app': 655}"
            ]
          },
          "metadata": {},
          "execution_count": 119
        }
      ]
    },
    {
      "cell_type": "code",
      "source": [
        "X_train, X_test, y_train, y_test = train_test_split(X, y, test_size=0.2, stratify=y, random_state=42)"
      ],
      "metadata": {
        "id": "stk4d1idXo80"
      },
      "execution_count": null,
      "outputs": []
    },
    {
      "cell_type": "code",
      "source": [
        "model = LogisticRegression()\n",
        "model.fit(X_train, y_train)"
      ],
      "metadata": {
        "colab": {
          "base_uri": "https://localhost:8080/",
          "height": 80
        },
        "id": "V7mU61n1XvJd",
        "outputId": "4499ffcf-f260-49ad-986e-552e48829ae7"
      },
      "execution_count": null,
      "outputs": [
        {
          "output_type": "execute_result",
          "data": {
            "text/plain": [
              "LogisticRegression()"
            ],
            "text/html": [
              "<style>#sk-container-id-3 {\n",
              "  /* Definition of color scheme common for light and dark mode */\n",
              "  --sklearn-color-text: #000;\n",
              "  --sklearn-color-text-muted: #666;\n",
              "  --sklearn-color-line: gray;\n",
              "  /* Definition of color scheme for unfitted estimators */\n",
              "  --sklearn-color-unfitted-level-0: #fff5e6;\n",
              "  --sklearn-color-unfitted-level-1: #f6e4d2;\n",
              "  --sklearn-color-unfitted-level-2: #ffe0b3;\n",
              "  --sklearn-color-unfitted-level-3: chocolate;\n",
              "  /* Definition of color scheme for fitted estimators */\n",
              "  --sklearn-color-fitted-level-0: #f0f8ff;\n",
              "  --sklearn-color-fitted-level-1: #d4ebff;\n",
              "  --sklearn-color-fitted-level-2: #b3dbfd;\n",
              "  --sklearn-color-fitted-level-3: cornflowerblue;\n",
              "\n",
              "  /* Specific color for light theme */\n",
              "  --sklearn-color-text-on-default-background: var(--sg-text-color, var(--theme-code-foreground, var(--jp-content-font-color1, black)));\n",
              "  --sklearn-color-background: var(--sg-background-color, var(--theme-background, var(--jp-layout-color0, white)));\n",
              "  --sklearn-color-border-box: var(--sg-text-color, var(--theme-code-foreground, var(--jp-content-font-color1, black)));\n",
              "  --sklearn-color-icon: #696969;\n",
              "\n",
              "  @media (prefers-color-scheme: dark) {\n",
              "    /* Redefinition of color scheme for dark theme */\n",
              "    --sklearn-color-text-on-default-background: var(--sg-text-color, var(--theme-code-foreground, var(--jp-content-font-color1, white)));\n",
              "    --sklearn-color-background: var(--sg-background-color, var(--theme-background, var(--jp-layout-color0, #111)));\n",
              "    --sklearn-color-border-box: var(--sg-text-color, var(--theme-code-foreground, var(--jp-content-font-color1, white)));\n",
              "    --sklearn-color-icon: #878787;\n",
              "  }\n",
              "}\n",
              "\n",
              "#sk-container-id-3 {\n",
              "  color: var(--sklearn-color-text);\n",
              "}\n",
              "\n",
              "#sk-container-id-3 pre {\n",
              "  padding: 0;\n",
              "}\n",
              "\n",
              "#sk-container-id-3 input.sk-hidden--visually {\n",
              "  border: 0;\n",
              "  clip: rect(1px 1px 1px 1px);\n",
              "  clip: rect(1px, 1px, 1px, 1px);\n",
              "  height: 1px;\n",
              "  margin: -1px;\n",
              "  overflow: hidden;\n",
              "  padding: 0;\n",
              "  position: absolute;\n",
              "  width: 1px;\n",
              "}\n",
              "\n",
              "#sk-container-id-3 div.sk-dashed-wrapped {\n",
              "  border: 1px dashed var(--sklearn-color-line);\n",
              "  margin: 0 0.4em 0.5em 0.4em;\n",
              "  box-sizing: border-box;\n",
              "  padding-bottom: 0.4em;\n",
              "  background-color: var(--sklearn-color-background);\n",
              "}\n",
              "\n",
              "#sk-container-id-3 div.sk-container {\n",
              "  /* jupyter's `normalize.less` sets `[hidden] { display: none; }`\n",
              "     but bootstrap.min.css set `[hidden] { display: none !important; }`\n",
              "     so we also need the `!important` here to be able to override the\n",
              "     default hidden behavior on the sphinx rendered scikit-learn.org.\n",
              "     See: https://github.com/scikit-learn/scikit-learn/issues/21755 */\n",
              "  display: inline-block !important;\n",
              "  position: relative;\n",
              "}\n",
              "\n",
              "#sk-container-id-3 div.sk-text-repr-fallback {\n",
              "  display: none;\n",
              "}\n",
              "\n",
              "div.sk-parallel-item,\n",
              "div.sk-serial,\n",
              "div.sk-item {\n",
              "  /* draw centered vertical line to link estimators */\n",
              "  background-image: linear-gradient(var(--sklearn-color-text-on-default-background), var(--sklearn-color-text-on-default-background));\n",
              "  background-size: 2px 100%;\n",
              "  background-repeat: no-repeat;\n",
              "  background-position: center center;\n",
              "}\n",
              "\n",
              "/* Parallel-specific style estimator block */\n",
              "\n",
              "#sk-container-id-3 div.sk-parallel-item::after {\n",
              "  content: \"\";\n",
              "  width: 100%;\n",
              "  border-bottom: 2px solid var(--sklearn-color-text-on-default-background);\n",
              "  flex-grow: 1;\n",
              "}\n",
              "\n",
              "#sk-container-id-3 div.sk-parallel {\n",
              "  display: flex;\n",
              "  align-items: stretch;\n",
              "  justify-content: center;\n",
              "  background-color: var(--sklearn-color-background);\n",
              "  position: relative;\n",
              "}\n",
              "\n",
              "#sk-container-id-3 div.sk-parallel-item {\n",
              "  display: flex;\n",
              "  flex-direction: column;\n",
              "}\n",
              "\n",
              "#sk-container-id-3 div.sk-parallel-item:first-child::after {\n",
              "  align-self: flex-end;\n",
              "  width: 50%;\n",
              "}\n",
              "\n",
              "#sk-container-id-3 div.sk-parallel-item:last-child::after {\n",
              "  align-self: flex-start;\n",
              "  width: 50%;\n",
              "}\n",
              "\n",
              "#sk-container-id-3 div.sk-parallel-item:only-child::after {\n",
              "  width: 0;\n",
              "}\n",
              "\n",
              "/* Serial-specific style estimator block */\n",
              "\n",
              "#sk-container-id-3 div.sk-serial {\n",
              "  display: flex;\n",
              "  flex-direction: column;\n",
              "  align-items: center;\n",
              "  background-color: var(--sklearn-color-background);\n",
              "  padding-right: 1em;\n",
              "  padding-left: 1em;\n",
              "}\n",
              "\n",
              "\n",
              "/* Toggleable style: style used for estimator/Pipeline/ColumnTransformer box that is\n",
              "clickable and can be expanded/collapsed.\n",
              "- Pipeline and ColumnTransformer use this feature and define the default style\n",
              "- Estimators will overwrite some part of the style using the `sk-estimator` class\n",
              "*/\n",
              "\n",
              "/* Pipeline and ColumnTransformer style (default) */\n",
              "\n",
              "#sk-container-id-3 div.sk-toggleable {\n",
              "  /* Default theme specific background. It is overwritten whether we have a\n",
              "  specific estimator or a Pipeline/ColumnTransformer */\n",
              "  background-color: var(--sklearn-color-background);\n",
              "}\n",
              "\n",
              "/* Toggleable label */\n",
              "#sk-container-id-3 label.sk-toggleable__label {\n",
              "  cursor: pointer;\n",
              "  display: flex;\n",
              "  width: 100%;\n",
              "  margin-bottom: 0;\n",
              "  padding: 0.5em;\n",
              "  box-sizing: border-box;\n",
              "  text-align: center;\n",
              "  align-items: start;\n",
              "  justify-content: space-between;\n",
              "  gap: 0.5em;\n",
              "}\n",
              "\n",
              "#sk-container-id-3 label.sk-toggleable__label .caption {\n",
              "  font-size: 0.6rem;\n",
              "  font-weight: lighter;\n",
              "  color: var(--sklearn-color-text-muted);\n",
              "}\n",
              "\n",
              "#sk-container-id-3 label.sk-toggleable__label-arrow:before {\n",
              "  /* Arrow on the left of the label */\n",
              "  content: \"▸\";\n",
              "  float: left;\n",
              "  margin-right: 0.25em;\n",
              "  color: var(--sklearn-color-icon);\n",
              "}\n",
              "\n",
              "#sk-container-id-3 label.sk-toggleable__label-arrow:hover:before {\n",
              "  color: var(--sklearn-color-text);\n",
              "}\n",
              "\n",
              "/* Toggleable content - dropdown */\n",
              "\n",
              "#sk-container-id-3 div.sk-toggleable__content {\n",
              "  max-height: 0;\n",
              "  max-width: 0;\n",
              "  overflow: hidden;\n",
              "  text-align: left;\n",
              "  /* unfitted */\n",
              "  background-color: var(--sklearn-color-unfitted-level-0);\n",
              "}\n",
              "\n",
              "#sk-container-id-3 div.sk-toggleable__content.fitted {\n",
              "  /* fitted */\n",
              "  background-color: var(--sklearn-color-fitted-level-0);\n",
              "}\n",
              "\n",
              "#sk-container-id-3 div.sk-toggleable__content pre {\n",
              "  margin: 0.2em;\n",
              "  border-radius: 0.25em;\n",
              "  color: var(--sklearn-color-text);\n",
              "  /* unfitted */\n",
              "  background-color: var(--sklearn-color-unfitted-level-0);\n",
              "}\n",
              "\n",
              "#sk-container-id-3 div.sk-toggleable__content.fitted pre {\n",
              "  /* unfitted */\n",
              "  background-color: var(--sklearn-color-fitted-level-0);\n",
              "}\n",
              "\n",
              "#sk-container-id-3 input.sk-toggleable__control:checked~div.sk-toggleable__content {\n",
              "  /* Expand drop-down */\n",
              "  max-height: 200px;\n",
              "  max-width: 100%;\n",
              "  overflow: auto;\n",
              "}\n",
              "\n",
              "#sk-container-id-3 input.sk-toggleable__control:checked~label.sk-toggleable__label-arrow:before {\n",
              "  content: \"▾\";\n",
              "}\n",
              "\n",
              "/* Pipeline/ColumnTransformer-specific style */\n",
              "\n",
              "#sk-container-id-3 div.sk-label input.sk-toggleable__control:checked~label.sk-toggleable__label {\n",
              "  color: var(--sklearn-color-text);\n",
              "  background-color: var(--sklearn-color-unfitted-level-2);\n",
              "}\n",
              "\n",
              "#sk-container-id-3 div.sk-label.fitted input.sk-toggleable__control:checked~label.sk-toggleable__label {\n",
              "  background-color: var(--sklearn-color-fitted-level-2);\n",
              "}\n",
              "\n",
              "/* Estimator-specific style */\n",
              "\n",
              "/* Colorize estimator box */\n",
              "#sk-container-id-3 div.sk-estimator input.sk-toggleable__control:checked~label.sk-toggleable__label {\n",
              "  /* unfitted */\n",
              "  background-color: var(--sklearn-color-unfitted-level-2);\n",
              "}\n",
              "\n",
              "#sk-container-id-3 div.sk-estimator.fitted input.sk-toggleable__control:checked~label.sk-toggleable__label {\n",
              "  /* fitted */\n",
              "  background-color: var(--sklearn-color-fitted-level-2);\n",
              "}\n",
              "\n",
              "#sk-container-id-3 div.sk-label label.sk-toggleable__label,\n",
              "#sk-container-id-3 div.sk-label label {\n",
              "  /* The background is the default theme color */\n",
              "  color: var(--sklearn-color-text-on-default-background);\n",
              "}\n",
              "\n",
              "/* On hover, darken the color of the background */\n",
              "#sk-container-id-3 div.sk-label:hover label.sk-toggleable__label {\n",
              "  color: var(--sklearn-color-text);\n",
              "  background-color: var(--sklearn-color-unfitted-level-2);\n",
              "}\n",
              "\n",
              "/* Label box, darken color on hover, fitted */\n",
              "#sk-container-id-3 div.sk-label.fitted:hover label.sk-toggleable__label.fitted {\n",
              "  color: var(--sklearn-color-text);\n",
              "  background-color: var(--sklearn-color-fitted-level-2);\n",
              "}\n",
              "\n",
              "/* Estimator label */\n",
              "\n",
              "#sk-container-id-3 div.sk-label label {\n",
              "  font-family: monospace;\n",
              "  font-weight: bold;\n",
              "  display: inline-block;\n",
              "  line-height: 1.2em;\n",
              "}\n",
              "\n",
              "#sk-container-id-3 div.sk-label-container {\n",
              "  text-align: center;\n",
              "}\n",
              "\n",
              "/* Estimator-specific */\n",
              "#sk-container-id-3 div.sk-estimator {\n",
              "  font-family: monospace;\n",
              "  border: 1px dotted var(--sklearn-color-border-box);\n",
              "  border-radius: 0.25em;\n",
              "  box-sizing: border-box;\n",
              "  margin-bottom: 0.5em;\n",
              "  /* unfitted */\n",
              "  background-color: var(--sklearn-color-unfitted-level-0);\n",
              "}\n",
              "\n",
              "#sk-container-id-3 div.sk-estimator.fitted {\n",
              "  /* fitted */\n",
              "  background-color: var(--sklearn-color-fitted-level-0);\n",
              "}\n",
              "\n",
              "/* on hover */\n",
              "#sk-container-id-3 div.sk-estimator:hover {\n",
              "  /* unfitted */\n",
              "  background-color: var(--sklearn-color-unfitted-level-2);\n",
              "}\n",
              "\n",
              "#sk-container-id-3 div.sk-estimator.fitted:hover {\n",
              "  /* fitted */\n",
              "  background-color: var(--sklearn-color-fitted-level-2);\n",
              "}\n",
              "\n",
              "/* Specification for estimator info (e.g. \"i\" and \"?\") */\n",
              "\n",
              "/* Common style for \"i\" and \"?\" */\n",
              "\n",
              ".sk-estimator-doc-link,\n",
              "a:link.sk-estimator-doc-link,\n",
              "a:visited.sk-estimator-doc-link {\n",
              "  float: right;\n",
              "  font-size: smaller;\n",
              "  line-height: 1em;\n",
              "  font-family: monospace;\n",
              "  background-color: var(--sklearn-color-background);\n",
              "  border-radius: 1em;\n",
              "  height: 1em;\n",
              "  width: 1em;\n",
              "  text-decoration: none !important;\n",
              "  margin-left: 0.5em;\n",
              "  text-align: center;\n",
              "  /* unfitted */\n",
              "  border: var(--sklearn-color-unfitted-level-1) 1pt solid;\n",
              "  color: var(--sklearn-color-unfitted-level-1);\n",
              "}\n",
              "\n",
              ".sk-estimator-doc-link.fitted,\n",
              "a:link.sk-estimator-doc-link.fitted,\n",
              "a:visited.sk-estimator-doc-link.fitted {\n",
              "  /* fitted */\n",
              "  border: var(--sklearn-color-fitted-level-1) 1pt solid;\n",
              "  color: var(--sklearn-color-fitted-level-1);\n",
              "}\n",
              "\n",
              "/* On hover */\n",
              "div.sk-estimator:hover .sk-estimator-doc-link:hover,\n",
              ".sk-estimator-doc-link:hover,\n",
              "div.sk-label-container:hover .sk-estimator-doc-link:hover,\n",
              ".sk-estimator-doc-link:hover {\n",
              "  /* unfitted */\n",
              "  background-color: var(--sklearn-color-unfitted-level-3);\n",
              "  color: var(--sklearn-color-background);\n",
              "  text-decoration: none;\n",
              "}\n",
              "\n",
              "div.sk-estimator.fitted:hover .sk-estimator-doc-link.fitted:hover,\n",
              ".sk-estimator-doc-link.fitted:hover,\n",
              "div.sk-label-container:hover .sk-estimator-doc-link.fitted:hover,\n",
              ".sk-estimator-doc-link.fitted:hover {\n",
              "  /* fitted */\n",
              "  background-color: var(--sklearn-color-fitted-level-3);\n",
              "  color: var(--sklearn-color-background);\n",
              "  text-decoration: none;\n",
              "}\n",
              "\n",
              "/* Span, style for the box shown on hovering the info icon */\n",
              ".sk-estimator-doc-link span {\n",
              "  display: none;\n",
              "  z-index: 9999;\n",
              "  position: relative;\n",
              "  font-weight: normal;\n",
              "  right: .2ex;\n",
              "  padding: .5ex;\n",
              "  margin: .5ex;\n",
              "  width: min-content;\n",
              "  min-width: 20ex;\n",
              "  max-width: 50ex;\n",
              "  color: var(--sklearn-color-text);\n",
              "  box-shadow: 2pt 2pt 4pt #999;\n",
              "  /* unfitted */\n",
              "  background: var(--sklearn-color-unfitted-level-0);\n",
              "  border: .5pt solid var(--sklearn-color-unfitted-level-3);\n",
              "}\n",
              "\n",
              ".sk-estimator-doc-link.fitted span {\n",
              "  /* fitted */\n",
              "  background: var(--sklearn-color-fitted-level-0);\n",
              "  border: var(--sklearn-color-fitted-level-3);\n",
              "}\n",
              "\n",
              ".sk-estimator-doc-link:hover span {\n",
              "  display: block;\n",
              "}\n",
              "\n",
              "/* \"?\"-specific style due to the `<a>` HTML tag */\n",
              "\n",
              "#sk-container-id-3 a.estimator_doc_link {\n",
              "  float: right;\n",
              "  font-size: 1rem;\n",
              "  line-height: 1em;\n",
              "  font-family: monospace;\n",
              "  background-color: var(--sklearn-color-background);\n",
              "  border-radius: 1rem;\n",
              "  height: 1rem;\n",
              "  width: 1rem;\n",
              "  text-decoration: none;\n",
              "  /* unfitted */\n",
              "  color: var(--sklearn-color-unfitted-level-1);\n",
              "  border: var(--sklearn-color-unfitted-level-1) 1pt solid;\n",
              "}\n",
              "\n",
              "#sk-container-id-3 a.estimator_doc_link.fitted {\n",
              "  /* fitted */\n",
              "  border: var(--sklearn-color-fitted-level-1) 1pt solid;\n",
              "  color: var(--sklearn-color-fitted-level-1);\n",
              "}\n",
              "\n",
              "/* On hover */\n",
              "#sk-container-id-3 a.estimator_doc_link:hover {\n",
              "  /* unfitted */\n",
              "  background-color: var(--sklearn-color-unfitted-level-3);\n",
              "  color: var(--sklearn-color-background);\n",
              "  text-decoration: none;\n",
              "}\n",
              "\n",
              "#sk-container-id-3 a.estimator_doc_link.fitted:hover {\n",
              "  /* fitted */\n",
              "  background-color: var(--sklearn-color-fitted-level-3);\n",
              "}\n",
              "</style><div id=\"sk-container-id-3\" class=\"sk-top-container\"><div class=\"sk-text-repr-fallback\"><pre>LogisticRegression()</pre><b>In a Jupyter environment, please rerun this cell to show the HTML representation or trust the notebook. <br />On GitHub, the HTML representation is unable to render, please try loading this page with nbviewer.org.</b></div><div class=\"sk-container\" hidden><div class=\"sk-item\"><div class=\"sk-estimator fitted sk-toggleable\"><input class=\"sk-toggleable__control sk-hidden--visually\" id=\"sk-estimator-id-3\" type=\"checkbox\" checked><label for=\"sk-estimator-id-3\" class=\"sk-toggleable__label fitted sk-toggleable__label-arrow\"><div><div>LogisticRegression</div></div><div><a class=\"sk-estimator-doc-link fitted\" rel=\"noreferrer\" target=\"_blank\" href=\"https://scikit-learn.org/1.6/modules/generated/sklearn.linear_model.LogisticRegression.html\">?<span>Documentation for LogisticRegression</span></a><span class=\"sk-estimator-doc-link fitted\">i<span>Fitted</span></span></div></label><div class=\"sk-toggleable__content fitted\"><pre>LogisticRegression()</pre></div> </div></div></div></div>"
            ]
          },
          "metadata": {},
          "execution_count": 121
        }
      ]
    },
    {
      "cell_type": "code",
      "source": [
        "train_pred = model.predict(X_train)\n",
        "test_pred = model.predict(X_test)\n",
        "print(f\"Train Accuracy:{accuracy_score(y_train, train_pred)}\")\n",
        "print(f\"Test Accuracy:{accuracy_score(y_test, test_pred)}\")"
      ],
      "metadata": {
        "colab": {
          "base_uri": "https://localhost:8080/"
        },
        "id": "TdvjT3OKXx4G",
        "outputId": "e408bdff-e8cf-42ca-fbd9-2db1833a0119"
      },
      "execution_count": null,
      "outputs": [
        {
          "output_type": "stream",
          "name": "stdout",
          "text": [
            "Train Accuracy:0.9708333333333333\n",
            "Test Accuracy:0.8933333333333333\n"
          ]
        }
      ]
    },
    {
      "cell_type": "code",
      "source": [
        "with open(\"Output/n_gram.pkl\", \"wb\") as f:\n",
        "    pickle.dump(vect, f)\n",
        "with open(\"Output/n_gram_lr.pkl\", \"wb\") as f:\n",
        "    pickle.dump(model, f)"
      ],
      "metadata": {
        "id": "5dzCSa5wX4wX"
      },
      "execution_count": null,
      "outputs": []
    },
    {
      "cell_type": "markdown",
      "source": [
        "# **Section 7. TF-IDF and Model with it**"
      ],
      "metadata": {
        "id": "ov7jgfG1X6xt"
      }
    },
    {
      "cell_type": "code",
      "source": [
        "vect = TfidfVectorizer(min_df=5)"
      ],
      "metadata": {
        "id": "AW4gEfgtZJeT"
      },
      "execution_count": null,
      "outputs": []
    },
    {
      "cell_type": "code",
      "source": [
        "X = vect.fit_transform(clean_reviews)"
      ],
      "metadata": {
        "id": "dD84S_jlZLdr"
      },
      "execution_count": null,
      "outputs": []
    },
    {
      "cell_type": "code",
      "source": [
        "X.shape"
      ],
      "metadata": {
        "colab": {
          "base_uri": "https://localhost:8080/"
        },
        "id": "TLzETs9GZNWj",
        "outputId": "69dd106e-af3a-4cda-9ac7-f23f4fab2809"
      },
      "execution_count": null,
      "outputs": [
        {
          "output_type": "execute_result",
          "data": {
            "text/plain": [
              "(1500, 413)"
            ]
          },
          "metadata": {},
          "execution_count": 126
        }
      ]
    },
    {
      "cell_type": "code",
      "source": [
        "X_train, X_test, y_train, y_test = train_test_split(X, y, test_size=0.2, stratify=y, random_state=42)"
      ],
      "metadata": {
        "id": "-zQkP8Z8ZVi7"
      },
      "execution_count": null,
      "outputs": []
    },
    {
      "cell_type": "code",
      "source": [
        "model = LogisticRegression()\n",
        "model.fit(X_train, y_train)"
      ],
      "metadata": {
        "colab": {
          "base_uri": "https://localhost:8080/",
          "height": 80
        },
        "id": "5xxdvaELZZxL",
        "outputId": "6392035b-7f9b-4c66-e244-bd1348246da9"
      },
      "execution_count": null,
      "outputs": [
        {
          "output_type": "execute_result",
          "data": {
            "text/plain": [
              "LogisticRegression()"
            ],
            "text/html": [
              "<style>#sk-container-id-4 {\n",
              "  /* Definition of color scheme common for light and dark mode */\n",
              "  --sklearn-color-text: #000;\n",
              "  --sklearn-color-text-muted: #666;\n",
              "  --sklearn-color-line: gray;\n",
              "  /* Definition of color scheme for unfitted estimators */\n",
              "  --sklearn-color-unfitted-level-0: #fff5e6;\n",
              "  --sklearn-color-unfitted-level-1: #f6e4d2;\n",
              "  --sklearn-color-unfitted-level-2: #ffe0b3;\n",
              "  --sklearn-color-unfitted-level-3: chocolate;\n",
              "  /* Definition of color scheme for fitted estimators */\n",
              "  --sklearn-color-fitted-level-0: #f0f8ff;\n",
              "  --sklearn-color-fitted-level-1: #d4ebff;\n",
              "  --sklearn-color-fitted-level-2: #b3dbfd;\n",
              "  --sklearn-color-fitted-level-3: cornflowerblue;\n",
              "\n",
              "  /* Specific color for light theme */\n",
              "  --sklearn-color-text-on-default-background: var(--sg-text-color, var(--theme-code-foreground, var(--jp-content-font-color1, black)));\n",
              "  --sklearn-color-background: var(--sg-background-color, var(--theme-background, var(--jp-layout-color0, white)));\n",
              "  --sklearn-color-border-box: var(--sg-text-color, var(--theme-code-foreground, var(--jp-content-font-color1, black)));\n",
              "  --sklearn-color-icon: #696969;\n",
              "\n",
              "  @media (prefers-color-scheme: dark) {\n",
              "    /* Redefinition of color scheme for dark theme */\n",
              "    --sklearn-color-text-on-default-background: var(--sg-text-color, var(--theme-code-foreground, var(--jp-content-font-color1, white)));\n",
              "    --sklearn-color-background: var(--sg-background-color, var(--theme-background, var(--jp-layout-color0, #111)));\n",
              "    --sklearn-color-border-box: var(--sg-text-color, var(--theme-code-foreground, var(--jp-content-font-color1, white)));\n",
              "    --sklearn-color-icon: #878787;\n",
              "  }\n",
              "}\n",
              "\n",
              "#sk-container-id-4 {\n",
              "  color: var(--sklearn-color-text);\n",
              "}\n",
              "\n",
              "#sk-container-id-4 pre {\n",
              "  padding: 0;\n",
              "}\n",
              "\n",
              "#sk-container-id-4 input.sk-hidden--visually {\n",
              "  border: 0;\n",
              "  clip: rect(1px 1px 1px 1px);\n",
              "  clip: rect(1px, 1px, 1px, 1px);\n",
              "  height: 1px;\n",
              "  margin: -1px;\n",
              "  overflow: hidden;\n",
              "  padding: 0;\n",
              "  position: absolute;\n",
              "  width: 1px;\n",
              "}\n",
              "\n",
              "#sk-container-id-4 div.sk-dashed-wrapped {\n",
              "  border: 1px dashed var(--sklearn-color-line);\n",
              "  margin: 0 0.4em 0.5em 0.4em;\n",
              "  box-sizing: border-box;\n",
              "  padding-bottom: 0.4em;\n",
              "  background-color: var(--sklearn-color-background);\n",
              "}\n",
              "\n",
              "#sk-container-id-4 div.sk-container {\n",
              "  /* jupyter's `normalize.less` sets `[hidden] { display: none; }`\n",
              "     but bootstrap.min.css set `[hidden] { display: none !important; }`\n",
              "     so we also need the `!important` here to be able to override the\n",
              "     default hidden behavior on the sphinx rendered scikit-learn.org.\n",
              "     See: https://github.com/scikit-learn/scikit-learn/issues/21755 */\n",
              "  display: inline-block !important;\n",
              "  position: relative;\n",
              "}\n",
              "\n",
              "#sk-container-id-4 div.sk-text-repr-fallback {\n",
              "  display: none;\n",
              "}\n",
              "\n",
              "div.sk-parallel-item,\n",
              "div.sk-serial,\n",
              "div.sk-item {\n",
              "  /* draw centered vertical line to link estimators */\n",
              "  background-image: linear-gradient(var(--sklearn-color-text-on-default-background), var(--sklearn-color-text-on-default-background));\n",
              "  background-size: 2px 100%;\n",
              "  background-repeat: no-repeat;\n",
              "  background-position: center center;\n",
              "}\n",
              "\n",
              "/* Parallel-specific style estimator block */\n",
              "\n",
              "#sk-container-id-4 div.sk-parallel-item::after {\n",
              "  content: \"\";\n",
              "  width: 100%;\n",
              "  border-bottom: 2px solid var(--sklearn-color-text-on-default-background);\n",
              "  flex-grow: 1;\n",
              "}\n",
              "\n",
              "#sk-container-id-4 div.sk-parallel {\n",
              "  display: flex;\n",
              "  align-items: stretch;\n",
              "  justify-content: center;\n",
              "  background-color: var(--sklearn-color-background);\n",
              "  position: relative;\n",
              "}\n",
              "\n",
              "#sk-container-id-4 div.sk-parallel-item {\n",
              "  display: flex;\n",
              "  flex-direction: column;\n",
              "}\n",
              "\n",
              "#sk-container-id-4 div.sk-parallel-item:first-child::after {\n",
              "  align-self: flex-end;\n",
              "  width: 50%;\n",
              "}\n",
              "\n",
              "#sk-container-id-4 div.sk-parallel-item:last-child::after {\n",
              "  align-self: flex-start;\n",
              "  width: 50%;\n",
              "}\n",
              "\n",
              "#sk-container-id-4 div.sk-parallel-item:only-child::after {\n",
              "  width: 0;\n",
              "}\n",
              "\n",
              "/* Serial-specific style estimator block */\n",
              "\n",
              "#sk-container-id-4 div.sk-serial {\n",
              "  display: flex;\n",
              "  flex-direction: column;\n",
              "  align-items: center;\n",
              "  background-color: var(--sklearn-color-background);\n",
              "  padding-right: 1em;\n",
              "  padding-left: 1em;\n",
              "}\n",
              "\n",
              "\n",
              "/* Toggleable style: style used for estimator/Pipeline/ColumnTransformer box that is\n",
              "clickable and can be expanded/collapsed.\n",
              "- Pipeline and ColumnTransformer use this feature and define the default style\n",
              "- Estimators will overwrite some part of the style using the `sk-estimator` class\n",
              "*/\n",
              "\n",
              "/* Pipeline and ColumnTransformer style (default) */\n",
              "\n",
              "#sk-container-id-4 div.sk-toggleable {\n",
              "  /* Default theme specific background. It is overwritten whether we have a\n",
              "  specific estimator or a Pipeline/ColumnTransformer */\n",
              "  background-color: var(--sklearn-color-background);\n",
              "}\n",
              "\n",
              "/* Toggleable label */\n",
              "#sk-container-id-4 label.sk-toggleable__label {\n",
              "  cursor: pointer;\n",
              "  display: flex;\n",
              "  width: 100%;\n",
              "  margin-bottom: 0;\n",
              "  padding: 0.5em;\n",
              "  box-sizing: border-box;\n",
              "  text-align: center;\n",
              "  align-items: start;\n",
              "  justify-content: space-between;\n",
              "  gap: 0.5em;\n",
              "}\n",
              "\n",
              "#sk-container-id-4 label.sk-toggleable__label .caption {\n",
              "  font-size: 0.6rem;\n",
              "  font-weight: lighter;\n",
              "  color: var(--sklearn-color-text-muted);\n",
              "}\n",
              "\n",
              "#sk-container-id-4 label.sk-toggleable__label-arrow:before {\n",
              "  /* Arrow on the left of the label */\n",
              "  content: \"▸\";\n",
              "  float: left;\n",
              "  margin-right: 0.25em;\n",
              "  color: var(--sklearn-color-icon);\n",
              "}\n",
              "\n",
              "#sk-container-id-4 label.sk-toggleable__label-arrow:hover:before {\n",
              "  color: var(--sklearn-color-text);\n",
              "}\n",
              "\n",
              "/* Toggleable content - dropdown */\n",
              "\n",
              "#sk-container-id-4 div.sk-toggleable__content {\n",
              "  max-height: 0;\n",
              "  max-width: 0;\n",
              "  overflow: hidden;\n",
              "  text-align: left;\n",
              "  /* unfitted */\n",
              "  background-color: var(--sklearn-color-unfitted-level-0);\n",
              "}\n",
              "\n",
              "#sk-container-id-4 div.sk-toggleable__content.fitted {\n",
              "  /* fitted */\n",
              "  background-color: var(--sklearn-color-fitted-level-0);\n",
              "}\n",
              "\n",
              "#sk-container-id-4 div.sk-toggleable__content pre {\n",
              "  margin: 0.2em;\n",
              "  border-radius: 0.25em;\n",
              "  color: var(--sklearn-color-text);\n",
              "  /* unfitted */\n",
              "  background-color: var(--sklearn-color-unfitted-level-0);\n",
              "}\n",
              "\n",
              "#sk-container-id-4 div.sk-toggleable__content.fitted pre {\n",
              "  /* unfitted */\n",
              "  background-color: var(--sklearn-color-fitted-level-0);\n",
              "}\n",
              "\n",
              "#sk-container-id-4 input.sk-toggleable__control:checked~div.sk-toggleable__content {\n",
              "  /* Expand drop-down */\n",
              "  max-height: 200px;\n",
              "  max-width: 100%;\n",
              "  overflow: auto;\n",
              "}\n",
              "\n",
              "#sk-container-id-4 input.sk-toggleable__control:checked~label.sk-toggleable__label-arrow:before {\n",
              "  content: \"▾\";\n",
              "}\n",
              "\n",
              "/* Pipeline/ColumnTransformer-specific style */\n",
              "\n",
              "#sk-container-id-4 div.sk-label input.sk-toggleable__control:checked~label.sk-toggleable__label {\n",
              "  color: var(--sklearn-color-text);\n",
              "  background-color: var(--sklearn-color-unfitted-level-2);\n",
              "}\n",
              "\n",
              "#sk-container-id-4 div.sk-label.fitted input.sk-toggleable__control:checked~label.sk-toggleable__label {\n",
              "  background-color: var(--sklearn-color-fitted-level-2);\n",
              "}\n",
              "\n",
              "/* Estimator-specific style */\n",
              "\n",
              "/* Colorize estimator box */\n",
              "#sk-container-id-4 div.sk-estimator input.sk-toggleable__control:checked~label.sk-toggleable__label {\n",
              "  /* unfitted */\n",
              "  background-color: var(--sklearn-color-unfitted-level-2);\n",
              "}\n",
              "\n",
              "#sk-container-id-4 div.sk-estimator.fitted input.sk-toggleable__control:checked~label.sk-toggleable__label {\n",
              "  /* fitted */\n",
              "  background-color: var(--sklearn-color-fitted-level-2);\n",
              "}\n",
              "\n",
              "#sk-container-id-4 div.sk-label label.sk-toggleable__label,\n",
              "#sk-container-id-4 div.sk-label label {\n",
              "  /* The background is the default theme color */\n",
              "  color: var(--sklearn-color-text-on-default-background);\n",
              "}\n",
              "\n",
              "/* On hover, darken the color of the background */\n",
              "#sk-container-id-4 div.sk-label:hover label.sk-toggleable__label {\n",
              "  color: var(--sklearn-color-text);\n",
              "  background-color: var(--sklearn-color-unfitted-level-2);\n",
              "}\n",
              "\n",
              "/* Label box, darken color on hover, fitted */\n",
              "#sk-container-id-4 div.sk-label.fitted:hover label.sk-toggleable__label.fitted {\n",
              "  color: var(--sklearn-color-text);\n",
              "  background-color: var(--sklearn-color-fitted-level-2);\n",
              "}\n",
              "\n",
              "/* Estimator label */\n",
              "\n",
              "#sk-container-id-4 div.sk-label label {\n",
              "  font-family: monospace;\n",
              "  font-weight: bold;\n",
              "  display: inline-block;\n",
              "  line-height: 1.2em;\n",
              "}\n",
              "\n",
              "#sk-container-id-4 div.sk-label-container {\n",
              "  text-align: center;\n",
              "}\n",
              "\n",
              "/* Estimator-specific */\n",
              "#sk-container-id-4 div.sk-estimator {\n",
              "  font-family: monospace;\n",
              "  border: 1px dotted var(--sklearn-color-border-box);\n",
              "  border-radius: 0.25em;\n",
              "  box-sizing: border-box;\n",
              "  margin-bottom: 0.5em;\n",
              "  /* unfitted */\n",
              "  background-color: var(--sklearn-color-unfitted-level-0);\n",
              "}\n",
              "\n",
              "#sk-container-id-4 div.sk-estimator.fitted {\n",
              "  /* fitted */\n",
              "  background-color: var(--sklearn-color-fitted-level-0);\n",
              "}\n",
              "\n",
              "/* on hover */\n",
              "#sk-container-id-4 div.sk-estimator:hover {\n",
              "  /* unfitted */\n",
              "  background-color: var(--sklearn-color-unfitted-level-2);\n",
              "}\n",
              "\n",
              "#sk-container-id-4 div.sk-estimator.fitted:hover {\n",
              "  /* fitted */\n",
              "  background-color: var(--sklearn-color-fitted-level-2);\n",
              "}\n",
              "\n",
              "/* Specification for estimator info (e.g. \"i\" and \"?\") */\n",
              "\n",
              "/* Common style for \"i\" and \"?\" */\n",
              "\n",
              ".sk-estimator-doc-link,\n",
              "a:link.sk-estimator-doc-link,\n",
              "a:visited.sk-estimator-doc-link {\n",
              "  float: right;\n",
              "  font-size: smaller;\n",
              "  line-height: 1em;\n",
              "  font-family: monospace;\n",
              "  background-color: var(--sklearn-color-background);\n",
              "  border-radius: 1em;\n",
              "  height: 1em;\n",
              "  width: 1em;\n",
              "  text-decoration: none !important;\n",
              "  margin-left: 0.5em;\n",
              "  text-align: center;\n",
              "  /* unfitted */\n",
              "  border: var(--sklearn-color-unfitted-level-1) 1pt solid;\n",
              "  color: var(--sklearn-color-unfitted-level-1);\n",
              "}\n",
              "\n",
              ".sk-estimator-doc-link.fitted,\n",
              "a:link.sk-estimator-doc-link.fitted,\n",
              "a:visited.sk-estimator-doc-link.fitted {\n",
              "  /* fitted */\n",
              "  border: var(--sklearn-color-fitted-level-1) 1pt solid;\n",
              "  color: var(--sklearn-color-fitted-level-1);\n",
              "}\n",
              "\n",
              "/* On hover */\n",
              "div.sk-estimator:hover .sk-estimator-doc-link:hover,\n",
              ".sk-estimator-doc-link:hover,\n",
              "div.sk-label-container:hover .sk-estimator-doc-link:hover,\n",
              ".sk-estimator-doc-link:hover {\n",
              "  /* unfitted */\n",
              "  background-color: var(--sklearn-color-unfitted-level-3);\n",
              "  color: var(--sklearn-color-background);\n",
              "  text-decoration: none;\n",
              "}\n",
              "\n",
              "div.sk-estimator.fitted:hover .sk-estimator-doc-link.fitted:hover,\n",
              ".sk-estimator-doc-link.fitted:hover,\n",
              "div.sk-label-container:hover .sk-estimator-doc-link.fitted:hover,\n",
              ".sk-estimator-doc-link.fitted:hover {\n",
              "  /* fitted */\n",
              "  background-color: var(--sklearn-color-fitted-level-3);\n",
              "  color: var(--sklearn-color-background);\n",
              "  text-decoration: none;\n",
              "}\n",
              "\n",
              "/* Span, style for the box shown on hovering the info icon */\n",
              ".sk-estimator-doc-link span {\n",
              "  display: none;\n",
              "  z-index: 9999;\n",
              "  position: relative;\n",
              "  font-weight: normal;\n",
              "  right: .2ex;\n",
              "  padding: .5ex;\n",
              "  margin: .5ex;\n",
              "  width: min-content;\n",
              "  min-width: 20ex;\n",
              "  max-width: 50ex;\n",
              "  color: var(--sklearn-color-text);\n",
              "  box-shadow: 2pt 2pt 4pt #999;\n",
              "  /* unfitted */\n",
              "  background: var(--sklearn-color-unfitted-level-0);\n",
              "  border: .5pt solid var(--sklearn-color-unfitted-level-3);\n",
              "}\n",
              "\n",
              ".sk-estimator-doc-link.fitted span {\n",
              "  /* fitted */\n",
              "  background: var(--sklearn-color-fitted-level-0);\n",
              "  border: var(--sklearn-color-fitted-level-3);\n",
              "}\n",
              "\n",
              ".sk-estimator-doc-link:hover span {\n",
              "  display: block;\n",
              "}\n",
              "\n",
              "/* \"?\"-specific style due to the `<a>` HTML tag */\n",
              "\n",
              "#sk-container-id-4 a.estimator_doc_link {\n",
              "  float: right;\n",
              "  font-size: 1rem;\n",
              "  line-height: 1em;\n",
              "  font-family: monospace;\n",
              "  background-color: var(--sklearn-color-background);\n",
              "  border-radius: 1rem;\n",
              "  height: 1rem;\n",
              "  width: 1rem;\n",
              "  text-decoration: none;\n",
              "  /* unfitted */\n",
              "  color: var(--sklearn-color-unfitted-level-1);\n",
              "  border: var(--sklearn-color-unfitted-level-1) 1pt solid;\n",
              "}\n",
              "\n",
              "#sk-container-id-4 a.estimator_doc_link.fitted {\n",
              "  /* fitted */\n",
              "  border: var(--sklearn-color-fitted-level-1) 1pt solid;\n",
              "  color: var(--sklearn-color-fitted-level-1);\n",
              "}\n",
              "\n",
              "/* On hover */\n",
              "#sk-container-id-4 a.estimator_doc_link:hover {\n",
              "  /* unfitted */\n",
              "  background-color: var(--sklearn-color-unfitted-level-3);\n",
              "  color: var(--sklearn-color-background);\n",
              "  text-decoration: none;\n",
              "}\n",
              "\n",
              "#sk-container-id-4 a.estimator_doc_link.fitted:hover {\n",
              "  /* fitted */\n",
              "  background-color: var(--sklearn-color-fitted-level-3);\n",
              "}\n",
              "</style><div id=\"sk-container-id-4\" class=\"sk-top-container\"><div class=\"sk-text-repr-fallback\"><pre>LogisticRegression()</pre><b>In a Jupyter environment, please rerun this cell to show the HTML representation or trust the notebook. <br />On GitHub, the HTML representation is unable to render, please try loading this page with nbviewer.org.</b></div><div class=\"sk-container\" hidden><div class=\"sk-item\"><div class=\"sk-estimator fitted sk-toggleable\"><input class=\"sk-toggleable__control sk-hidden--visually\" id=\"sk-estimator-id-4\" type=\"checkbox\" checked><label for=\"sk-estimator-id-4\" class=\"sk-toggleable__label fitted sk-toggleable__label-arrow\"><div><div>LogisticRegression</div></div><div><a class=\"sk-estimator-doc-link fitted\" rel=\"noreferrer\" target=\"_blank\" href=\"https://scikit-learn.org/1.6/modules/generated/sklearn.linear_model.LogisticRegression.html\">?<span>Documentation for LogisticRegression</span></a><span class=\"sk-estimator-doc-link fitted\">i<span>Fitted</span></span></div></label><div class=\"sk-toggleable__content fitted\"><pre>LogisticRegression()</pre></div> </div></div></div></div>"
            ]
          },
          "metadata": {},
          "execution_count": 128
        }
      ]
    },
    {
      "cell_type": "code",
      "source": [
        "train_pred = model.predict(X_train)\n",
        "test_pred = model.predict(X_test)\n",
        "print(f\"Train Accuracy:{accuracy_score(y_train, train_pred)}\")\n",
        "print(f\"Test Accuracy:{accuracy_score(y_test, test_pred)}\")"
      ],
      "metadata": {
        "colab": {
          "base_uri": "https://localhost:8080/"
        },
        "id": "_dSxNpXMZcnD",
        "outputId": "2dd7df80-16ed-4d22-f419-65a083a0e537"
      },
      "execution_count": null,
      "outputs": [
        {
          "output_type": "stream",
          "name": "stdout",
          "text": [
            "Train Accuracy:0.9341666666666667\n",
            "Test Accuracy:0.8766666666666667\n"
          ]
        }
      ]
    },
    {
      "cell_type": "code",
      "source": [
        "with open(\"Output/tf-idf.pkl\", \"wb\") as f:\n",
        "    pickle.dump(vect, f)\n",
        "with open(\"Output/tf-idf_lr.pkl\", \"wb\") as f:\n",
        "    pickle.dump(model, f)"
      ],
      "metadata": {
        "id": "nOi1-dgqZfSq"
      },
      "execution_count": null,
      "outputs": []
    },
    {
      "cell_type": "markdown",
      "source": [
        "# **Section 8. Prediction on New Data**"
      ],
      "metadata": {
        "id": "9G0VznBXZn-P"
      }
    },
    {
      "cell_type": "code",
      "source": [
        "# Sample test reviews\n",
        "test_review_1 = '''this is a truly amazing app , best for those who havw\n",
        "content but don't know how to express it in a good and shareable manner.\n",
        "Thanks Team Canva for such a great app.'''\n",
        "test_review_2 = '''Its the worst app ever I save my design lts not save'''\n",
        "test_review_3 = 'Difficult to use. The interface is not user-friendly. No good for begineer'"
      ],
      "metadata": {
        "id": "apiRMoMwZsAq"
      },
      "execution_count": null,
      "outputs": []
    },
    {
      "cell_type": "code",
      "source": [
        "#Load the best model (n-gram) and its vectorizer\n",
        "vect = pickle.load(open(\"Output/n_gram.pkl\", \"rb\"))\n",
        "model = pickle.load(open(\"Output/n_gram_lr.pkl\", \"rb\"))"
      ],
      "metadata": {
        "id": "olmo1HjoZ9Cj"
      },
      "execution_count": null,
      "outputs": []
    },
    {
      "cell_type": "code",
      "source": [
        "# Convert the reviews to a batch of one record\n",
        "test_review_1 = [test_review_1]\n",
        "test_review_2 = [test_review_2]\n",
        "test_review_3 = [test_review_3]"
      ],
      "metadata": {
        "id": "yRRMJOm2Z_Rq"
      },
      "execution_count": null,
      "outputs": []
    },
    {
      "cell_type": "code",
      "source": [
        "type(test_review_1)\n",
        "print(test_review_1)"
      ],
      "metadata": {
        "colab": {
          "base_uri": "https://localhost:8080/"
        },
        "id": "YgALmNNiaBrD",
        "outputId": "b19a0283-1896-4637-8e7e-97c42298d520"
      },
      "execution_count": null,
      "outputs": [
        {
          "output_type": "stream",
          "name": "stdout",
          "text": [
            "[\"this is a truly amazing app , best for those who havw\\ncontent but don't know how to express it in a good and shareable manner.\\nThanks Team Canva for such a great app.\"]\n"
          ]
        }
      ]
    },
    {
      "cell_type": "code",
      "source": [
        "test_review_1 = [r.lower() for r in test_review_1]\n",
        "test_review_2 = [r.lower() for r in test_review_2]\n",
        "test_review_3 = [r.lower() for r in test_review_3]"
      ],
      "metadata": {
        "id": "hH9KKCSAaEPE"
      },
      "execution_count": null,
      "outputs": []
    },
    {
      "cell_type": "code",
      "source": [
        "tokens_1 = [word_tokenize(r) for r in test_review_1]\n",
        "tokens_2 = [word_tokenize(r) for r in test_review_2]\n",
        "tokens_3 = [word_tokenize(r) for r in test_review_3]"
      ],
      "metadata": {
        "id": "fvkxrwrmaID4"
      },
      "execution_count": null,
      "outputs": []
    },
    {
      "cell_type": "code",
      "source": [
        "tokens_1 = [[word for word in t if word not in sw] for t in tokens_1]\n",
        "tokens_2 = [[word for word in t if word not in sw] for t in tokens_2]\n",
        "tokens_3 = [[word for word in t if word not in sw] for t in tokens_3]"
      ],
      "metadata": {
        "id": "0n5Y7wvBaKec"
      },
      "execution_count": null,
      "outputs": []
    },
    {
      "cell_type": "code",
      "source": [
        "tokens_1 = [[\"\".join(tokenizer.tokenize(word))\n",
        "             for word in t if len(tokenizer.tokenize(word)) > 0]\n",
        "            for t in tokens_1]\n",
        "tokens_2 = [[\"\".join(tokenizer.tokenize(word))\n",
        "             for word in t if len(tokenizer.tokenize(word)) > 0]\n",
        "            for t in tokens_2]\n",
        "tokens_3 = [[\"\".join(tokenizer.tokenize(word))\n",
        "             for word in t if len(tokenizer.tokenize(word)) > 0]\n",
        "            for t in tokens_3]"
      ],
      "metadata": {
        "id": "MzFT-a2naSDj"
      },
      "execution_count": null,
      "outputs": []
    },
    {
      "cell_type": "code",
      "source": [
        "tokens_1 = [[porter.stem(word) for word in t] for t in tokens_1]\n",
        "tokens_2 = [[porter.stem(word) for word in t] for t in tokens_2]\n",
        "tokens_3 = [[porter.stem(word) for word in t] for t in tokens_3]"
      ],
      "metadata": {
        "id": "48H0CFH2aUeD"
      },
      "execution_count": null,
      "outputs": []
    },
    {
      "cell_type": "code",
      "source": [
        "clean_review_1 = [\" \".join(review) for review in tokens_1]\n",
        "clean_review_2 = [\" \".join(review) for review in tokens_2]\n",
        "clean_review_3 = [\" \".join(review) for review in tokens_3]"
      ],
      "metadata": {
        "id": "KNdd9P_2aWsj"
      },
      "execution_count": null,
      "outputs": []
    },
    {
      "cell_type": "code",
      "source": [
        "X_test = vect.transform(clean_review_1)\n",
        "print(X_test.shape)\n",
        "print(model.predict_proba(X_test)) # probability for class 0 (negative) and class 1\n",
        "print(model.predict(X_test))"
      ],
      "metadata": {
        "colab": {
          "base_uri": "https://localhost:8080/"
        },
        "id": "ZBUqd2yCaaDz",
        "outputId": "d7b96579-d567-4bce-9577-36e7cc854f60"
      },
      "execution_count": null,
      "outputs": [
        {
          "output_type": "stream",
          "name": "stdout",
          "text": [
            "(1, 666)\n",
            "[[0.00443387 0.99556613]]\n",
            "[1]\n"
          ]
        }
      ]
    },
    {
      "cell_type": "code",
      "source": [
        "X_test = vect.transform(clean_review_2)\n",
        "print(X_test.shape)\n",
        "print(model.predict_proba(X_test)) # probability for class 0 (negative) and class 1\n",
        "print(model.predict(X_test))"
      ],
      "metadata": {
        "colab": {
          "base_uri": "https://localhost:8080/"
        },
        "id": "N_NvE-4vaciM",
        "outputId": "4e0c6b3b-1bac-471b-f122-a8f4619ffed9"
      },
      "execution_count": null,
      "outputs": [
        {
          "output_type": "stream",
          "name": "stdout",
          "text": [
            "(1, 666)\n",
            "[[0.87712216 0.12287784]]\n",
            "[0]\n"
          ]
        }
      ]
    },
    {
      "cell_type": "code",
      "source": [
        "X_test = vect.transform(clean_review_3)\n",
        "print(X_test.shape)\n",
        "print(model.predict_proba(X_test)) # probability for class 0 (negative) and class 1\n",
        "print(model.predict(X_test))"
      ],
      "metadata": {
        "colab": {
          "base_uri": "https://localhost:8080/"
        },
        "id": "BO_k6TxMafH7",
        "outputId": "f046c58c-988b-4ec5-fb79-2d72dc3827a8"
      },
      "execution_count": null,
      "outputs": [
        {
          "output_type": "stream",
          "name": "stdout",
          "text": [
            "(1, 666)\n",
            "[[0.74332161 0.25667839]]\n",
            "[0]\n"
          ]
        }
      ]
    }
  ]
}